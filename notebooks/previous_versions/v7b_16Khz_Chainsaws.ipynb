{
  "cells": [
    {
      "cell_type": "markdown",
      "metadata": {
        "id": "m174xspUl7LC"
      },
      "source": [
        "# FrugalAI challenge - Chainsaws - preparing a model for Pico\n",
        "\n",
        "### Naive approach, `v7b`\n",
        "\n",
        "\n",
        "```\n",
        "Copyright (c) 2025  @kelu124, Arm Limited, and Contributors. All rights reserved.\n",
        "\n",
        "SPDX-License-Identifier: Apache-2.0\n",
        "```\n",
        "\n",
        "* Based on initial work by : [Sandeep Mistry](https://twitter.com/sandeepmistry), [Henri Woodcock](https://twitter.com/henriwoodcock) from the [Arm Software Developers team](https://twitter.com/armsoftwaredev)\n"
      ]
    },
    {
      "cell_type": "markdown",
      "metadata": {
        "id": "Tn_BKd588L9B"
      },
      "source": [
        "Documentation :\n",
        "* [The authors initial work](https://colab.research.google.com/github/ArmDeveloperEcosystem/ml-audio-classifier-example-for-pico/blob/main/ml_audio_classifier_example_for_pico.ipynb)\n",
        "* This [notebook](https://colab.research.google.com/drive/16OmmqPclU-e1uhNwE0tGWASBocvlu5DA?usp=sharing)\n",
        "* Other resources:\n",
        "  * https://www.tensorflow.org/tutorials/audio/transfer_learning_audio#split_the_data\n"
      ]
    },
    {
      "cell_type": "markdown",
      "metadata": {
        "id": "Ojuc2yoIrA8G"
      },
      "source": [
        "## Install dependencies"
      ]
    },
    {
      "cell_type": "markdown",
      "metadata": {
        "id": "2t4hpGoHoUR6"
      },
      "source": [
        "### Python Libraries\n",
        "\n",
        "Let's start by installing the Python library dependencies:"
      ]
    },
    {
      "cell_type": "code",
      "execution_count": null,
      "metadata": {
        "colab": {
          "base_uri": "https://localhost:8080/"
        },
        "id": "h0xeDhfbQhUc",
        "outputId": "7d079b67-4438-45e8-a348-a828a42bb16c"
      },
      "outputs": [
        {
          "name": "stdout",
          "output_type": "stream",
          "text": [
            "Requirement already satisfied: tf_keras in /usr/local/lib/python3.11/dist-packages (2.18.0)\n",
            "Collecting tensorflow<2.19,>=2.18 (from tf_keras)\n",
            "  Downloading tensorflow-2.18.0-cp311-cp311-manylinux_2_17_x86_64.manylinux2014_x86_64.whl.metadata (4.1 kB)\n",
            "Requirement already satisfied: absl-py>=1.0.0 in /usr/local/lib/python3.11/dist-packages (from tensorflow<2.19,>=2.18->tf_keras) (1.4.0)\n",
            "Requirement already satisfied: astunparse>=1.6.0 in /usr/local/lib/python3.11/dist-packages (from tensorflow<2.19,>=2.18->tf_keras) (1.6.3)\n",
            "Requirement already satisfied: flatbuffers>=24.3.25 in /usr/local/lib/python3.11/dist-packages (from tensorflow<2.19,>=2.18->tf_keras) (25.2.10)\n",
            "Requirement already satisfied: gast!=0.5.0,!=0.5.1,!=0.5.2,>=0.2.1 in /usr/local/lib/python3.11/dist-packages (from tensorflow<2.19,>=2.18->tf_keras) (0.6.0)\n",
            "Requirement already satisfied: google-pasta>=0.1.1 in /usr/local/lib/python3.11/dist-packages (from tensorflow<2.19,>=2.18->tf_keras) (0.2.0)\n",
            "Requirement already satisfied: libclang>=13.0.0 in /usr/local/lib/python3.11/dist-packages (from tensorflow<2.19,>=2.18->tf_keras) (18.1.1)\n",
            "Requirement already satisfied: opt-einsum>=2.3.2 in /usr/local/lib/python3.11/dist-packages (from tensorflow<2.19,>=2.18->tf_keras) (3.4.0)\n",
            "Requirement already satisfied: packaging in /usr/local/lib/python3.11/dist-packages (from tensorflow<2.19,>=2.18->tf_keras) (24.2)\n",
            "Requirement already satisfied: protobuf!=4.21.0,!=4.21.1,!=4.21.2,!=4.21.3,!=4.21.4,!=4.21.5,<6.0.0dev,>=3.20.3 in /usr/local/lib/python3.11/dist-packages (from tensorflow<2.19,>=2.18->tf_keras) (4.25.6)\n",
            "Requirement already satisfied: requests<3,>=2.21.0 in /usr/local/lib/python3.11/dist-packages (from tensorflow<2.19,>=2.18->tf_keras) (2.32.3)\n",
            "Requirement already satisfied: setuptools in /usr/local/lib/python3.11/dist-packages (from tensorflow<2.19,>=2.18->tf_keras) (75.1.0)\n",
            "Requirement already satisfied: six>=1.12.0 in /usr/local/lib/python3.11/dist-packages (from tensorflow<2.19,>=2.18->tf_keras) (1.17.0)\n",
            "Requirement already satisfied: termcolor>=1.1.0 in /usr/local/lib/python3.11/dist-packages (from tensorflow<2.19,>=2.18->tf_keras) (2.5.0)\n",
            "Requirement already satisfied: typing-extensions>=3.6.6 in /usr/local/lib/python3.11/dist-packages (from tensorflow<2.19,>=2.18->tf_keras) (4.12.2)\n",
            "Requirement already satisfied: wrapt>=1.11.0 in /usr/local/lib/python3.11/dist-packages (from tensorflow<2.19,>=2.18->tf_keras) (1.17.2)\n",
            "Requirement already satisfied: grpcio<2.0,>=1.24.3 in /usr/local/lib/python3.11/dist-packages (from tensorflow<2.19,>=2.18->tf_keras) (1.70.0)\n",
            "Collecting tensorboard<2.19,>=2.18 (from tensorflow<2.19,>=2.18->tf_keras)\n",
            "  Downloading tensorboard-2.18.0-py3-none-any.whl.metadata (1.6 kB)\n",
            "Requirement already satisfied: keras>=3.5.0 in /usr/local/lib/python3.11/dist-packages (from tensorflow<2.19,>=2.18->tf_keras) (3.8.0)\n",
            "Requirement already satisfied: numpy<2.1.0,>=1.26.0 in /usr/local/lib/python3.11/dist-packages (from tensorflow<2.19,>=2.18->tf_keras) (1.26.4)\n",
            "Requirement already satisfied: h5py>=3.11.0 in /usr/local/lib/python3.11/dist-packages (from tensorflow<2.19,>=2.18->tf_keras) (3.12.1)\n",
            "Requirement already satisfied: ml-dtypes<0.5.0,>=0.4.0 in /usr/local/lib/python3.11/dist-packages (from tensorflow<2.19,>=2.18->tf_keras) (0.4.1)\n",
            "Requirement already satisfied: tensorflow-io-gcs-filesystem>=0.23.1 in /usr/local/lib/python3.11/dist-packages (from tensorflow<2.19,>=2.18->tf_keras) (0.37.1)\n",
            "Requirement already satisfied: wheel<1.0,>=0.23.0 in /usr/local/lib/python3.11/dist-packages (from astunparse>=1.6.0->tensorflow<2.19,>=2.18->tf_keras) (0.45.1)\n",
            "Requirement already satisfied: rich in /usr/local/lib/python3.11/dist-packages (from keras>=3.5.0->tensorflow<2.19,>=2.18->tf_keras) (13.9.4)\n",
            "Requirement already satisfied: namex in /usr/local/lib/python3.11/dist-packages (from keras>=3.5.0->tensorflow<2.19,>=2.18->tf_keras) (0.0.8)\n",
            "Requirement already satisfied: optree in /usr/local/lib/python3.11/dist-packages (from keras>=3.5.0->tensorflow<2.19,>=2.18->tf_keras) (0.14.0)\n",
            "Requirement already satisfied: charset-normalizer<4,>=2 in /usr/local/lib/python3.11/dist-packages (from requests<3,>=2.21.0->tensorflow<2.19,>=2.18->tf_keras) (3.4.1)\n",
            "Requirement already satisfied: idna<4,>=2.5 in /usr/local/lib/python3.11/dist-packages (from requests<3,>=2.21.0->tensorflow<2.19,>=2.18->tf_keras) (3.10)\n",
            "Requirement already satisfied: urllib3<3,>=1.21.1 in /usr/local/lib/python3.11/dist-packages (from requests<3,>=2.21.0->tensorflow<2.19,>=2.18->tf_keras) (2.3.0)\n",
            "Requirement already satisfied: certifi>=2017.4.17 in /usr/local/lib/python3.11/dist-packages (from requests<3,>=2.21.0->tensorflow<2.19,>=2.18->tf_keras) (2025.1.31)\n",
            "Requirement already satisfied: markdown>=2.6.8 in /usr/local/lib/python3.11/dist-packages (from tensorboard<2.19,>=2.18->tensorflow<2.19,>=2.18->tf_keras) (3.7)\n",
            "Requirement already satisfied: tensorboard-data-server<0.8.0,>=0.7.0 in /usr/local/lib/python3.11/dist-packages (from tensorboard<2.19,>=2.18->tensorflow<2.19,>=2.18->tf_keras) (0.7.2)\n",
            "Requirement already satisfied: werkzeug>=1.0.1 in /usr/local/lib/python3.11/dist-packages (from tensorboard<2.19,>=2.18->tensorflow<2.19,>=2.18->tf_keras) (3.1.3)\n",
            "Requirement already satisfied: MarkupSafe>=2.1.1 in /usr/local/lib/python3.11/dist-packages (from werkzeug>=1.0.1->tensorboard<2.19,>=2.18->tensorflow<2.19,>=2.18->tf_keras) (3.0.2)\n",
            "Requirement already satisfied: markdown-it-py>=2.2.0 in /usr/local/lib/python3.11/dist-packages (from rich->keras>=3.5.0->tensorflow<2.19,>=2.18->tf_keras) (3.0.0)\n",
            "Requirement already satisfied: pygments<3.0.0,>=2.13.0 in /usr/local/lib/python3.11/dist-packages (from rich->keras>=3.5.0->tensorflow<2.19,>=2.18->tf_keras) (2.19.1)\n",
            "Requirement already satisfied: mdurl~=0.1 in /usr/local/lib/python3.11/dist-packages (from markdown-it-py>=2.2.0->rich->keras>=3.5.0->tensorflow<2.19,>=2.18->tf_keras) (0.1.2)\n",
            "Downloading tensorflow-2.18.0-cp311-cp311-manylinux_2_17_x86_64.manylinux2014_x86_64.whl (615.4 MB)\n",
            "\u001b[2K   \u001b[90m━━━━━━━━━━━━━━━━━━━━━━━━━━━━━━━━━━━━━━━━\u001b[0m \u001b[32m615.4/615.4 MB\u001b[0m \u001b[31m1.6 MB/s\u001b[0m eta \u001b[36m0:00:00\u001b[0m\n",
            "\u001b[?25hDownloading tensorboard-2.18.0-py3-none-any.whl (5.5 MB)\n",
            "\u001b[2K   \u001b[90m━━━━━━━━━━━━━━━━━━━━━━━━━━━━━━━━━━━━━━━━\u001b[0m \u001b[32m5.5/5.5 MB\u001b[0m \u001b[31m100.7 MB/s\u001b[0m eta \u001b[36m0:00:00\u001b[0m\n",
            "\u001b[?25hInstalling collected packages: tensorboard, tensorflow\n",
            "  Attempting uninstall: tensorboard\n",
            "    Found existing installation: tensorboard 2.17.1\n",
            "    Uninstalling tensorboard-2.17.1:\n",
            "      Successfully uninstalled tensorboard-2.17.1\n",
            "  Attempting uninstall: tensorflow\n",
            "    Found existing installation: tensorflow 2.17.1\n",
            "    Uninstalling tensorflow-2.17.1:\n",
            "      Successfully uninstalled tensorflow-2.17.1\n",
            "Successfully installed tensorboard-2.18.0 tensorflow-2.18.0\n"
          ]
        }
      ],
      "source": [
        "!pip install tf_keras"
      ]
    },
    {
      "cell_type": "code",
      "execution_count": null,
      "metadata": {
        "id": "lG9zgj_nQlf2"
      },
      "outputs": [],
      "source": [
        "import os\n",
        "os.environ['TF_USE_LEGACY_KERAS'] = \"1\""
      ]
    },
    {
      "cell_type": "code",
      "execution_count": null,
      "metadata": {
        "colab": {
          "base_uri": "https://localhost:8080/"
        },
        "id": "vMuaEzlPYcg_",
        "outputId": "98a5378f-6733-4dc8-a7a5-30c4235e5466"
      },
      "outputs": [
        {
          "name": "stdout",
          "output_type": "stream",
          "text": [
            "Drive already mounted at /content/drive; to attempt to forcibly remount, call drive.mount(\"/content/drive\", force_remount=True).\n"
          ]
        }
      ],
      "source": [
        "try:\n",
        "  from google.colab import drive\n",
        "  drive.mount('/content/drive')\n",
        "except:\n",
        "  pass"
      ]
    },
    {
      "cell_type": "code",
      "execution_count": null,
      "metadata": {
        "id": "ozOhN3r4JX2u"
      },
      "outputs": [],
      "source": [
        "REDO = False"
      ]
    },
    {
      "cell_type": "code",
      "execution_count": null,
      "metadata": {
        "colab": {
          "base_uri": "https://localhost:8080/"
        },
        "id": "eXIBODZhYp6z",
        "outputId": "52773f27-67b9-47e0-b36f-e325977f3f71"
      },
      "outputs": [
        {
          "name": "stdout",
          "output_type": "stream",
          "text": [
            "Requirement already satisfied: tensorflow-io==0.37.1 in /usr/local/lib/python3.11/dist-packages (0.37.1)\n",
            "Collecting tensorflow==2.17.1\n",
            "  Using cached tensorflow-2.17.1-cp311-cp311-manylinux_2_17_x86_64.manylinux2014_x86_64.whl.metadata (4.2 kB)\n",
            "Requirement already satisfied: tensorflow-model-optimization==0.8.0 in /usr/local/lib/python3.11/dist-packages (0.8.0)\n",
            "Requirement already satisfied: librosa==0.10.2.post1 in /usr/local/lib/python3.11/dist-packages (0.10.2.post1)\n",
            "Requirement already satisfied: matplotlib in /usr/local/lib/python3.11/dist-packages (3.10.0)\n",
            "Requirement already satisfied: pandas in /usr/local/lib/python3.11/dist-packages (2.2.2)\n",
            "Requirement already satisfied: datasets in /usr/local/lib/python3.11/dist-packages (3.3.0)\n",
            "Requirement already satisfied: tensorflow-io-gcs-filesystem==0.37.1 in /usr/local/lib/python3.11/dist-packages (from tensorflow-io==0.37.1) (0.37.1)\n",
            "Requirement already satisfied: absl-py>=1.0.0 in /usr/local/lib/python3.11/dist-packages (from tensorflow==2.17.1) (1.4.0)\n",
            "Requirement already satisfied: astunparse>=1.6.0 in /usr/local/lib/python3.11/dist-packages (from tensorflow==2.17.1) (1.6.3)\n",
            "Requirement already satisfied: flatbuffers>=24.3.25 in /usr/local/lib/python3.11/dist-packages (from tensorflow==2.17.1) (25.2.10)\n",
            "Requirement already satisfied: gast!=0.5.0,!=0.5.1,!=0.5.2,>=0.2.1 in /usr/local/lib/python3.11/dist-packages (from tensorflow==2.17.1) (0.6.0)\n",
            "Requirement already satisfied: google-pasta>=0.1.1 in /usr/local/lib/python3.11/dist-packages (from tensorflow==2.17.1) (0.2.0)\n",
            "Requirement already satisfied: h5py>=3.10.0 in /usr/local/lib/python3.11/dist-packages (from tensorflow==2.17.1) (3.12.1)\n",
            "Requirement already satisfied: libclang>=13.0.0 in /usr/local/lib/python3.11/dist-packages (from tensorflow==2.17.1) (18.1.1)\n",
            "Requirement already satisfied: ml-dtypes<0.5.0,>=0.3.1 in /usr/local/lib/python3.11/dist-packages (from tensorflow==2.17.1) (0.4.1)\n",
            "Requirement already satisfied: opt-einsum>=2.3.2 in /usr/local/lib/python3.11/dist-packages (from tensorflow==2.17.1) (3.4.0)\n",
            "Requirement already satisfied: packaging in /usr/local/lib/python3.11/dist-packages (from tensorflow==2.17.1) (24.2)\n",
            "Requirement already satisfied: protobuf!=4.21.0,!=4.21.1,!=4.21.2,!=4.21.3,!=4.21.4,!=4.21.5,<5.0.0dev,>=3.20.3 in /usr/local/lib/python3.11/dist-packages (from tensorflow==2.17.1) (4.25.6)\n",
            "Requirement already satisfied: requests<3,>=2.21.0 in /usr/local/lib/python3.11/dist-packages (from tensorflow==2.17.1) (2.32.3)\n",
            "Requirement already satisfied: setuptools in /usr/local/lib/python3.11/dist-packages (from tensorflow==2.17.1) (75.1.0)\n",
            "Requirement already satisfied: six>=1.12.0 in /usr/local/lib/python3.11/dist-packages (from tensorflow==2.17.1) (1.17.0)\n",
            "Requirement already satisfied: termcolor>=1.1.0 in /usr/local/lib/python3.11/dist-packages (from tensorflow==2.17.1) (2.5.0)\n",
            "Requirement already satisfied: typing-extensions>=3.6.6 in /usr/local/lib/python3.11/dist-packages (from tensorflow==2.17.1) (4.12.2)\n",
            "Requirement already satisfied: wrapt>=1.11.0 in /usr/local/lib/python3.11/dist-packages (from tensorflow==2.17.1) (1.17.2)\n",
            "Requirement already satisfied: grpcio<2.0,>=1.24.3 in /usr/local/lib/python3.11/dist-packages (from tensorflow==2.17.1) (1.70.0)\n",
            "Collecting tensorboard<2.18,>=2.17 (from tensorflow==2.17.1)\n",
            "  Using cached tensorboard-2.17.1-py3-none-any.whl.metadata (1.6 kB)\n",
            "Requirement already satisfied: keras>=3.2.0 in /usr/local/lib/python3.11/dist-packages (from tensorflow==2.17.1) (3.8.0)\n",
            "Requirement already satisfied: numpy<2.0.0,>=1.23.5 in /usr/local/lib/python3.11/dist-packages (from tensorflow==2.17.1) (1.26.4)\n",
            "Requirement already satisfied: dm-tree~=0.1.1 in /usr/local/lib/python3.11/dist-packages (from tensorflow-model-optimization==0.8.0) (0.1.9)\n",
            "Requirement already satisfied: audioread>=2.1.9 in /usr/local/lib/python3.11/dist-packages (from librosa==0.10.2.post1) (3.0.1)\n",
            "Requirement already satisfied: scipy>=1.2.0 in /usr/local/lib/python3.11/dist-packages (from librosa==0.10.2.post1) (1.13.1)\n",
            "Requirement already satisfied: scikit-learn>=0.20.0 in /usr/local/lib/python3.11/dist-packages (from librosa==0.10.2.post1) (1.6.1)\n",
            "Requirement already satisfied: joblib>=0.14 in /usr/local/lib/python3.11/dist-packages (from librosa==0.10.2.post1) (1.4.2)\n",
            "Requirement already satisfied: decorator>=4.3.0 in /usr/local/lib/python3.11/dist-packages (from librosa==0.10.2.post1) (5.1.1)\n",
            "Requirement already satisfied: numba>=0.51.0 in /usr/local/lib/python3.11/dist-packages (from librosa==0.10.2.post1) (0.61.0)\n",
            "Requirement already satisfied: soundfile>=0.12.1 in /usr/local/lib/python3.11/dist-packages (from librosa==0.10.2.post1) (0.13.1)\n",
            "Requirement already satisfied: pooch>=1.1 in /usr/local/lib/python3.11/dist-packages (from librosa==0.10.2.post1) (1.8.2)\n",
            "Requirement already satisfied: soxr>=0.3.2 in /usr/local/lib/python3.11/dist-packages (from librosa==0.10.2.post1) (0.5.0.post1)\n",
            "Requirement already satisfied: lazy-loader>=0.1 in /usr/local/lib/python3.11/dist-packages (from librosa==0.10.2.post1) (0.4)\n",
            "Requirement already satisfied: msgpack>=1.0 in /usr/local/lib/python3.11/dist-packages (from librosa==0.10.2.post1) (1.1.0)\n",
            "Requirement already satisfied: contourpy>=1.0.1 in /usr/local/lib/python3.11/dist-packages (from matplotlib) (1.3.1)\n",
            "Requirement already satisfied: cycler>=0.10 in /usr/local/lib/python3.11/dist-packages (from matplotlib) (0.12.1)\n",
            "Requirement already satisfied: fonttools>=4.22.0 in /usr/local/lib/python3.11/dist-packages (from matplotlib) (4.56.0)\n",
            "Requirement already satisfied: kiwisolver>=1.3.1 in /usr/local/lib/python3.11/dist-packages (from matplotlib) (1.4.8)\n",
            "Requirement already satisfied: pillow>=8 in /usr/local/lib/python3.11/dist-packages (from matplotlib) (11.1.0)\n",
            "Requirement already satisfied: pyparsing>=2.3.1 in /usr/local/lib/python3.11/dist-packages (from matplotlib) (3.2.1)\n",
            "Requirement already satisfied: python-dateutil>=2.7 in /usr/local/lib/python3.11/dist-packages (from matplotlib) (2.9.0.post0)\n",
            "Requirement already satisfied: pytz>=2020.1 in /usr/local/lib/python3.11/dist-packages (from pandas) (2025.1)\n",
            "Requirement already satisfied: tzdata>=2022.7 in /usr/local/lib/python3.11/dist-packages (from pandas) (2025.1)\n",
            "Requirement already satisfied: filelock in /usr/local/lib/python3.11/dist-packages (from datasets) (3.17.0)\n",
            "Requirement already satisfied: pyarrow>=15.0.0 in /usr/local/lib/python3.11/dist-packages (from datasets) (19.0.0)\n",
            "Requirement already satisfied: dill<0.3.9,>=0.3.0 in /usr/local/lib/python3.11/dist-packages (from datasets) (0.3.8)\n",
            "Requirement already satisfied: tqdm>=4.66.3 in /usr/local/lib/python3.11/dist-packages (from datasets) (4.67.1)\n",
            "Requirement already satisfied: xxhash in /usr/local/lib/python3.11/dist-packages (from datasets) (3.5.0)\n",
            "Requirement already satisfied: multiprocess<0.70.17 in /usr/local/lib/python3.11/dist-packages (from datasets) (0.70.16)\n",
            "Requirement already satisfied: fsspec<=2024.12.0,>=2023.1.0 in /usr/local/lib/python3.11/dist-packages (from fsspec[http]<=2024.12.0,>=2023.1.0->datasets) (2024.12.0)\n",
            "Requirement already satisfied: aiohttp in /usr/local/lib/python3.11/dist-packages (from datasets) (3.11.12)\n",
            "Requirement already satisfied: huggingface-hub>=0.24.0 in /usr/local/lib/python3.11/dist-packages (from datasets) (0.28.1)\n",
            "Requirement already satisfied: pyyaml>=5.1 in /usr/local/lib/python3.11/dist-packages (from datasets) (6.0.2)\n",
            "Requirement already satisfied: wheel<1.0,>=0.23.0 in /usr/local/lib/python3.11/dist-packages (from astunparse>=1.6.0->tensorflow==2.17.1) (0.45.1)\n",
            "Requirement already satisfied: attrs>=18.2.0 in /usr/local/lib/python3.11/dist-packages (from dm-tree~=0.1.1->tensorflow-model-optimization==0.8.0) (25.1.0)\n",
            "Requirement already satisfied: aiohappyeyeballs>=2.3.0 in /usr/local/lib/python3.11/dist-packages (from aiohttp->datasets) (2.4.6)\n",
            "Requirement already satisfied: aiosignal>=1.1.2 in /usr/local/lib/python3.11/dist-packages (from aiohttp->datasets) (1.3.2)\n",
            "Requirement already satisfied: frozenlist>=1.1.1 in /usr/local/lib/python3.11/dist-packages (from aiohttp->datasets) (1.5.0)\n",
            "Requirement already satisfied: multidict<7.0,>=4.5 in /usr/local/lib/python3.11/dist-packages (from aiohttp->datasets) (6.1.0)\n",
            "Requirement already satisfied: propcache>=0.2.0 in /usr/local/lib/python3.11/dist-packages (from aiohttp->datasets) (0.2.1)\n",
            "Requirement already satisfied: yarl<2.0,>=1.17.0 in /usr/local/lib/python3.11/dist-packages (from aiohttp->datasets) (1.18.3)\n",
            "Requirement already satisfied: rich in /usr/local/lib/python3.11/dist-packages (from keras>=3.2.0->tensorflow==2.17.1) (13.9.4)\n",
            "Requirement already satisfied: namex in /usr/local/lib/python3.11/dist-packages (from keras>=3.2.0->tensorflow==2.17.1) (0.0.8)\n",
            "Requirement already satisfied: optree in /usr/local/lib/python3.11/dist-packages (from keras>=3.2.0->tensorflow==2.17.1) (0.14.0)\n",
            "Requirement already satisfied: llvmlite<0.45,>=0.44.0dev0 in /usr/local/lib/python3.11/dist-packages (from numba>=0.51.0->librosa==0.10.2.post1) (0.44.0)\n",
            "Requirement already satisfied: platformdirs>=2.5.0 in /usr/local/lib/python3.11/dist-packages (from pooch>=1.1->librosa==0.10.2.post1) (4.3.6)\n",
            "Requirement already satisfied: charset-normalizer<4,>=2 in /usr/local/lib/python3.11/dist-packages (from requests<3,>=2.21.0->tensorflow==2.17.1) (3.4.1)\n",
            "Requirement already satisfied: idna<4,>=2.5 in /usr/local/lib/python3.11/dist-packages (from requests<3,>=2.21.0->tensorflow==2.17.1) (3.10)\n",
            "Requirement already satisfied: urllib3<3,>=1.21.1 in /usr/local/lib/python3.11/dist-packages (from requests<3,>=2.21.0->tensorflow==2.17.1) (2.3.0)\n",
            "Requirement already satisfied: certifi>=2017.4.17 in /usr/local/lib/python3.11/dist-packages (from requests<3,>=2.21.0->tensorflow==2.17.1) (2025.1.31)\n",
            "Requirement already satisfied: threadpoolctl>=3.1.0 in /usr/local/lib/python3.11/dist-packages (from scikit-learn>=0.20.0->librosa==0.10.2.post1) (3.5.0)\n",
            "Requirement already satisfied: cffi>=1.0 in /usr/local/lib/python3.11/dist-packages (from soundfile>=0.12.1->librosa==0.10.2.post1) (1.17.1)\n",
            "Requirement already satisfied: markdown>=2.6.8 in /usr/local/lib/python3.11/dist-packages (from tensorboard<2.18,>=2.17->tensorflow==2.17.1) (3.7)\n",
            "Requirement already satisfied: tensorboard-data-server<0.8.0,>=0.7.0 in /usr/local/lib/python3.11/dist-packages (from tensorboard<2.18,>=2.17->tensorflow==2.17.1) (0.7.2)\n",
            "Requirement already satisfied: werkzeug>=1.0.1 in /usr/local/lib/python3.11/dist-packages (from tensorboard<2.18,>=2.17->tensorflow==2.17.1) (3.1.3)\n",
            "Requirement already satisfied: pycparser in /usr/local/lib/python3.11/dist-packages (from cffi>=1.0->soundfile>=0.12.1->librosa==0.10.2.post1) (2.22)\n",
            "Requirement already satisfied: MarkupSafe>=2.1.1 in /usr/local/lib/python3.11/dist-packages (from werkzeug>=1.0.1->tensorboard<2.18,>=2.17->tensorflow==2.17.1) (3.0.2)\n",
            "Requirement already satisfied: markdown-it-py>=2.2.0 in /usr/local/lib/python3.11/dist-packages (from rich->keras>=3.2.0->tensorflow==2.17.1) (3.0.0)\n",
            "Requirement already satisfied: pygments<3.0.0,>=2.13.0 in /usr/local/lib/python3.11/dist-packages (from rich->keras>=3.2.0->tensorflow==2.17.1) (2.19.1)\n",
            "Requirement already satisfied: mdurl~=0.1 in /usr/local/lib/python3.11/dist-packages (from markdown-it-py>=2.2.0->rich->keras>=3.2.0->tensorflow==2.17.1) (0.1.2)\n",
            "Using cached tensorflow-2.17.1-cp311-cp311-manylinux_2_17_x86_64.manylinux2014_x86_64.whl (601.3 MB)\n",
            "Using cached tensorboard-2.17.1-py3-none-any.whl (5.5 MB)\n",
            "Installing collected packages: tensorboard, tensorflow\n",
            "  Attempting uninstall: tensorboard\n",
            "    Found existing installation: tensorboard 2.18.0\n",
            "    Uninstalling tensorboard-2.18.0:\n",
            "      Successfully uninstalled tensorboard-2.18.0\n",
            "  Attempting uninstall: tensorflow\n",
            "    Found existing installation: tensorflow 2.18.0\n",
            "    Uninstalling tensorflow-2.18.0:\n",
            "      Successfully uninstalled tensorflow-2.18.0\n",
            "\u001b[31mERROR: pip's dependency resolver does not currently take into account all the packages that are installed. This behaviour is the source of the following dependency conflicts.\n",
            "tensorflow-text 2.18.1 requires tensorflow<2.19,>=2.18.0, but you have tensorflow 2.17.1 which is incompatible.\n",
            "tf-keras 2.18.0 requires tensorflow<2.19,>=2.18, but you have tensorflow 2.17.1 which is incompatible.\n",
            "tensorflow-tpu 2.18.0 requires tensorboard<2.19,>=2.18, but you have tensorboard 2.17.1 which is incompatible.\u001b[0m\u001b[31m\n",
            "\u001b[0mSuccessfully installed tensorboard-2.17.1 tensorflow-2.17.1\n"
          ]
        }
      ],
      "source": [
        "#!pip install -r /content/drive/MyDrive/frugal/requirements.txt\n",
        "!pip install tensorflow-io==0.37.1 tensorflow==2.17.1 tensorflow-model-optimization==0.8.0 librosa==0.10.2.post1 matplotlib pandas datasets\n"
      ]
    },
    {
      "cell_type": "code",
      "execution_count": null,
      "metadata": {
        "colab": {
          "base_uri": "https://localhost:8080/"
        },
        "id": "531T-PhZhcA7",
        "outputId": "be249d78-ad80-4886-cfdc-544783448fa3"
      },
      "outputs": [
        {
          "name": "stdout",
          "output_type": "stream",
          "text": [
            "Collecting CMSISDSP\n",
            "  Cloning https://github.com/ARM-software/CMSIS_5.git (to revision 5.8.0) to /tmp/pip-install-kxcbl6b9/cmsisdsp_58e78359c1924ec4ba1fe515bf46f43d\n",
            "  Running command git clone --filter=blob:none --quiet https://github.com/ARM-software/CMSIS_5.git /tmp/pip-install-kxcbl6b9/cmsisdsp_58e78359c1924ec4ba1fe515bf46f43d\n",
            "  Running command git checkout -q 649bd8aa41ed7d86b416c89cdb4b820b899a4cbc\n",
            "  Resolved https://github.com/ARM-software/CMSIS_5.git to commit 649bd8aa41ed7d86b416c89cdb4b820b899a4cbc\n",
            "  Preparing metadata (setup.py) ... \u001b[?25l\u001b[?25hdone\n"
          ]
        }
      ],
      "source": [
        "# # Pico related library\n",
        "!pip install git+https://github.com/ARM-software/CMSIS_5.git@5.8.0#egg=CMSISDSP\\&subdirectory=CMSIS/DSP/PythonWrapper\n",
        "#!pip freeze > /content/drive/MyDrive/frugal/requirements.txt"
      ]
    },
    {
      "cell_type": "code",
      "execution_count": null,
      "metadata": {
        "colab": {
          "base_uri": "https://localhost:8080/"
        },
        "id": "tu_WUu5VnzNZ",
        "outputId": "e39397f3-bb06-4895-f5de-3e0454d5227d"
      },
      "outputs": [
        {
          "name": "stdout",
          "output_type": "stream",
          "text": [
            "Python 3.11.11\n",
            "pip 24.1.2 from /usr/local/lib/python3.11/dist-packages/pip (python 3.11)\n"
          ]
        }
      ],
      "source": [
        "!python --version\n",
        "!pip --version\n"
      ]
    },
    {
      "cell_type": "markdown",
      "metadata": {
        "id": "Ck00vnPDnSou"
      },
      "source": []
    },
    {
      "cell_type": "code",
      "execution_count": null,
      "metadata": {
        "colab": {
          "base_uri": "https://localhost:8080/"
        },
        "id": "KD13h1ojSlHN",
        "outputId": "83da6ec9-928d-42ab-d74f-a4ec04e84547"
      },
      "outputs": [
        {
          "name": "stdout",
          "output_type": "stream",
          "text": [
            "v2.17.0-18-g3c92ac03cab 2.17.1\n",
            "2.17.1\n"
          ]
        }
      ],
      "source": [
        "import tensorflow as tf\n",
        "# Connect to google drive\n",
        "\n",
        "print(tf.version.GIT_VERSION, tf.version.VERSION)\n",
        "print(tf.__version__)\n",
        "\n",
        "import numpy as np\n",
        "import pandas as pd\n",
        "import glob\n",
        "from tqdm import tqdm\n",
        "import soundfile as sf\n",
        "import json\n",
        "from os import path\n",
        "from datasets import load_dataset"
      ]
    },
    {
      "cell_type": "markdown",
      "metadata": {
        "id": "HMuv2599z8hy"
      },
      "source": [
        "## Baseline model\n",
        "\n",
        "Dataset: HuggingFace: \"rfcx/frugalai\"\n",
        "\n",
        "### Prepare dataset\n",
        "\n",
        "#### Download and extract"
      ]
    },
    {
      "cell_type": "code",
      "execution_count": null,
      "metadata": {
        "id": "pUlygjmQISDG"
      },
      "outputs": [],
      "source": [
        "# download the dataset\n",
        "# Have your HuggingFace HF_TOKEN ready and made available!\n",
        "if not os.path.isfile(\"/content/drive/MyDrive/frugal/datasets/train.parquet.gzip\") or REDO:\n",
        "  dasaset = load_dataset(\n",
        "    \"rfcx/frugalai\",\n",
        "    name=\"default\",\n",
        "    num_proc=10,\n",
        "    cache_dir=\"cache/\"\n",
        "  )"
      ]
    },
    {
      "cell_type": "code",
      "execution_count": null,
      "metadata": {
        "colab": {
          "base_uri": "https://localhost:8080/"
        },
        "collapsed": true,
        "id": "OOZf3FYnxw0e",
        "outputId": "04021edc-2f41-40c1-aa71-ad18dfeb86e5"
      },
      "outputs": [
        {
          "data": {
            "text/plain": []
          },
          "execution_count": 10,
          "metadata": {},
          "output_type": "execute_result"
        }
      ],
      "source": [
        "%%shell\n",
        "mkdir -p \"/content/drive/MyDrive/frugal/\"\n",
        "mkdir -p \"/content/drive/MyDrive/frugal/datasets/\"\n",
        "mkdir -p \"/content/drive/MyDrive/frugal/datasets/frugalai\"\n",
        "mkdir -p \"/content/drive/MyDrive/frugal/datasets/frugalai/wav/\"\n",
        "mkdir -p \"./wav/\"\n"
      ]
    },
    {
      "cell_type": "code",
      "execution_count": null,
      "metadata": {
        "id": "PWyMEh6KIIHn"
      },
      "outputs": [],
      "source": [
        "#%%shell\n",
        "#cp \"/content/drive/MyDrive/frugal/datasets/train.parquet.gzip\" \"train.parquet.gzip\""
      ]
    },
    {
      "cell_type": "code",
      "execution_count": null,
      "metadata": {
        "colab": {
          "base_uri": "https://localhost:8080/"
        },
        "id": "emKnehJGX8tW",
        "outputId": "3f073eac-33aa-4c9e-ad27-fa0bedf8c5fe"
      },
      "outputs": [
        {
          "name": "stdout",
          "output_type": "stream",
          "text": [
            "Choice: create_spectrogram_for_map\n"
          ]
        }
      ],
      "source": [
        "# Choose the setting of spectrogram between\n",
        "spectrogram_setting = \"create_spectrogram_for_map\"\n",
        "\n",
        "print(\"Choice:\",spectrogram_setting)"
      ]
    },
    {
      "cell_type": "markdown",
      "metadata": {
        "id": "mh9gP4EXSoWp"
      },
      "source": [
        "## Creating sound files"
      ]
    },
    {
      "cell_type": "code",
      "execution_count": null,
      "metadata": {
        "collapsed": true,
        "id": "NxUUJbb7x-DS"
      },
      "outputs": [],
      "source": [
        "# Takes 3 mins with T4 instance\n",
        "# 29s when files exist\n",
        "if not os.path.isfile(\"/content/drive/MyDrive/frugal/datasets/train.parquet.gzip\") or REDO:\n",
        "  for x in range(len(dasaset[\"train\"])):\n",
        "    d = dasaset[\"train\"][x]\n",
        "    # Saves WAVs to the DRIVE folder\n",
        "    if REDO:\n",
        "      filepath = \"wav/\"+d[\"audio\"][\"path\"]\n",
        "    else:\n",
        "      filepath = \"/content/drive/MyDrive/frugal/datasets/frugalai/wav/\"+d[\"audio\"][\"path\"]\n",
        "    if not os.path.isfile(filepath):\n",
        "      if len(d['audio']['array']) == 36000:\n",
        "        sf.write(filepath, d[\"audio\"][\"array\"], d[\"audio\"][\"sampling_rate\"])\n"
      ]
    },
    {
      "cell_type": "code",
      "execution_count": null,
      "metadata": {
        "colab": {
          "base_uri": "https://localhost:8080/",
          "height": 206
        },
        "id": "uh2LhV6A0WtB",
        "outputId": "b8a87cc0-6e92-48a1-c0bb-a68c992e888e"
      },
      "outputs": [
        {
          "data": {
            "application/vnd.google.colaboratory.intrinsic+json": {
              "summary": "{\n  \"name\": \"DF\",\n  \"rows\": 32882,\n  \"fields\": [\n    {\n      \"column\": \"path\",\n      \"properties\": {\n        \"dtype\": \"string\",\n        \"num_unique_values\": 32882,\n        \"samples\": [\n          \"osa_e4139eaa-b6f6-443e-b82e-f84685e97166_43-46.wav\",\n          \"warsi_2020_38232d65-c9ec-4a30-a3c6-b2c8600dee66_66-69.wav\",\n          \"palawan_2020_ffd1baa5-7a39-43db-99d2-9c9f4984040e_40-43.wav\"\n        ],\n        \"semantic_type\": \"\",\n        \"description\": \"\"\n      }\n    },\n    {\n      \"column\": \"sampling_rate\",\n      \"properties\": {\n        \"dtype\": \"number\",\n        \"std\": 0,\n        \"min\": 12000,\n        \"max\": 12000,\n        \"num_unique_values\": 1,\n        \"samples\": [\n          12000\n        ],\n        \"semantic_type\": \"\",\n        \"description\": \"\"\n      }\n    },\n    {\n      \"column\": \"label\",\n      \"properties\": {\n        \"dtype\": \"number\",\n        \"std\": 0,\n        \"min\": 0,\n        \"max\": 1,\n        \"num_unique_values\": 2,\n        \"samples\": [\n          0\n        ],\n        \"semantic_type\": \"\",\n        \"description\": \"\"\n      }\n    },\n    {\n      \"column\": \"fullpath\",\n      \"properties\": {\n        \"dtype\": \"string\",\n        \"num_unique_values\": 32882,\n        \"samples\": [\n          \"/content/drive/MyDrive/frugal/datasets/frugalai/wav/osa_e4139eaa-b6f6-443e-b82e-f84685e97166_43-46.wav\"\n        ],\n        \"semantic_type\": \"\",\n        \"description\": \"\"\n      }\n    }\n  ]\n}",
              "type": "dataframe",
              "variable_name": "DF"
            },
            "text/html": [
              "\n",
              "  <div id=\"df-627c7220-4418-4960-8fac-ddfe220a29e4\" class=\"colab-df-container\">\n",
              "    <div>\n",
              "<style scoped>\n",
              "    .dataframe tbody tr th:only-of-type {\n",
              "        vertical-align: middle;\n",
              "    }\n",
              "\n",
              "    .dataframe tbody tr th {\n",
              "        vertical-align: top;\n",
              "    }\n",
              "\n",
              "    .dataframe thead th {\n",
              "        text-align: right;\n",
              "    }\n",
              "</style>\n",
              "<table border=\"1\" class=\"dataframe\">\n",
              "  <thead>\n",
              "    <tr style=\"text-align: right;\">\n",
              "      <th></th>\n",
              "      <th>path</th>\n",
              "      <th>sampling_rate</th>\n",
              "      <th>label</th>\n",
              "      <th>fullpath</th>\n",
              "    </tr>\n",
              "  </thead>\n",
              "  <tbody>\n",
              "    <tr>\n",
              "      <th>0</th>\n",
              "      <td>pooks_6ebcaf77-aa92-4f10-984e-ecc5a919bcbb_41-...</td>\n",
              "      <td>12000</td>\n",
              "      <td>1</td>\n",
              "      <td>/content/drive/MyDrive/frugal/datasets/frugala...</td>\n",
              "    </tr>\n",
              "    <tr>\n",
              "      <th>1</th>\n",
              "      <td>warsi_2020_1275aa58-5cf4-4620-9c8f-78e1cb39864...</td>\n",
              "      <td>12000</td>\n",
              "      <td>0</td>\n",
              "      <td>/content/drive/MyDrive/frugal/datasets/frugala...</td>\n",
              "    </tr>\n",
              "    <tr>\n",
              "      <th>2</th>\n",
              "      <td>warsi_2021_ec626f56-e094-4729-bf1f-e3737e09231...</td>\n",
              "      <td>12000</td>\n",
              "      <td>0</td>\n",
              "      <td>/content/drive/MyDrive/frugal/datasets/frugala...</td>\n",
              "    </tr>\n",
              "    <tr>\n",
              "      <th>3</th>\n",
              "      <td>warsi_2020_c74e499c-3720-4727-8213-1fe5f032f8c...</td>\n",
              "      <td>12000</td>\n",
              "      <td>0</td>\n",
              "      <td>/content/drive/MyDrive/frugal/datasets/frugala...</td>\n",
              "    </tr>\n",
              "    <tr>\n",
              "      <th>5</th>\n",
              "      <td>pooks_bcc12bdc-516a-4615-b642-590e66b697ad_80-...</td>\n",
              "      <td>12000</td>\n",
              "      <td>1</td>\n",
              "      <td>/content/drive/MyDrive/frugal/datasets/frugala...</td>\n",
              "    </tr>\n",
              "  </tbody>\n",
              "</table>\n",
              "</div>\n",
              "    <div class=\"colab-df-buttons\">\n",
              "\n",
              "  <div class=\"colab-df-container\">\n",
              "    <button class=\"colab-df-convert\" onclick=\"convertToInteractive('df-627c7220-4418-4960-8fac-ddfe220a29e4')\"\n",
              "            title=\"Convert this dataframe to an interactive table.\"\n",
              "            style=\"display:none;\">\n",
              "\n",
              "  <svg xmlns=\"http://www.w3.org/2000/svg\" height=\"24px\" viewBox=\"0 -960 960 960\">\n",
              "    <path d=\"M120-120v-720h720v720H120Zm60-500h600v-160H180v160Zm220 220h160v-160H400v160Zm0 220h160v-160H400v160ZM180-400h160v-160H180v160Zm440 0h160v-160H620v160ZM180-180h160v-160H180v160Zm440 0h160v-160H620v160Z\"/>\n",
              "  </svg>\n",
              "    </button>\n",
              "\n",
              "  <style>\n",
              "    .colab-df-container {\n",
              "      display:flex;\n",
              "      gap: 12px;\n",
              "    }\n",
              "\n",
              "    .colab-df-convert {\n",
              "      background-color: #E8F0FE;\n",
              "      border: none;\n",
              "      border-radius: 50%;\n",
              "      cursor: pointer;\n",
              "      display: none;\n",
              "      fill: #1967D2;\n",
              "      height: 32px;\n",
              "      padding: 0 0 0 0;\n",
              "      width: 32px;\n",
              "    }\n",
              "\n",
              "    .colab-df-convert:hover {\n",
              "      background-color: #E2EBFA;\n",
              "      box-shadow: 0px 1px 2px rgba(60, 64, 67, 0.3), 0px 1px 3px 1px rgba(60, 64, 67, 0.15);\n",
              "      fill: #174EA6;\n",
              "    }\n",
              "\n",
              "    .colab-df-buttons div {\n",
              "      margin-bottom: 4px;\n",
              "    }\n",
              "\n",
              "    [theme=dark] .colab-df-convert {\n",
              "      background-color: #3B4455;\n",
              "      fill: #D2E3FC;\n",
              "    }\n",
              "\n",
              "    [theme=dark] .colab-df-convert:hover {\n",
              "      background-color: #434B5C;\n",
              "      box-shadow: 0px 1px 3px 1px rgba(0, 0, 0, 0.15);\n",
              "      filter: drop-shadow(0px 1px 2px rgba(0, 0, 0, 0.3));\n",
              "      fill: #FFFFFF;\n",
              "    }\n",
              "  </style>\n",
              "\n",
              "    <script>\n",
              "      const buttonEl =\n",
              "        document.querySelector('#df-627c7220-4418-4960-8fac-ddfe220a29e4 button.colab-df-convert');\n",
              "      buttonEl.style.display =\n",
              "        google.colab.kernel.accessAllowed ? 'block' : 'none';\n",
              "\n",
              "      async function convertToInteractive(key) {\n",
              "        const element = document.querySelector('#df-627c7220-4418-4960-8fac-ddfe220a29e4');\n",
              "        const dataTable =\n",
              "          await google.colab.kernel.invokeFunction('convertToInteractive',\n",
              "                                                    [key], {});\n",
              "        if (!dataTable) return;\n",
              "\n",
              "        const docLinkHtml = 'Like what you see? Visit the ' +\n",
              "          '<a target=\"_blank\" href=https://colab.research.google.com/notebooks/data_table.ipynb>data table notebook</a>'\n",
              "          + ' to learn more about interactive tables.';\n",
              "        element.innerHTML = '';\n",
              "        dataTable['output_type'] = 'display_data';\n",
              "        await google.colab.output.renderOutput(dataTable, element);\n",
              "        const docLink = document.createElement('div');\n",
              "        docLink.innerHTML = docLinkHtml;\n",
              "        element.appendChild(docLink);\n",
              "      }\n",
              "    </script>\n",
              "  </div>\n",
              "\n",
              "\n",
              "<div id=\"df-26886422-2045-4c73-9fe7-4c09f00a754b\">\n",
              "  <button class=\"colab-df-quickchart\" onclick=\"quickchart('df-26886422-2045-4c73-9fe7-4c09f00a754b')\"\n",
              "            title=\"Suggest charts\"\n",
              "            style=\"display:none;\">\n",
              "\n",
              "<svg xmlns=\"http://www.w3.org/2000/svg\" height=\"24px\"viewBox=\"0 0 24 24\"\n",
              "     width=\"24px\">\n",
              "    <g>\n",
              "        <path d=\"M19 3H5c-1.1 0-2 .9-2 2v14c0 1.1.9 2 2 2h14c1.1 0 2-.9 2-2V5c0-1.1-.9-2-2-2zM9 17H7v-7h2v7zm4 0h-2V7h2v10zm4 0h-2v-4h2v4z\"/>\n",
              "    </g>\n",
              "</svg>\n",
              "  </button>\n",
              "\n",
              "<style>\n",
              "  .colab-df-quickchart {\n",
              "      --bg-color: #E8F0FE;\n",
              "      --fill-color: #1967D2;\n",
              "      --hover-bg-color: #E2EBFA;\n",
              "      --hover-fill-color: #174EA6;\n",
              "      --disabled-fill-color: #AAA;\n",
              "      --disabled-bg-color: #DDD;\n",
              "  }\n",
              "\n",
              "  [theme=dark] .colab-df-quickchart {\n",
              "      --bg-color: #3B4455;\n",
              "      --fill-color: #D2E3FC;\n",
              "      --hover-bg-color: #434B5C;\n",
              "      --hover-fill-color: #FFFFFF;\n",
              "      --disabled-bg-color: #3B4455;\n",
              "      --disabled-fill-color: #666;\n",
              "  }\n",
              "\n",
              "  .colab-df-quickchart {\n",
              "    background-color: var(--bg-color);\n",
              "    border: none;\n",
              "    border-radius: 50%;\n",
              "    cursor: pointer;\n",
              "    display: none;\n",
              "    fill: var(--fill-color);\n",
              "    height: 32px;\n",
              "    padding: 0;\n",
              "    width: 32px;\n",
              "  }\n",
              "\n",
              "  .colab-df-quickchart:hover {\n",
              "    background-color: var(--hover-bg-color);\n",
              "    box-shadow: 0 1px 2px rgba(60, 64, 67, 0.3), 0 1px 3px 1px rgba(60, 64, 67, 0.15);\n",
              "    fill: var(--button-hover-fill-color);\n",
              "  }\n",
              "\n",
              "  .colab-df-quickchart-complete:disabled,\n",
              "  .colab-df-quickchart-complete:disabled:hover {\n",
              "    background-color: var(--disabled-bg-color);\n",
              "    fill: var(--disabled-fill-color);\n",
              "    box-shadow: none;\n",
              "  }\n",
              "\n",
              "  .colab-df-spinner {\n",
              "    border: 2px solid var(--fill-color);\n",
              "    border-color: transparent;\n",
              "    border-bottom-color: var(--fill-color);\n",
              "    animation:\n",
              "      spin 1s steps(1) infinite;\n",
              "  }\n",
              "\n",
              "  @keyframes spin {\n",
              "    0% {\n",
              "      border-color: transparent;\n",
              "      border-bottom-color: var(--fill-color);\n",
              "      border-left-color: var(--fill-color);\n",
              "    }\n",
              "    20% {\n",
              "      border-color: transparent;\n",
              "      border-left-color: var(--fill-color);\n",
              "      border-top-color: var(--fill-color);\n",
              "    }\n",
              "    30% {\n",
              "      border-color: transparent;\n",
              "      border-left-color: var(--fill-color);\n",
              "      border-top-color: var(--fill-color);\n",
              "      border-right-color: var(--fill-color);\n",
              "    }\n",
              "    40% {\n",
              "      border-color: transparent;\n",
              "      border-right-color: var(--fill-color);\n",
              "      border-top-color: var(--fill-color);\n",
              "    }\n",
              "    60% {\n",
              "      border-color: transparent;\n",
              "      border-right-color: var(--fill-color);\n",
              "    }\n",
              "    80% {\n",
              "      border-color: transparent;\n",
              "      border-right-color: var(--fill-color);\n",
              "      border-bottom-color: var(--fill-color);\n",
              "    }\n",
              "    90% {\n",
              "      border-color: transparent;\n",
              "      border-bottom-color: var(--fill-color);\n",
              "    }\n",
              "  }\n",
              "</style>\n",
              "\n",
              "  <script>\n",
              "    async function quickchart(key) {\n",
              "      const quickchartButtonEl =\n",
              "        document.querySelector('#' + key + ' button');\n",
              "      quickchartButtonEl.disabled = true;  // To prevent multiple clicks.\n",
              "      quickchartButtonEl.classList.add('colab-df-spinner');\n",
              "      try {\n",
              "        const charts = await google.colab.kernel.invokeFunction(\n",
              "            'suggestCharts', [key], {});\n",
              "      } catch (error) {\n",
              "        console.error('Error during call to suggestCharts:', error);\n",
              "      }\n",
              "      quickchartButtonEl.classList.remove('colab-df-spinner');\n",
              "      quickchartButtonEl.classList.add('colab-df-quickchart-complete');\n",
              "    }\n",
              "    (() => {\n",
              "      let quickchartButtonEl =\n",
              "        document.querySelector('#df-26886422-2045-4c73-9fe7-4c09f00a754b button');\n",
              "      quickchartButtonEl.style.display =\n",
              "        google.colab.kernel.accessAllowed ? 'block' : 'none';\n",
              "    })();\n",
              "  </script>\n",
              "</div>\n",
              "\n",
              "    </div>\n",
              "  </div>\n"
            ],
            "text/plain": [
              "                                                path  sampling_rate  label  \\\n",
              "0  pooks_6ebcaf77-aa92-4f10-984e-ecc5a919bcbb_41-...          12000      1   \n",
              "1  warsi_2020_1275aa58-5cf4-4620-9c8f-78e1cb39864...          12000      0   \n",
              "2  warsi_2021_ec626f56-e094-4729-bf1f-e3737e09231...          12000      0   \n",
              "3  warsi_2020_c74e499c-3720-4727-8213-1fe5f032f8c...          12000      0   \n",
              "5  pooks_bcc12bdc-516a-4615-b642-590e66b697ad_80-...          12000      1   \n",
              "\n",
              "                                            fullpath  \n",
              "0  /content/drive/MyDrive/frugal/datasets/frugala...  \n",
              "1  /content/drive/MyDrive/frugal/datasets/frugala...  \n",
              "2  /content/drive/MyDrive/frugal/datasets/frugala...  \n",
              "3  /content/drive/MyDrive/frugal/datasets/frugala...  \n",
              "5  /content/drive/MyDrive/frugal/datasets/frugala...  "
            ]
          },
          "execution_count": 14,
          "metadata": {},
          "output_type": "execute_result"
        }
      ],
      "source": [
        "# Takes 30s ish\n",
        "if not os.path.isfile(\"/content/drive/MyDrive/frugal/datasets/train.parquet.gzip\") or REDO:\n",
        "  LEN = len(dasaset[\"train\"])\n",
        "  train = {}\n",
        "  for x in range(LEN):\n",
        "    d = dasaset[\"train\"][x]\n",
        "    train[x] = {\"path\":d[\"audio\"][\"path\"], \"sampling_rate\":d[\"audio\"][\"sampling_rate\"],\"label\":d[\"label\"]}\n",
        "  DF = pd.DataFrame(train).T\n",
        "  if REDO:\n",
        "  # linked to #TOTEST: if copying files from drive accelerate reading from them\n",
        "    base_data_path = './wav/'\n",
        "  else:\n",
        "    base_data_path = '/content/drive/MyDrive/frugal/datasets/frugalai/wav/'\n",
        "\n",
        "  # Create the 'fullpath' column first\n",
        "  DF['fullpath'] = DF['path'].map(lambda x: path.join(base_data_path, x))\n",
        "  # Now filter using the newly created 'fullpath' column\n",
        "  DF = DF[DF['fullpath'].apply(lambda x: os.path.isfile(x))]\n",
        "  DF.to_parquet(\"/content/drive/MyDrive/frugal/datasets/train.parquet.gzip\",compression=\"gzip\")\n",
        "else:\n",
        "  DF = pd.read_parquet(\"/content/drive/MyDrive/frugal/datasets/train.parquet.gzip\")\n",
        "\n",
        "\n",
        "\n",
        "DF.head()"
      ]
    },
    {
      "cell_type": "code",
      "execution_count": null,
      "metadata": {
        "id": "eLyhExtu2Cwo"
      },
      "outputs": [],
      "source": [
        "DF.to_parquet(\"/content/drive/MyDrive/frugal/datasets/train.parquet.gzip\",compression=\"gzip\")"
      ]
    },
    {
      "cell_type": "markdown",
      "metadata": {
        "id": "LqnpuM-G2jDr"
      },
      "source": [
        "#### Load wave file data\n",
        "\n",
        "We can then define a new function named `load_wav` to load audio samples from a wave file using TensorFlow's [`tf.io.read_file(...)`](https://www.tensorflow.org/api_docs/python/tf/io/read_file) and[`tf.audio.decode_wav(...)`](https://www.tensorflow.org/api_docs/python/tf/audio/decode_wav) API's. The [`tfio.audio.resample(...)`](https://www.tensorflow.org/io/api_docs/python/tfio/audio/resample) API will be used to resample the audio samples at the specified sampling rate.\n",
        "\n",
        "[librosa](https://librosa.org/)'s [`load(...)`](https://librosa.org/doc/main/generated/librosa.load.html) API will be used as a fallback if TensorFlow is unable to decode the wave file.\n"
      ]
    },
    {
      "cell_type": "code",
      "execution_count": null,
      "metadata": {
        "id": "70RwxZs12iPZ"
      },
      "outputs": [],
      "source": [
        "import tensorflow_io as tfio\n",
        "import librosa\n",
        "\n",
        "def load_wav(filename, desired_sample_rate, desired_channels):\n",
        "  try:\n",
        "    file_contents = tf.io.read_file(filename)\n",
        "    wav, sample_rate = tf.audio.decode_wav(file_contents, desired_channels=desired_channels)\n",
        "    wav = tf.squeeze(wav, axis=-1)\n",
        "  except:\n",
        "    # fallback to librosa if the wav file can be read with TF\n",
        "    filename = tf.cast(filename, tf.string)\n",
        "    wav, sample_rate = librosa.load(filename.numpy().decode('utf-8'), sr=None, mono=(desired_channels == 1))\n",
        "\n",
        "  wav = tfio.audio.resample(wav, rate_in=tf.cast(sample_rate, dtype=tf.int64), rate_out=tf.cast(desired_sample_rate, dtype=tf.int64))\n",
        "\n",
        "  return wav"
      ]
    },
    {
      "cell_type": "markdown",
      "metadata": {
        "id": "P_2AYbxi5oIp"
      },
      "source": [
        "Now let's load the first wave file, from the pandas `DataFrame`, and plot it overtime using `matplotlib`. The [`IPython.display.Audio(...)`](https://ipython.org/ipython-doc/3/api/generated/IPython.display.html#IPython.display.Audio) API can be used to playback the audio samples inside the notebook.\n",
        "\n",
        "\n"
      ]
    },
    {
      "cell_type": "code",
      "execution_count": null,
      "metadata": {
        "colab": {
          "base_uri": "https://localhost:8080/",
          "height": 488
        },
        "id": "YgLhGyi75bvI",
        "outputId": "dcc9f565-cdda-4dee-b3f8-e4106bdcefe1"
      },
      "outputs": [
        {
          "data": {
            "image/png": "[encoded data removed]",
            "text/plain": [
              "<Figure size 640x480 with 1 Axes>"
            ]
          },
          "metadata": {},
          "output_type": "display_data"
        },
        {
          "data": {
            "text/html": [
              "\n",
              "                <audio  controls=\"controls\" >\n",
              "                    <source src=\"data:audio/wav;base64,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\" type=\"audio/wav\" />\n",
              "                    Your browser does not support the audio element.\n",
              "                </audio>\n",
              "              "
            ],
            "text/plain": [
              "<IPython.lib.display.Audio object>"
            ]
          },
          "execution_count": 17,
          "metadata": {},
          "output_type": "execute_result"
        }
      ],
      "source": [
        "import matplotlib.pyplot as plt\n",
        "from IPython import display\n",
        "\n",
        "sample_rate = 16000\n",
        "channels = 1\n",
        "\n",
        "test_wav_file_path = DF.sample(1).reset_index(drop=True).iloc[0]['fullpath']\n",
        "test_wav_data = load_wav(test_wav_file_path, sample_rate, channels)\n",
        "\n",
        "plt.plot([x/sample_rate for x in range(len(test_wav_data))],test_wav_data)\n",
        "plt.show()\n",
        "\n",
        "display.Audio(test_wav_data, rate=sample_rate)"
      ]
    },
    {
      "cell_type": "markdown",
      "metadata": {
        "id": "sYg6G3ivfOPq"
      },
      "source": [
        "We can then use the [`tf.data.Dataset`](https://www.tensorflow.org/api_docs/python/tf/data/Dataset) TensorFlow API to create a pipeline that loads all wave file data from the dataset."
      ]
    },
    {
      "cell_type": "code",
      "execution_count": null,
      "metadata": {
        "colab": {
          "base_uri": "https://localhost:8080/"
        },
        "id": "rcqe0aoE7Hdl",
        "outputId": "0792613e-9f87-4202-9b4c-00cf94a69f97"
      },
      "outputs": [
        {
          "data": {
            "text/plain": [
              "(TensorSpec(shape=(), dtype=tf.string, name=None),\n",
              " TensorSpec(shape=(), dtype=tf.int64, name=None),\n",
              " TensorSpec(shape=(), dtype=tf.int64, name=None))"
            ]
          },
          "execution_count": 18,
          "metadata": {},
          "output_type": "execute_result"
        }
      ],
      "source": [
        "# DF['folds'] = range(len(DF))\n",
        "DF['folds'] = [x + 1 for x in range(len(DF))]\n",
        "DF['folds'] = DF['folds'].apply(lambda x: int(x)%5)\n",
        "DF[\"target\"] = DF[\"label\"]\n",
        "DF['target'] = DF['target'].astype('int64')\n",
        "DF['folds'] = DF['folds'].astype('int64')\n",
        "\n",
        "fullpaths = DF['fullpath']\n",
        "targets = DF['target']\n",
        "folds = DF['folds']\n",
        "\n",
        "fullpaths_ds = tf.data.Dataset.from_tensor_slices((fullpaths, targets, folds))\n",
        "fullpaths_ds.element_spec"
      ]
    },
    {
      "cell_type": "markdown",
      "metadata": {
        "id": "v2IJbEHPf2ok"
      },
      "source": [
        "Map each `fullpath` value to wave file samples:"
      ]
    },
    {
      "cell_type": "code",
      "execution_count": null,
      "metadata": {
        "colab": {
          "base_uri": "https://localhost:8080/"
        },
        "id": "u-A6jYUz6lfI",
        "outputId": "6abbfba2-d0f3-490c-d1a0-b6679597653c"
      },
      "outputs": [
        {
          "data": {
            "text/plain": [
              "(TensorSpec(shape=<unknown>, dtype=tf.float32, name=None),\n",
              " TensorSpec(shape=(), dtype=tf.int64, name=None),\n",
              " TensorSpec(shape=(), dtype=tf.int64, name=None))"
            ]
          },
          "execution_count": 19,
          "metadata": {},
          "output_type": "execute_result"
        }
      ],
      "source": [
        "def load_wav_for_map(fullpath, label, fold,sample_rate=16000):\n",
        "  wav = tf.py_function(load_wav, [fullpath, sample_rate, 1], tf.float32)\n",
        "  return wav, label, fold\n",
        "\n",
        "wav_ds = fullpaths_ds.map(load_wav_for_map)\n",
        "wav_ds.element_spec"
      ]
    },
    {
      "cell_type": "markdown",
      "metadata": {
        "id": "V2RD4zXVRAJ2"
      },
      "source": [
        "#### Sanity checks\n",
        "\n",
        "Let's remove empty wav files"
      ]
    },
    {
      "cell_type": "code",
      "execution_count": null,
      "metadata": {
        "id": "UnDQ_PDERIJl"
      },
      "outputs": [],
      "source": [
        "@tf.function\n",
        "def wav_not_empty(wav):\n",
        "  return tf.experimental.numpy.any(wav)\n",
        "\n",
        "split_wav_ds = wav_ds.filter(lambda x, y, z: wav_not_empty(x))"
      ]
    },
    {
      "cell_type": "markdown",
      "metadata": {
        "id": "XdV6yAYYhsBw"
      },
      "source": [
        "#### Create Spectrograms\n",
        "\n",
        "Rather than passing in the time series data directly into our TensorFlow model, we will transform the audio data into an audio spectrogram representation. This will create a 2D representation of the audio signal’s frequency content over time.\n",
        "\n",
        "The input audio signal we will use will have a sampling rate of 12kHz, this means one second of audio will contain 12,000 samples. Using TensorFlow’s [`tf.signal.stft(...)`](https://www.tensorflow.org/api_docs/python/tf/signal/stft) function we can transform the 3 second audio signal into a 2D tensor representation. We will choose a a Tensor that has a shape of `(280, 129)`.\n"
      ]
    },
    {
      "cell_type": "code",
      "execution_count": null,
      "metadata": {
        "colab": {
          "base_uri": "https://localhost:8080/"
        },
        "id": "Ueej4QUNjWa-",
        "outputId": "53f4db69-44c1-4fc9-8cdd-1118190015cc"
      },
      "outputs": [
        {
          "data": {
            "text/plain": [
              "<tf.Tensor: shape=(48000,), dtype=float32, numpy=\n",
              "array([-5.2969742e-08,  3.8089973e-07, -9.5160743e-07, ...,\n",
              "       -1.7842914e-03, -2.1195416e-03,  1.0448158e-03], dtype=float32)>"
            ]
          },
          "execution_count": 21,
          "metadata": {},
          "output_type": "execute_result"
        }
      ],
      "source": [
        "test_wav_file_path = DF['fullpath'][0]\n",
        "test_wav_data = load_wav(test_wav_file_path, 16000, 1)\n",
        "test_wav_data"
      ]
    },
    {
      "cell_type": "code",
      "execution_count": null,
      "metadata": {
        "id": "eLtJztYgZYfB"
      },
      "outputs": [],
      "source": [
        "import cmsisdsp\n",
        "from numpy import pi as PI\n",
        "\n",
        "window_size = 256\n",
        "step_size = int(128*374/124)\n",
        "\n",
        "hanning_window_f32 = np.zeros(window_size)\n",
        "for i in range(window_size):\n",
        "  hanning_window_f32[i] = 0.5 * (1 - cmsisdsp.arm_cos_f32(2 * PI * i / window_size ))\n",
        "\n",
        "hanning_window_q15 = cmsisdsp.arm_float_to_q15(hanning_window_f32)\n",
        "\n",
        "rfftq15 = cmsisdsp.arm_rfft_instance_q15()\n",
        "status = cmsisdsp.arm_rfft_init_q15(rfftq15, window_size, 0, 1)\n",
        "\n",
        "def get_arm_spectrogram(waveform):\n",
        "\n",
        "  num_frames = int(1 + (len(waveform) - window_size) // step_size)\n",
        "  fft_size = int(window_size // 2 + 1)\n",
        "  # normalisation du son\n",
        "  waveform = 8*256.0 * (waveform/np.max(np.abs(waveform))-np.mean(waveform))\n",
        "  # Convert the audio to q15\n",
        "  waveform_q15 = cmsisdsp.arm_float_to_q15(waveform)\n",
        "  #print(waveform_q15)\n",
        "  # Create empty spectrogram array\n",
        "  spectrogram_q15 = np.empty((num_frames, fft_size), dtype = np.int16)\n",
        "\n",
        "  start_index = 0\n",
        "\n",
        "  for index in range(num_frames):\n",
        "    # Take the window from the waveform.\n",
        "    window = waveform_q15[start_index:start_index + window_size]\n",
        "\n",
        "    # Apply the Hanning Window.\n",
        "    window = cmsisdsp.arm_mult_q15(window, hanning_window_q15)\n",
        "\n",
        "    # Calculate the FFT, shift by 7 according to docs\n",
        "    window = cmsisdsp.arm_rfft_q15(rfftq15, window)\n",
        "\n",
        "    # Take the absolute value of the FFT and add to the Spectrogram.\n",
        "    spectrogram_q15[index] = cmsisdsp.arm_cmplx_mag_q15(window)[:fft_size]\n",
        "\n",
        "    # Increase the start index of the window by the overlap amount.\n",
        "    start_index += step_size\n",
        "\n",
        "  # Convert to numpy output ready for keras\n",
        "  OUT = cmsisdsp.arm_q15_to_float(spectrogram_q15).reshape(num_frames,fft_size) * 512\n",
        "  AVG = np.average(OUT[0,110:])\n",
        "  MAX = np.max(OUT)\n",
        "\n",
        "  OUT = OUT/ MAX\n",
        "\n",
        "  return tf.reshape(OUT, shape=(124, 129))"
      ]
    },
    {
      "cell_type": "code",
      "execution_count": null,
      "metadata": {
        "colab": {
          "base_uri": "https://localhost:8080/"
        },
        "id": "n97Ha3UfjGWU",
        "outputId": "ca36e769-d9c6-4d73-d4ee-17b61514bf0c"
      },
      "outputs": [
        {
          "data": {
            "text/plain": [
              "TensorShape([124, 129])"
            ]
          },
          "execution_count": 23,
          "metadata": {},
          "output_type": "execute_result"
        }
      ],
      "source": [
        "spectrogram = get_arm_spectrogram(np.array(test_wav_data))\n",
        "np.min(spectrogram),np.max(spectrogram)\n",
        "np.shape(spectrogram)"
      ]
    },
    {
      "cell_type": "code",
      "execution_count": null,
      "metadata": {
        "colab": {
          "base_uri": "https://localhost:8080/",
          "height": 958
        },
        "id": "939jYDyYghXk",
        "outputId": "a0797893-9ab2-4942-d7f5-1647a5f18407"
      },
      "outputs": [
        {
          "name": "stdout",
          "output_type": "stream",
          "text": [
            "(124, 129)\n"
          ]
        },
        {
          "data": {
            "image/png": "[encoded data removed]",
            "text/plain": [
              "<Figure size 800x600 with 2 Axes>"
            ]
          },
          "metadata": {},
          "output_type": "display_data"
        },
        {
          "data": {
            "image/png": "[encoded data removed]",
            "text/plain": [
              "<Figure size 640x480 with 1 Axes>"
            ]
          },
          "metadata": {},
          "output_type": "display_data"
        }
      ],
      "source": [
        "import numpy as np\n",
        "\n",
        "def plot_spectrogram(spectrogram, vmax=None):\n",
        "  transposed_spectrogram = tf.transpose(spectrogram)\n",
        "\n",
        "  fig = plt.figure(figsize=(8,6))\n",
        "  height = transposed_spectrogram.shape[0]\n",
        "  X = np.arange(transposed_spectrogram.shape[1])\n",
        "  Y = np.arange(height * int(sample_rate / 256), step=int(sample_rate / 256))\n",
        "\n",
        "  im = plt.pcolormesh(X, Y, tf.transpose(spectrogram), vmax=vmax)\n",
        "\n",
        "  fig.colorbar(im)\n",
        "  plt.show()\n",
        "def plot_fft(spectrogram):\n",
        "  plt.plot(spectrogram.numpy().sum(axis=0))\n",
        "\n",
        "print(spectrogram.shape)\n",
        "plot_spectrogram(spectrogram)\n",
        "plot_fft(spectrogram)"
      ]
    },
    {
      "cell_type": "code",
      "execution_count": null,
      "metadata": {
        "colab": {
          "base_uri": "https://localhost:8080/"
        },
        "id": "Xw-KTABdvSpG",
        "outputId": "ba092b39-3a5e-4d5b-ee91-cc4420a33849"
      },
      "outputs": [
        {
          "data": {
            "text/plain": [
              "(TensorSpec(shape=<unknown>, dtype=tf.float32, name=None),\n",
              " TensorSpec(shape=(), dtype=tf.int64, name=None),\n",
              " TensorSpec(shape=(), dtype=tf.int64, name=None))"
            ]
          },
          "execution_count": 25,
          "metadata": {},
          "output_type": "execute_result"
        }
      ],
      "source": [
        "def create_arm_spectrogram_for_map(samples, label, fold):\n",
        "  spectrogram = tf.py_function(get_arm_spectrogram, [samples], tf.float32)\n",
        "  return spectrogram, label, fold\n",
        "\n",
        "spectrograms_ds = split_wav_ds.map(create_arm_spectrogram_for_map)\n",
        "spectrograms_ds.element_spec\n"
      ]
    },
    {
      "cell_type": "markdown",
      "metadata": {
        "id": "nMFP7b-l-kOb"
      },
      "source": [
        "Let's plot the first 3 spectrograms in the dataset:"
      ]
    },
    {
      "cell_type": "code",
      "execution_count": null,
      "metadata": {
        "colab": {
          "base_uri": "https://localhost:8080/",
          "height": 1000
        },
        "collapsed": true,
        "id": "Cc3fqcs6lMal",
        "outputId": "feacfcb2-9f3a-4a63-c47e-a0df97c27ea5"
      },
      "outputs": [
        {
          "data": {
            "image/png": "[encoded data removed]",
            "text/plain": [
              "<Figure size 800x600 with 2 Axes>"
            ]
          },
          "metadata": {},
          "output_type": "display_data"
        },
        {
          "name": "stderr",
          "output_type": "stream",
          "text": [
            "WARNING:tensorflow:5 out of the last 5 calls to <function pfor.<locals>.f at 0x793ad46e5da0> triggered tf.function retracing. Tracing is expensive and the excessive number of tracings could be due to (1) creating @tf.function repeatedly in a loop, (2) passing tensors with different shapes, (3) passing Python objects instead of tensors. For (1), please define your @tf.function outside of the loop. For (2), @tf.function has reduce_retracing=True option that can avoid unnecessary retracing. For (3), please refer to https://www.tensorflow.org/guide/function#controlling_retracing and https://www.tensorflow.org/api_docs/python/tf/function for  more details.\n"
          ]
        },
        {
          "data": {
            "image/png": "[encoded data removed]",
            "text/plain": [
              "<Figure size 640x480 with 1 Axes>"
            ]
          },
          "metadata": {},
          "output_type": "display_data"
        },
        {
          "data": {
            "image/png": "[encoded data removed]",
            "text/plain": [
              "<Figure size 800x600 with 2 Axes>"
            ]
          },
          "metadata": {},
          "output_type": "display_data"
        },
        {
          "data": {
            "image/png": "[encoded data removed]",
            "text/plain": [
              "<Figure size 640x480 with 1 Axes>"
            ]
          },
          "metadata": {},
          "output_type": "display_data"
        },
        {
          "data": {
            "image/png": "[encoded data removed]",
            "text/plain": [
              "<Figure size 800x600 with 2 Axes>"
            ]
          },
          "metadata": {},
          "output_type": "display_data"
        },
        {
          "data": {
            "image/png": "[encoded data removed]",
            "text/plain": [
              "<Figure size 640x480 with 1 Axes>"
            ]
          },
          "metadata": {},
          "output_type": "display_data"
        }
      ],
      "source": [
        "# 1min\n",
        "for s, _, _ in spectrograms_ds.take(3):\n",
        "  plot_spectrogram(s)\n",
        "  plot_fft(s)"
      ]
    },
    {
      "cell_type": "markdown",
      "metadata": {
        "id": "OrCmiQVyQ_NB"
      },
      "source": [
        "### Split Dataset\n",
        "\n",
        "Before we start training the ML classifier model, we must split the dataset up in three parts: training, validation, and test.\n",
        "\n",
        "We will use the same technique in TensorFlow's [Transfer learning with YAMNet for environmental sound classification](https://www.tensorflow.org/tutorials/audio/transfer_learning_audio#split_the_data) guide, and use the `fold` column of the ESC-50 dataset to determine the split.\n",
        "\n",
        "Before splitting the dataset, let's set a random seed for reproducibility:"
      ]
    },
    {
      "cell_type": "code",
      "execution_count": null,
      "metadata": {
        "id": "T3bR-BHBRCYi"
      },
      "outputs": [],
      "source": [
        "import numpy as np\n",
        "import tensorflow as tf\n",
        "\n",
        "random_seed = 42\n",
        "tf.random.set_seed(random_seed)\n",
        "np.random.seed(random_seed)"
      ]
    },
    {
      "cell_type": "markdown",
      "metadata": {
        "id": "kq3kDVG9_nhW"
      },
      "source": [
        "Entries with a `fold` value of less than 4 will used for training, the ones with a `value` will be used for validation, and finally the remaining items with be used for testing.\n",
        "\n",
        "The `fold` column will be removed as it is no longer needed, and the dimensions of the spectrogram shape will be expanded from `(124, 129)` to `(124, 129, 1)`. The training items will also be shuffled."
      ]
    },
    {
      "cell_type": "code",
      "execution_count": null,
      "metadata": {
        "id": "PlHGJYjHCLjQ"
      },
      "outputs": [],
      "source": [
        "#15s\n",
        "cached_ds = spectrograms_ds.cache()"
      ]
    },
    {
      "cell_type": "code",
      "execution_count": null,
      "metadata": {
        "id": "YEBtbdlbCQA1"
      },
      "outputs": [],
      "source": [
        "WeWantToSaveSpectroAsImgs = False\n",
        "\n",
        "def explode_array_column(row):\n",
        "  return pd.Series(row['spectrogram'])\n",
        "\n",
        "if WeWantToSaveSpectroAsImgs:\n",
        "  SAMPLESTOSAVE = 50 # 5 samples took 22s // 50 for 35s\n",
        "  import tensorflow_datasets as tfds\n",
        "\n",
        "  for labeltarget in [0,1]:\n",
        "    SORTED = cached_ds.filter(lambda spectrogram, label, fold: label == labeltarget)\n",
        "\n",
        "    signal = [x[0].astype(np.float16) for x in SORTED.take(SAMPLESTOSAVE).as_numpy_iterator()]\n",
        "    label  = [x[1].astype(np.int8)    for x in SORTED.take(SAMPLESTOSAVE).as_numpy_iterator()]\n",
        "    fold   = [x[2].astype(np.int8)    for x in SORTED.take(SAMPLESTOSAVE).as_numpy_iterator()]\n",
        "    np.savez(\"/content/drive/MyDrive/frugal/v7b_\"+spectrogram_setting+\"_label\"+str(labeltarget)+\".npz\",signal = signal, label=label, fold=fold)\n"
      ]
    },
    {
      "cell_type": "code",
      "execution_count": null,
      "metadata": {
        "id": "-TkWSyGNlMgy"
      },
      "outputs": [],
      "source": [
        "BATCHSIZE = 32"
      ]
    },
    {
      "cell_type": "code",
      "execution_count": null,
      "metadata": {
        "colab": {
          "base_uri": "https://localhost:8080/"
        },
        "collapsed": true,
        "id": "SyclwrPnMEIh",
        "outputId": "ce150f49-e05f-4771-b9ca-104fad658ec2"
      },
      "outputs": [
        {
          "name": "stderr",
          "output_type": "stream",
          "text": [
            "WARNING:tensorflow:6 out of the last 6 calls to <function pfor.<locals>.f at 0x793ad451a020> triggered tf.function retracing. Tracing is expensive and the excessive number of tracings could be due to (1) creating @tf.function repeatedly in a loop, (2) passing tensors with different shapes, (3) passing Python objects instead of tensors. For (1), please define your @tf.function outside of the loop. For (2), @tf.function has reduce_retracing=True option that can avoid unnecessary retracing. For (3), please refer to https://www.tensorflow.org/guide/function#controlling_retracing and https://www.tensorflow.org/api_docs/python/tf/function for  more details.\n"
          ]
        },
        {
          "name": "stdout",
          "output_type": "stream",
          "text": [
            "The spectrogram Shape (124, 129, 1)\n",
            "The spectrogram Shape (124, 129, 1)\n",
            "The spectrogram Shape (124, 129, 1)\n",
            "Before batch: spectrogram shape: (124, 129, 1), label shape: ()\n"
          ]
        }
      ],
      "source": [
        "train_ds = cached_ds.filter(lambda spectrogram, label, fold: fold < 3)\n",
        "val_ds = cached_ds.filter(lambda spectrogram, label, fold: fold == 3)\n",
        "test_ds = cached_ds.filter(lambda spectrogram, label, fold: fold > 3)\n",
        "\n",
        "# remove the folds column as it's no longer needed\n",
        "# remove_fold_column = lambda spectrogram, label, fold: (tf.expand_dims(spectrogram, axis=-1), label)\n",
        "\n",
        "def remove_fold_column(spectrogram, label, fold):\n",
        "    spectrogram = tf.expand_dims(spectrogram, axis=-1)\n",
        "    # tf.debugging.assert_shapes([(spectrogram, (None, None, 1))])\n",
        "    spectrogram.set_shape([124, 129, 1])\n",
        "    print(\"The spectrogram Shape\", spectrogram.shape)\n",
        "    return spectrogram, label\n",
        "\n",
        "train_ds = train_ds.map(remove_fold_column)\n",
        "val_ds = val_ds.map(remove_fold_column)\n",
        "test_ds = test_ds.map(remove_fold_column)\n",
        "\n",
        "# Inspect the data shape before batching\n",
        "for spectrogram, label in train_ds.take(1):\n",
        "    print(f\"Before batch: spectrogram shape: {spectrogram.shape}, label shape: {label.shape}\")\n",
        "\n",
        "train_ds = train_ds.cache()  # Cache the dataset first to keep data in memory\n",
        "train_ds = train_ds.shuffle(buffer_size=100, seed=random_seed)  # Shuffle after caching\n",
        "train_ds = train_ds.batch(BATCHSIZE, drop_remainder=True)  # Batch the dataset\n",
        "train_ds = train_ds.prefetch(tf.data.AUTOTUNE).cache()  # Prefetch the data for better performance\n",
        "val_ds = val_ds.cache().batch(BATCHSIZE, drop_remainder=True).prefetch(tf.data.AUTOTUNE).cache()\n",
        "test_ds = test_ds.cache().batch(BATCHSIZE, drop_remainder=True).prefetch(tf.data.AUTOTUNE).cache()\n"
      ]
    },
    {
      "cell_type": "code",
      "execution_count": null,
      "metadata": {
        "colab": {
          "base_uri": "https://localhost:8080/"
        },
        "id": "O8C_MUSNV69W",
        "outputId": "73b3f291-2027-4dea-f03c-87ea136d47ed"
      },
      "outputs": [
        {
          "data": {
            "text/plain": [
              "array([1, 2, 3, 4, 0])"
            ]
          },
          "execution_count": 32,
          "metadata": {},
          "output_type": "execute_result"
        }
      ],
      "source": [
        "DF['folds'].unique()"
      ]
    },
    {
      "cell_type": "code",
      "execution_count": null,
      "metadata": {
        "colab": {
          "base_uri": "https://localhost:8080/"
        },
        "id": "11AMctrTD6D7",
        "outputId": "46bba216-73b4-4fc2-c556-576e3226a85e"
      },
      "outputs": [
        {
          "data": {
            "text/plain": [
              "<_MapDataset element_spec=(TensorSpec(shape=<unknown>, dtype=tf.float32, name=None), TensorSpec(shape=(), dtype=tf.int64, name=None), TensorSpec(shape=(), dtype=tf.int64, name=None))>"
            ]
          },
          "execution_count": 33,
          "metadata": {},
          "output_type": "execute_result"
        }
      ],
      "source": [
        "spectrograms_ds"
      ]
    },
    {
      "cell_type": "markdown",
      "metadata": {
        "id": "LIdHUP8mRF-9"
      },
      "source": [
        "### Train Model\n",
        "\n",
        "Now that we have the features extracted from the audio signal, we can create a model using TensorFlow’s Keras  API. The model will consist of 8 layers:\n",
        "\n",
        " 1. An input layer.\n",
        " 1. A preprocessing layer, that will resize the input tensor from 124x129x1 to 32x32x1.\n",
        " 1. A normalization layer, that will scale the input values between -1 and 1\n",
        " 1. A 2D convolution layer with: 8 filters, a kernel size of 8x8, and stride of 2x2, and ReLU activation function.\n",
        " 1. A 2D max pooling layer with size of 2x2\n",
        " 1. A flatten layer to flatten the 2D data to 1D\n",
        " 1. A dropout layer, that will help reduce overfitting during training\n",
        " 1. A dense layer with 50 outputs and a softmax activation function, which outputs the likelihood of the sound category (between 0 and 1).\n"
      ]
    },
    {
      "cell_type": "markdown",
      "metadata": {
        "id": "pbTAU5yZA43R"
      },
      "source": [
        "Before we build the model using [Tensflow's Keras API's](https://www.tensorflow.org/api_docs/python/tf/keras), we will create normalization layer and feed in all the spectrogram dataset items."
      ]
    },
    {
      "cell_type": "code",
      "execution_count": null,
      "metadata": {
        "colab": {
          "base_uri": "https://localhost:8080/"
        },
        "id": "fFLHe9y-iGmj",
        "outputId": "1b15fb16-d56f-4fd5-8f91-7a0d52c07de8"
      },
      "outputs": [
        {
          "name": "stdout",
          "output_type": "stream",
          "text": [
            "Input shape: (124, 129, 1)\n",
            "Norm Data Shape: (124, 129, 1)\n"
          ]
        }
      ],
      "source": [
        "#around 1min\n",
        "for spectrogram, _, _ in cached_ds.take(1):\n",
        "    input_shape = tf.expand_dims(spectrogram, axis=-1).shape\n",
        "    print('Input shape:', input_shape)\n",
        "    norm_data = tf.reshape(spectrogram, (input_shape[0], input_shape[1], 1))\n",
        "    print(\"Norm Data Shape:\", norm_data.shape)\n",
        "\n",
        "norm_layer = tf.keras.layers.Normalization()\n",
        "norm_layer.adapt(norm_data)"
      ]
    },
    {
      "cell_type": "markdown",
      "metadata": {
        "id": "W3N5rys9EF8B"
      },
      "source": [
        "Define a sequential 8 layer model as described above:"
      ]
    },
    {
      "cell_type": "code",
      "execution_count": null,
      "metadata": {
        "id": "mxuOlWgz4dt7"
      },
      "outputs": [],
      "source": [
        "REDO = True"
      ]
    },
    {
      "cell_type": "code",
      "execution_count": null,
      "metadata": {
        "colab": {
          "base_uri": "https://localhost:8080/"
        },
        "id": "XyO5ilzPPePi",
        "outputId": "7365cbe0-bf73-45ba-f00d-0931064d1569"
      },
      "outputs": [
        {
          "name": "stdout",
          "output_type": "stream",
          "text": [
            "Loading the create_spectrogram_for_map model\n",
            "Model: \"sequential\"\n",
            "_________________________________________________________________\n",
            " Layer (type)                Output Shape              Param #   \n",
            "=================================================================\n",
            " resizing (Resizing)         (None, 32, 32, 1)         0         \n",
            "                                                                 \n",
            " conv2d (Conv2D)             (None, 15, 15, 8)         136       \n",
            "                                                                 \n",
            " max_pooling2d (MaxPooling2  (None, 7, 7, 8)           0         \n",
            " D)                                                              \n",
            "                                                                 \n",
            " flatten (Flatten)           (None, 392)               0         \n",
            "                                                                 \n",
            " dropout (Dropout)           (None, 392)               0         \n",
            "                                                                 \n",
            " dense (Dense)               (None, 2)                 786       \n",
            "                                                                 \n",
            "=================================================================\n",
            "Total params: 922 (3.60 KB)\n",
            "Trainable params: 922 (3.60 KB)\n",
            "Non-trainable params: 0 (0.00 Byte)\n",
            "_________________________________________________________________\n"
          ]
        }
      ],
      "source": [
        "if os.path.isfile(f\"/content/drive/MyDrive/frugal/baseline_model_v7b_{spectrogram_setting}.keras\"):\n",
        "  print(\"Loading the \"+spectrogram_setting+\" model\")\n",
        "  baseline_model = tf.keras.models.load_model(f\"/content/drive/MyDrive/frugal/baseline_model_v7b_{spectrogram_setting}.keras\")\n",
        "else:\n",
        "  # baseline_model = tf.keras.models.Sequential([\n",
        "  # https://stackoverflow.com/questions/66879748/what-is-the-difference-between-tf-keras-model-and-tf-keras-sequential\n",
        "  baseline_model = tf.keras.models.Sequential([\n",
        "  tf.keras.layers.Input(shape=input_shape),\n",
        "  tf.keras.layers.Resizing(32, 32, interpolation=\"nearest\"),\n",
        "  tf.keras.layers.Conv2D(8, kernel_size=(4,4), strides=(2, 2), activation=\"relu\"),\n",
        "  tf.keras.layers.MaxPool2D(pool_size=(2,2)),\n",
        "  tf.keras.layers.Flatten(),\n",
        "  tf.keras.layers.Dropout(0.25),\n",
        "  tf.keras.layers.Dense(2, activation='softmax')])\n",
        "\n",
        "baseline_model.summary()"
      ]
    },
    {
      "cell_type": "markdown",
      "metadata": {
        "id": "N4PgoMF8ENpu"
      },
      "source": [
        "Compile the model with `accuracy` metrics, an Adam optimizer and a sparse categorical crossentropy loss function. As well as define early stopping and dynamic learning rate scheduler callbacks for training."
      ]
    },
    {
      "cell_type": "code",
      "execution_count": null,
      "metadata": {
        "id": "8bDSOjniYBLF"
      },
      "outputs": [],
      "source": [
        "# Define metrics for model evaluation\n",
        "METRICS = [\n",
        "    \"accuracy\",\n",
        "]\n",
        "\n",
        "# Compile the model\n",
        "baseline_model.compile(\n",
        "    optimizer=tf.keras.optimizers.Adam(learning_rate=0.001),\n",
        "    loss=tf.keras.losses.SparseCategoricalCrossentropy(from_logits=False),\n",
        "    metrics=METRICS,\n",
        ")\n",
        "\n",
        "# Learning rate scheduler\n",
        "def scheduler(epoch, lr):\n",
        "    if epoch < 10:\n",
        "        return lr\n",
        "    else:\n",
        "        return lr * tf.math.exp(-0.1)\n",
        "\n",
        "# Define callbacks\n",
        "callbacks = [\n",
        "    tf.keras.callbacks.EarlyStopping(verbose=1, patience=25),\n",
        "    tf.keras.callbacks.LearningRateScheduler(scheduler),\n",
        "]"
      ]
    },
    {
      "cell_type": "markdown",
      "metadata": {
        "id": "FBUof7CcErKE"
      },
      "source": [
        "Train the model:"
      ]
    },
    {
      "cell_type": "code",
      "execution_count": null,
      "metadata": {
        "colab": {
          "base_uri": "https://localhost:8080/"
        },
        "collapsed": true,
        "id": "lqs-O9o8QV58",
        "outputId": "678edf1d-63d9-4fb9-e2ee-7624937321c7"
      },
      "outputs": [
        {
          "name": "stdout",
          "output_type": "stream",
          "text": [
            "Epoch 1/40\n",
            "20/20 [==============================] - 82s 4s/step - loss: 0.5187 - accuracy: 0.7281 - val_loss: 0.5343 - val_accuracy: 0.7250 - lr: 0.0010\n",
            "Epoch 2/40\n",
            "20/20 [==============================] - 0s 6ms/step - loss: 0.5016 - accuracy: 0.7422 - val_loss: 0.5274 - val_accuracy: 0.7250 - lr: 0.0010\n",
            "Epoch 3/40\n",
            "20/20 [==============================] - 0s 6ms/step - loss: 0.5042 - accuracy: 0.7484 - val_loss: 0.5180 - val_accuracy: 0.7250 - lr: 0.0010\n",
            "Epoch 4/40\n",
            "20/20 [==============================] - 0s 6ms/step - loss: 0.4842 - accuracy: 0.7766 - val_loss: 0.5120 - val_accuracy: 0.7437 - lr: 0.0010\n",
            "Epoch 5/40\n",
            "20/20 [==============================] - 0s 6ms/step - loss: 0.4831 - accuracy: 0.7578 - val_loss: 0.5072 - val_accuracy: 0.7625 - lr: 0.0010\n",
            "Epoch 6/40\n",
            "20/20 [==============================] - 0s 6ms/step - loss: 0.4657 - accuracy: 0.7734 - val_loss: 0.5002 - val_accuracy: 0.7750 - lr: 0.0010\n",
            "Epoch 7/40\n",
            "20/20 [==============================] - 0s 6ms/step - loss: 0.4706 - accuracy: 0.7594 - val_loss: 0.4941 - val_accuracy: 0.7937 - lr: 0.0010\n",
            "Epoch 8/40\n",
            "20/20 [==============================] - 0s 6ms/step - loss: 0.4623 - accuracy: 0.7828 - val_loss: 0.4909 - val_accuracy: 0.7937 - lr: 0.0010\n",
            "Epoch 9/40\n",
            "20/20 [==============================] - 0s 6ms/step - loss: 0.4552 - accuracy: 0.7734 - val_loss: 0.4826 - val_accuracy: 0.8000 - lr: 0.0010\n",
            "Epoch 10/40\n",
            "20/20 [==============================] - 0s 6ms/step - loss: 0.4483 - accuracy: 0.7984 - val_loss: 0.4813 - val_accuracy: 0.8000 - lr: 0.0010\n",
            "Epoch 11/40\n",
            "20/20 [==============================] - 0s 6ms/step - loss: 0.4458 - accuracy: 0.7984 - val_loss: 0.4763 - val_accuracy: 0.8000 - lr: 9.0484e-04\n",
            "Epoch 12/40\n",
            "20/20 [==============================] - 0s 6ms/step - loss: 0.4444 - accuracy: 0.7922 - val_loss: 0.4758 - val_accuracy: 0.8000 - lr: 8.1873e-04\n",
            "Epoch 13/40\n",
            "20/20 [==============================] - 0s 6ms/step - loss: 0.4419 - accuracy: 0.8031 - val_loss: 0.4720 - val_accuracy: 0.8000 - lr: 7.4082e-04\n",
            "Epoch 14/40\n",
            "20/20 [==============================] - 0s 6ms/step - loss: 0.4463 - accuracy: 0.8000 - val_loss: 0.4741 - val_accuracy: 0.8000 - lr: 6.7032e-04\n",
            "Epoch 15/40\n",
            "20/20 [==============================] - 0s 6ms/step - loss: 0.4346 - accuracy: 0.7953 - val_loss: 0.4684 - val_accuracy: 0.8000 - lr: 6.0653e-04\n",
            "Epoch 16/40\n",
            "20/20 [==============================] - 0s 6ms/step - loss: 0.4222 - accuracy: 0.8031 - val_loss: 0.4676 - val_accuracy: 0.8000 - lr: 5.4881e-04\n",
            "Epoch 17/40\n",
            "20/20 [==============================] - 0s 6ms/step - loss: 0.4395 - accuracy: 0.7875 - val_loss: 0.4657 - val_accuracy: 0.8000 - lr: 4.9659e-04\n",
            "Epoch 18/40\n",
            "20/20 [==============================] - 0s 6ms/step - loss: 0.4221 - accuracy: 0.8219 - val_loss: 0.4659 - val_accuracy: 0.8062 - lr: 4.4933e-04\n",
            "Epoch 19/40\n",
            "20/20 [==============================] - 0s 6ms/step - loss: 0.4334 - accuracy: 0.8062 - val_loss: 0.4639 - val_accuracy: 0.8000 - lr: 4.0657e-04\n",
            "Epoch 20/40\n",
            "20/20 [==============================] - 0s 6ms/step - loss: 0.4336 - accuracy: 0.7984 - val_loss: 0.4628 - val_accuracy: 0.8000 - lr: 3.6788e-04\n",
            "Epoch 21/40\n",
            "20/20 [==============================] - 0s 6ms/step - loss: 0.4436 - accuracy: 0.7937 - val_loss: 0.4631 - val_accuracy: 0.8062 - lr: 3.3287e-04\n",
            "Epoch 22/40\n",
            "20/20 [==============================] - 0s 6ms/step - loss: 0.4300 - accuracy: 0.8016 - val_loss: 0.4618 - val_accuracy: 0.8062 - lr: 3.0119e-04\n",
            "Epoch 23/40\n",
            "20/20 [==============================] - 0s 6ms/step - loss: 0.4305 - accuracy: 0.8078 - val_loss: 0.4603 - val_accuracy: 0.8062 - lr: 2.7253e-04\n",
            "Epoch 24/40\n",
            "20/20 [==============================] - 0s 6ms/step - loss: 0.4273 - accuracy: 0.8125 - val_loss: 0.4591 - val_accuracy: 0.8062 - lr: 2.4660e-04\n",
            "Epoch 25/40\n",
            "20/20 [==============================] - 0s 6ms/step - loss: 0.4242 - accuracy: 0.8016 - val_loss: 0.4606 - val_accuracy: 0.8062 - lr: 2.2313e-04\n",
            "Epoch 26/40\n",
            "20/20 [==============================] - 0s 6ms/step - loss: 0.4190 - accuracy: 0.7984 - val_loss: 0.4598 - val_accuracy: 0.8062 - lr: 2.0190e-04\n",
            "Epoch 27/40\n",
            "20/20 [==============================] - 0s 6ms/step - loss: 0.4223 - accuracy: 0.8188 - val_loss: 0.4603 - val_accuracy: 0.8062 - lr: 1.8268e-04\n",
            "Epoch 28/40\n",
            "20/20 [==============================] - 0s 6ms/step - loss: 0.4320 - accuracy: 0.8109 - val_loss: 0.4598 - val_accuracy: 0.8062 - lr: 1.6530e-04\n",
            "Epoch 29/40\n",
            "20/20 [==============================] - 0s 6ms/step - loss: 0.4223 - accuracy: 0.8281 - val_loss: 0.4601 - val_accuracy: 0.8062 - lr: 1.4957e-04\n",
            "Epoch 30/40\n",
            "20/20 [==============================] - 0s 6ms/step - loss: 0.4232 - accuracy: 0.8078 - val_loss: 0.4581 - val_accuracy: 0.8062 - lr: 1.3534e-04\n",
            "Epoch 31/40\n",
            "20/20 [==============================] - 0s 6ms/step - loss: 0.4137 - accuracy: 0.8172 - val_loss: 0.4578 - val_accuracy: 0.8062 - lr: 1.2246e-04\n",
            "Epoch 32/40\n",
            "20/20 [==============================] - 0s 6ms/step - loss: 0.4211 - accuracy: 0.8094 - val_loss: 0.4581 - val_accuracy: 0.8062 - lr: 1.1080e-04\n",
            "Epoch 33/40\n",
            "20/20 [==============================] - 0s 6ms/step - loss: 0.4147 - accuracy: 0.8156 - val_loss: 0.4596 - val_accuracy: 0.8062 - lr: 1.0026e-04\n",
            "Epoch 34/40\n",
            "20/20 [==============================] - 0s 6ms/step - loss: 0.4200 - accuracy: 0.8109 - val_loss: 0.4585 - val_accuracy: 0.8062 - lr: 9.0718e-05\n",
            "Epoch 35/40\n",
            "20/20 [==============================] - 0s 6ms/step - loss: 0.4361 - accuracy: 0.8000 - val_loss: 0.4583 - val_accuracy: 0.8062 - lr: 8.2085e-05\n",
            "Epoch 36/40\n",
            "20/20 [==============================] - 0s 6ms/step - loss: 0.4412 - accuracy: 0.8016 - val_loss: 0.4586 - val_accuracy: 0.8062 - lr: 7.4274e-05\n",
            "Epoch 37/40\n",
            "20/20 [==============================] - 0s 6ms/step - loss: 0.4274 - accuracy: 0.7969 - val_loss: 0.4587 - val_accuracy: 0.8062 - lr: 6.7206e-05\n",
            "Epoch 38/40\n",
            "20/20 [==============================] - 0s 6ms/step - loss: 0.4139 - accuracy: 0.8109 - val_loss: 0.4584 - val_accuracy: 0.8062 - lr: 6.0810e-05\n",
            "Epoch 39/40\n",
            "20/20 [==============================] - 0s 6ms/step - loss: 0.4209 - accuracy: 0.8188 - val_loss: 0.4580 - val_accuracy: 0.8062 - lr: 5.5023e-05\n",
            "Epoch 40/40\n",
            "20/20 [==============================] - 0s 6ms/step - loss: 0.4275 - accuracy: 0.8031 - val_loss: 0.4574 - val_accuracy: 0.8062 - lr: 4.9787e-05\n"
          ]
        }
      ],
      "source": [
        "# Durée de training:\n",
        "# arm spectrogram - 6mins for 50 puis 4s/step for everything.\n",
        "EPOCHS = 40\n",
        "\n",
        "history = baseline_model.fit(\n",
        "    train_ds.take(20).cache(),\n",
        "    validation_data=val_ds.take(5).cache(),\n",
        "    epochs=EPOCHS,\n",
        "    callbacks=callbacks\n",
        ")"
      ]
    },
    {
      "cell_type": "markdown",
      "metadata": {
        "id": "AjnfP2hCFB9z"
      },
      "source": [
        "Evaluate the loss and accuracy of the test dataset:"
      ]
    },
    {
      "cell_type": "code",
      "execution_count": null,
      "metadata": {
        "colab": {
          "base_uri": "https://localhost:8080/",
          "height": 430
        },
        "id": "EUkD7k3uZ-ZT",
        "outputId": "e7f5798a-6433-48de-acc1-9d233f4ce78c"
      },
      "outputs": [
        {
          "data": {
            "image/png": "[encoded data removed]",
            "text/plain": [
              "<Figure size 640x480 with 1 Axes>"
            ]
          },
          "metadata": {},
          "output_type": "display_data"
        }
      ],
      "source": [
        "from matplotlib import pyplot\n",
        "\n",
        "pyplot.plot(history.history['loss'], label='train')\n",
        "pyplot.plot(history.history['val_loss'], label='test')\n",
        "\n",
        "pyplot.plot(history.history['accuracy'], label='train')\n",
        "pyplot.plot(history.history['val_accuracy'], label='test')\n",
        "pyplot.legend()\n",
        "pyplot.savefig(f\"/content/drive/MyDrive/frugal/baseline_model_v7b_{spectrogram_setting}_learn.jpg\")"
      ]
    },
    {
      "cell_type": "code",
      "execution_count": null,
      "metadata": {
        "colab": {
          "base_uri": "https://localhost:8080/"
        },
        "id": "lE-Oi3wv4Ufh",
        "outputId": "09c60647-b137-46ef-f54f-fa660ad2dbb0"
      },
      "outputs": [
        {
          "name": "stderr",
          "output_type": "stream",
          "text": [
            "/usr/local/lib/python3.11/dist-packages/tf_keras/src/engine/training.py:3098: UserWarning: You are saving your model as an HDF5 file via `model.save()`. This file format is considered legacy. We recommend using instead the native TF-Keras format, e.g. `model.save('my_model.keras')`.\n",
            "  saving_api.save_model(\n"
          ]
        },
        {
          "name": "stdout",
          "output_type": "stream",
          "text": [
            "updating: content/drive/MyDrive/frugal/baseline_model_v7b_create_spectrogram_for_map.keras (deflated 68%)\n",
            "  adding: baseline_model_v7b_create_spectrogram_for_map.keras (deflated 68%)\n"
          ]
        }
      ],
      "source": [
        "#Saves on drive\n",
        "baseline_model.save(f\"/content/drive/MyDrive/frugal/baseline_model_v7b_{spectrogram_setting}.keras\",save_format=\"h5\")\n",
        "#Saves local machine\n",
        "baseline_model.save(f\"baseline_model_v7b_{spectrogram_setting}.keras\",save_format=\"h5\")\n",
        "\n",
        "!zip -r /content/drive/MyDrive/frugal/baseline_model_v7b_{spectrogram_setting}.zip /content/drive/MyDrive/frugal/baseline_model_v7b_{spectrogram_setting}.keras\n",
        "!zip -r baseline_model_v7b_{spectrogram_setting}.zip baseline_model_v7b_{spectrogram_setting}.keras\n",
        "\n",
        "#Saves on drive\n",
        "baseline_model.save(f\"/content/drive/MyDrive/frugal/baseline_model_v7b_{spectrogram_setting}.keras\",save_format=\"h5\")\n",
        "#Saves local machine\n",
        "baseline_model.save(f\"baseline_model_v7b_{spectrogram_setting}.keras\",save_format=\"h5\")"
      ]
    },
    {
      "cell_type": "markdown",
      "metadata": {
        "id": "8HW-PdaT5Fx0"
      },
      "source": [
        "# Model optim for pic0\n",
        "\n",
        "## Model Optimization\n",
        "\n",
        "To optimize the model to run on the Arm Cortex-M0+ processor, we will use a process called model quantization. Model quantization converts the model’s weights and biases from 32-bit floating-point values to 8-bit values. The [pico-tflmicro](https://github.com/raspberrypi/pico-tflmicro) library, which is a port of TFLu for the RP2040’s Pico SDK contains Arm’s CMSIS-NN library, which supports optimized kernel operations for quantized 8-bit weights on Arm Cortex-M processors.\n",
        "\n",
        "**Beware** of course this model should be based on the pico's arm's spectrogram, of course.\n"
      ]
    },
    {
      "cell_type": "markdown",
      "metadata": {
        "id": "2HRVOG9-5JsE"
      },
      "source": [
        "### Quantization Aware Training\n",
        "\n",
        "We can use [TensorFlow’s Quantization Aware Training (QAT)](https://www.tensorflow.org/model_optimization/guide/quantization/training) feature to easily convert the floating-point model to quantized."
      ]
    },
    {
      "cell_type": "code",
      "execution_count": null,
      "metadata": {
        "colab": {
          "base_uri": "https://localhost:8080/"
        },
        "id": "XyWDswSD5PKF",
        "outputId": "7d0d8188-3188-42a6-b1c6-d339e96f1a15"
      },
      "outputs": [
        {
          "name": "stdout",
          "output_type": "stream",
          "text": [
            "Model: \"sequential\"\n",
            "_________________________________________________________________\n",
            " Layer (type)                Output Shape              Param #   \n",
            "=================================================================\n",
            " resizing (Resizing)         (None, 32, 32, 1)         0         \n",
            "                                                                 \n",
            " quant_conv2d (QuantizeWrap  (None, 15, 15, 8)         155       \n",
            " perV2)                                                          \n",
            "                                                                 \n",
            " max_pooling2d (MaxPooling2  (None, 7, 7, 8)           0         \n",
            " D)                                                              \n",
            "                                                                 \n",
            " flatten (Flatten)           (None, 392)               0         \n",
            "                                                                 \n",
            " quant_dropout (QuantizeWra  (None, 392)               1         \n",
            " pperV2)                                                         \n",
            "                                                                 \n",
            " quant_dense (QuantizeWrapp  (None, 2)                 791       \n",
            " erV2)                                                           \n",
            "                                                                 \n",
            "=================================================================\n",
            "Total params: 947 (3.70 KB)\n",
            "Trainable params: 922 (3.60 KB)\n",
            "Non-trainable params: 25 (100.00 Byte)\n",
            "_________________________________________________________________\n"
          ]
        }
      ],
      "source": [
        "import tensorflow_model_optimization as tfmot\n",
        "\n",
        "if os.path.isfile(f\"/content/drive/MyDrive/frugal/quant_aware_model_v7b_{spectrogram_setting}_QAT.keras\") and False:\n",
        "  # We load an existing quantified model\n",
        "  print(\"Loading a model from\",f\"/content/drive/MyDrive/frugal/quant_aware_model_v7b_{spectrogram_setting}_QAT.keras\")\n",
        "  quant_aware_model = tf.keras.models.load_model(f\"/content/drive/MyDrive/frugal/quant_aware_model_v7b_{spectrogram_setting}_QAT.keras\")\n",
        "else:\n",
        "  # We load the non quant'ed model to process it\n",
        "  final_model = tf.keras.models.load_model(f\"/content/drive/MyDrive/frugal/baseline_model_v7b_{spectrogram_setting}.keras\")\n",
        "  supported_layers = [tf.keras.layers.Conv2D, tf.keras.layers.Dense, tf.keras.layers.ReLU]\n",
        "\n",
        "  def apply_quantization_to_dense(layer):\n",
        "    for supported_layer in supported_layers:\n",
        "      if isinstance(layer, tf.keras.layers.Dense):\n",
        "        return tfmot.quantization.keras.quantize_annotate_layer(layer)\n",
        "    return layer\n",
        "\n",
        "  def apply_qat_to_dense_and_cnn(layer):\n",
        "    if isinstance(layer, (tf.keras.layers.Dense, tf.keras.layers.Conv2D)):\n",
        "      return tfmot.quantization.keras.quantize_annotate_layer(layer)\n",
        "    return layer\n",
        "\n",
        "  annotated_model = tf.keras.models.clone_model(\n",
        "      final_model,\n",
        "      clone_function=apply_qat_to_dense_and_cnn,\n",
        "  )\n",
        "\n",
        "  quant_aware_model = tfmot.quantization.keras.quantize_apply(annotated_model)\n",
        "\n",
        "quant_aware_model.summary()"
      ]
    },
    {
      "cell_type": "code",
      "execution_count": null,
      "metadata": {
        "id": "jmHPDwpI5g29"
      },
      "outputs": [],
      "source": [
        "quant_aware_model.compile(\n",
        "    optimizer=tf.keras.optimizers.Adam(learning_rate=0.001),\n",
        "    loss=tf.keras.losses.SparseCategoricalCrossentropy(from_logits=False),\n",
        "    metrics=METRICS,\n",
        ")"
      ]
    },
    {
      "cell_type": "code",
      "execution_count": null,
      "metadata": {
        "colab": {
          "base_uri": "https://localhost:8080/"
        },
        "id": "-sfg63y4WcG1",
        "outputId": "386471b0-8140-4aca-ace5-fcbfa09000fa"
      },
      "outputs": [
        {
          "name": "stdout",
          "output_type": "stream",
          "text": [
            "Epoch 1/40\n",
            "20/20 [==============================] - 116s 6s/step - loss: 0.4338 - accuracy: 0.8062 - val_loss: 0.4963 - val_accuracy: 0.7906\n",
            "Epoch 2/40\n",
            "20/20 [==============================] - 0s 8ms/step - loss: 0.4311 - accuracy: 0.8141 - val_loss: 0.5008 - val_accuracy: 0.8031\n",
            "Epoch 3/40\n",
            "20/20 [==============================] - 0s 7ms/step - loss: 0.4163 - accuracy: 0.8188 - val_loss: 0.4967 - val_accuracy: 0.8062\n",
            "Epoch 4/40\n",
            "20/20 [==============================] - 0s 7ms/step - loss: 0.4261 - accuracy: 0.8156 - val_loss: 0.4952 - val_accuracy: 0.8000\n",
            "Epoch 5/40\n",
            "20/20 [==============================] - 0s 7ms/step - loss: 0.4281 - accuracy: 0.8062 - val_loss: 0.4979 - val_accuracy: 0.8000\n",
            "Epoch 6/40\n",
            "20/20 [==============================] - 0s 7ms/step - loss: 0.4246 - accuracy: 0.8156 - val_loss: 0.4975 - val_accuracy: 0.7969\n",
            "Epoch 7/40\n",
            "20/20 [==============================] - 0s 7ms/step - loss: 0.4174 - accuracy: 0.8219 - val_loss: 0.5005 - val_accuracy: 0.7906\n",
            "Epoch 8/40\n",
            "20/20 [==============================] - 0s 7ms/step - loss: 0.4206 - accuracy: 0.7984 - val_loss: 0.4979 - val_accuracy: 0.7937\n",
            "Epoch 9/40\n",
            "20/20 [==============================] - 0s 7ms/step - loss: 0.4077 - accuracy: 0.8094 - val_loss: 0.4956 - val_accuracy: 0.7937\n",
            "Epoch 10/40\n",
            "20/20 [==============================] - 0s 7ms/step - loss: 0.4103 - accuracy: 0.8250 - val_loss: 0.4963 - val_accuracy: 0.7906\n",
            "Epoch 11/40\n",
            "20/20 [==============================] - 0s 7ms/step - loss: 0.3991 - accuracy: 0.8266 - val_loss: 0.4910 - val_accuracy: 0.8000\n",
            "Epoch 12/40\n",
            "20/20 [==============================] - 0s 7ms/step - loss: 0.4196 - accuracy: 0.8047 - val_loss: 0.4942 - val_accuracy: 0.7812\n",
            "Epoch 13/40\n",
            "20/20 [==============================] - 0s 7ms/step - loss: 0.4148 - accuracy: 0.8156 - val_loss: 0.4906 - val_accuracy: 0.8000\n",
            "Epoch 14/40\n",
            "20/20 [==============================] - 0s 7ms/step - loss: 0.4170 - accuracy: 0.8078 - val_loss: 0.4936 - val_accuracy: 0.7812\n",
            "Epoch 15/40\n",
            "20/20 [==============================] - 0s 7ms/step - loss: 0.4239 - accuracy: 0.8172 - val_loss: 0.4902 - val_accuracy: 0.7875\n",
            "Epoch 16/40\n",
            "20/20 [==============================] - 0s 7ms/step - loss: 0.4016 - accuracy: 0.8250 - val_loss: 0.4914 - val_accuracy: 0.7906\n",
            "Epoch 17/40\n",
            "20/20 [==============================] - 0s 7ms/step - loss: 0.3963 - accuracy: 0.8406 - val_loss: 0.4897 - val_accuracy: 0.7906\n",
            "Epoch 18/40\n",
            "20/20 [==============================] - 0s 7ms/step - loss: 0.4014 - accuracy: 0.8422 - val_loss: 0.4892 - val_accuracy: 0.7906\n",
            "Epoch 19/40\n",
            "20/20 [==============================] - 0s 7ms/step - loss: 0.3987 - accuracy: 0.8344 - val_loss: 0.4891 - val_accuracy: 0.7906\n",
            "Epoch 20/40\n",
            "20/20 [==============================] - 0s 7ms/step - loss: 0.4014 - accuracy: 0.8375 - val_loss: 0.4877 - val_accuracy: 0.7844\n",
            "Epoch 21/40\n",
            "20/20 [==============================] - 0s 7ms/step - loss: 0.4024 - accuracy: 0.8313 - val_loss: 0.4846 - val_accuracy: 0.7937\n",
            "Epoch 22/40\n",
            "20/20 [==============================] - 0s 7ms/step - loss: 0.3977 - accuracy: 0.8156 - val_loss: 0.4838 - val_accuracy: 0.8031\n",
            "Epoch 23/40\n",
            "20/20 [==============================] - 0s 7ms/step - loss: 0.3992 - accuracy: 0.8391 - val_loss: 0.4834 - val_accuracy: 0.8031\n",
            "Epoch 24/40\n",
            "20/20 [==============================] - 0s 7ms/step - loss: 0.3965 - accuracy: 0.8328 - val_loss: 0.4871 - val_accuracy: 0.7969\n",
            "Epoch 25/40\n",
            "20/20 [==============================] - 0s 7ms/step - loss: 0.3967 - accuracy: 0.8188 - val_loss: 0.4868 - val_accuracy: 0.7937\n",
            "Epoch 26/40\n",
            "20/20 [==============================] - 0s 7ms/step - loss: 0.4031 - accuracy: 0.8281 - val_loss: 0.4847 - val_accuracy: 0.7937\n",
            "Epoch 27/40\n",
            "20/20 [==============================] - 0s 7ms/step - loss: 0.4024 - accuracy: 0.8328 - val_loss: 0.4856 - val_accuracy: 0.7969\n",
            "Epoch 28/40\n",
            "20/20 [==============================] - 0s 7ms/step - loss: 0.3821 - accuracy: 0.8500 - val_loss: 0.4827 - val_accuracy: 0.8031\n",
            "Epoch 29/40\n",
            "20/20 [==============================] - 0s 7ms/step - loss: 0.4031 - accuracy: 0.8234 - val_loss: 0.4864 - val_accuracy: 0.7906\n",
            "Epoch 30/40\n",
            "20/20 [==============================] - 0s 7ms/step - loss: 0.3918 - accuracy: 0.8344 - val_loss: 0.4847 - val_accuracy: 0.7906\n",
            "Epoch 31/40\n",
            "20/20 [==============================] - 0s 7ms/step - loss: 0.4004 - accuracy: 0.8375 - val_loss: 0.4853 - val_accuracy: 0.7844\n",
            "Epoch 32/40\n",
            "20/20 [==============================] - 0s 7ms/step - loss: 0.3820 - accuracy: 0.8344 - val_loss: 0.4812 - val_accuracy: 0.8031\n",
            "Epoch 33/40\n",
            "20/20 [==============================] - 0s 7ms/step - loss: 0.3940 - accuracy: 0.8344 - val_loss: 0.4846 - val_accuracy: 0.7906\n",
            "Epoch 34/40\n",
            "20/20 [==============================] - 0s 7ms/step - loss: 0.3774 - accuracy: 0.8500 - val_loss: 0.4776 - val_accuracy: 0.8062\n",
            "Epoch 35/40\n",
            "20/20 [==============================] - 0s 7ms/step - loss: 0.3817 - accuracy: 0.8469 - val_loss: 0.4852 - val_accuracy: 0.7875\n",
            "Epoch 36/40\n",
            "20/20 [==============================] - 0s 7ms/step - loss: 0.3898 - accuracy: 0.8328 - val_loss: 0.4867 - val_accuracy: 0.7875\n",
            "Epoch 37/40\n",
            "20/20 [==============================] - 0s 7ms/step - loss: 0.3956 - accuracy: 0.8266 - val_loss: 0.4813 - val_accuracy: 0.7875\n",
            "Epoch 38/40\n",
            "20/20 [==============================] - 0s 7ms/step - loss: 0.3887 - accuracy: 0.8297 - val_loss: 0.4828 - val_accuracy: 0.8000\n",
            "Epoch 39/40\n",
            "20/20 [==============================] - 0s 7ms/step - loss: 0.3858 - accuracy: 0.8328 - val_loss: 0.4828 - val_accuracy: 0.7906\n",
            "Epoch 40/40\n",
            "20/20 [==============================] - 0s 7ms/step - loss: 0.3860 - accuracy: 0.8313 - val_loss: 0.4770 - val_accuracy: 0.8000\n"
          ]
        }
      ],
      "source": [
        "EPOCHS=40 # 235s on CPUy for 20 items, 10 tests\n",
        "quant_aware_history = quant_aware_model.fit(\n",
        "    train_ds.take(20).cache(),\n",
        "    validation_data=val_ds.take(10).cache(),\n",
        "    epochs=EPOCHS\n",
        ")"
      ]
    },
    {
      "cell_type": "code",
      "execution_count": null,
      "metadata": {
        "colab": {
          "base_uri": "https://localhost:8080/",
          "height": 430
        },
        "id": "T-Xxu3iFrYAn",
        "outputId": "8303c287-0631-4a8f-8929-ecacbe074d9d"
      },
      "outputs": [
        {
          "data": {
            "image/png": "[encoded data removed]",
            "text/plain": [
              "<Figure size 640x480 with 1 Axes>"
            ]
          },
          "metadata": {},
          "output_type": "display_data"
        }
      ],
      "source": [
        "from matplotlib import pyplot\n",
        "\n",
        "pyplot.plot(quant_aware_history.history['loss'], label='train')\n",
        "pyplot.plot(quant_aware_history.history['val_loss'], label='test')\n",
        "\n",
        "pyplot.plot(quant_aware_history.history['accuracy'], label='train')\n",
        "pyplot.plot(quant_aware_history.history['val_accuracy'], label='test')\n",
        "\n",
        "pyplot.savefig(f\"/content/drive/MyDrive/frugal/baseline_model_v7b_{spectrogram_setting}_QAT_learn.jpg\")"
      ]
    },
    {
      "cell_type": "code",
      "execution_count": null,
      "metadata": {
        "id": "0ZzbTejMYxW3"
      },
      "outputs": [],
      "source": [
        "#Saving the quantified model"
      ]
    },
    {
      "cell_type": "code",
      "execution_count": null,
      "metadata": {
        "colab": {
          "base_uri": "https://localhost:8080/"
        },
        "id": "ATxvjZXk-cdU",
        "outputId": "802a782d-3582-458c-fb5f-010f98026c33"
      },
      "outputs": [
        {
          "name": "stdout",
          "output_type": "stream",
          "text": [
            "  adding: content/drive/MyDrive/frugal/quant_aware_model_v7b_create_spectrogram_for_map_QAT.keras (deflated 76%)\n",
            "  adding: quant_aware_model_v7b_create_spectrogram_for_map_QAT.keras (deflated 76%)\n"
          ]
        }
      ],
      "source": [
        "#Saves on drive\n",
        "quant_aware_model.save(f\"/content/drive/MyDrive/frugal/quant_aware_model_v7b_{spectrogram_setting}_QAT.keras\")\n",
        "#Saves local machine\n",
        "quant_aware_model.save(f\"quant_aware_model_v7b_{spectrogram_setting}_QAT.keras\")\n",
        "\n",
        "!zip -r /content/drive/MyDrive/frugal/quant_aware_model_v7b_{spectrogram_setting}_QAT.zip /content/drive/MyDrive/frugal/quant_aware_model_v7b_{spectrogram_setting}_QAT.keras\n",
        "!zip -r quant_aware_model_v7b_{spectrogram_setting}_QAT.zip quant_aware_model_v7b_{spectrogram_setting}_QAT.keras\n",
        "\n",
        "#Saves on drive\n",
        "quant_aware_model.save(f\"/content/drive/MyDrive/frugal/quant_aware_model_v7b_{spectrogram_setting}_QAT.keras\")\n",
        "#Saves local machine\n",
        "quant_aware_model.save(f\"quant_aware_model_v7b_{spectrogram_setting}_QAT.keras\")\n"
      ]
    },
    {
      "cell_type": "code",
      "execution_count": null,
      "metadata": {
        "colab": {
          "base_uri": "https://localhost:8080/"
        },
        "id": "z4ZgfQJa4ijT",
        "outputId": "f6cd55b9-6eaa-4882-86dc-ce1cfb914523"
      },
      "outputs": [
        {
          "name": "stdout",
          "output_type": "stream",
          "text": [
            "2/2 [==============================] - 20s 14s/step - loss: 0.3625 - accuracy: 0.8750\n"
          ]
        },
        {
          "data": {
            "text/plain": [
              "{'model': 'baseline_model_v7b_create_spectrogram_for_map',\n",
              " 'loss': 0.36249858140945435,\n",
              " 'accuracy': 0.875}"
            ]
          },
          "execution_count": 47,
          "metadata": {},
          "output_type": "execute_result"
        }
      ],
      "source": [
        "# Eval on CPU for take(1) is 9s fot QAT\n",
        "score_QATmodel = quant_aware_model.evaluate(test_ds.take(2).cache())\n",
        "score = {\"model\": \"baseline_model_v7b_\"+spectrogram_setting, \"loss\":score_QATmodel[0], \"accuracy\":score_QATmodel[1]}\n",
        "with open(f\"/content/drive/MyDrive/frugal/quant_aware_model_v7b_{spectrogram_setting}.score.json\", \"w\") as j:\n",
        "  j.write(json.dumps(score))\n",
        "score"
      ]
    },
    {
      "cell_type": "markdown",
      "metadata": {
        "id": "rINV6dEU5sqp"
      },
      "source": [
        "### Saving model in TFLite format\n",
        "\n",
        "We will now use the [tf.lite.TFLiteConverter.from_keras_model(...)](https://www.tensorflow.org/api_docs/python/tf/lite/TFLiteConverter#from_keras_model) API to convert the quantized Keras model to TF Lite format, and then save it to disk as a `.tflite` file."
      ]
    },
    {
      "cell_type": "code",
      "execution_count": null,
      "metadata": {
        "colab": {
          "base_uri": "https://localhost:8080/"
        },
        "id": "rRuuJi145r8r",
        "outputId": "95f13b0a-a509-408b-add8-c2875e26df5e"
      },
      "outputs": [
        {
          "name": "stderr",
          "output_type": "stream",
          "text": [
            "/usr/local/lib/python3.11/dist-packages/tensorflow/lite/python/convert.py:983: UserWarning: Statistics for quantized inputs were expected, but not specified; continuing anyway.\n",
            "  warnings.warn(\n"
          ]
        }
      ],
      "source": [
        "converter = tf.lite.TFLiteConverter.from_keras_model(quant_aware_model)\n",
        "converter.optimizations = [tf.lite.Optimize.DEFAULT]\n",
        "\n",
        "def representative_data_gen():\n",
        "  for input_value, output_value in train_ds.unbatch().batch(1).take(100):\n",
        "    # Model has only one input so each data point has one element.\n",
        "    yield [input_value]\n",
        "\n",
        "converter.representative_dataset = representative_data_gen\n",
        "# Ensure that if any ops can't be quantized, the converter throws an error\n",
        "converter.target_spec.supported_ops = [tf.lite.OpsSet.TFLITE_BUILTINS_INT8]\n",
        "# Set the input and output tensors to uint8 (APIs added in r2.3)\n",
        "converter.inference_input_type = tf.int8\n",
        "converter.inference_output_type = tf.int8\n",
        "tflite_model_quant = converter.convert()\n",
        "\n",
        "tflite = f\"/content/drive/MyDrive/frugal/tflite_model_v7b_{spectrogram_setting}.tflite\"\n",
        "with open(tflite, \"wb\") as f:\n",
        "  f.write(tflite_model_quant)"
      ]
    },
    {
      "cell_type": "code",
      "execution_count": null,
      "metadata": {
        "colab": {
          "base_uri": "https://localhost:8080/"
        },
        "id": "h9ncMf6YQMW6",
        "outputId": "ea51ce3c-f60a-4c62-b6f1-a0be1662f713"
      },
      "outputs": [
        {
          "data": {
            "text/plain": [
              "True"
            ]
          },
          "execution_count": 49,
          "metadata": {},
          "output_type": "execute_result"
        }
      ],
      "source": [
        "os.path.isfile(tflite)"
      ]
    },
    {
      "cell_type": "code",
      "execution_count": null,
      "metadata": {
        "id": "4kHJ0VEOGYO-"
      },
      "outputs": [],
      "source": [
        "!echo \"alignas(8) const unsigned char tflite_model[] = {\" > /content/drive/MyDrive/frugal/tflite_v7b_{spectrogram_setting}_model.h\n",
        "!cat /content/drive/MyDrive/frugal/tflite_model_v7b_{spectrogram_setting}.tflite | xxd -i                        >> /content/drive/MyDrive/frugal/tflite_v7b_{spectrogram_setting}_model.h\n",
        "!echo \"};\"                                               >> /content/drive/MyDrive/frugal/tflite_v7b_{spectrogram_setting}_model.h\n",
        "\n",
        "!echo \"alignas(8) const unsigned char tflite_model[] = {\" > tflite_model_v7b.h\n",
        "!cat /content/drive/MyDrive/frugal/tflite_model_v7b_{spectrogram_setting}.tflite | xxd -i                        >> tflite_model_v7b.h\n",
        "!echo \"};\"                                               >> tflite_model_v7b.h"
      ]
    },
    {
      "cell_type": "markdown",
      "metadata": {
        "id": "StbdFxpk6D_8"
      },
      "source": [
        "### Test TF Lite model\n",
        "\n",
        "Since TensorFlow also supports loading TF Lite models using [`tensorflow.lite`](https://www.tensorflow.org/api_docs/python/tf/lite), we can also verify the functionality of the quantized model and compare its accuracy with the regular unquantized model inside the notebook."
      ]
    },
    {
      "cell_type": "code",
      "execution_count": null,
      "metadata": {
        "id": "MSmewwScb-r0"
      },
      "outputs": [],
      "source": [
        "DoTests = False"
      ]
    },
    {
      "cell_type": "code",
      "execution_count": null,
      "metadata": {
        "colab": {
          "base_uri": "https://localhost:8080/"
        },
        "id": "qZkEUTBr6Hd-",
        "outputId": "f1dc5333-c51d-453e-f87b-a9c7b83a847a"
      },
      "outputs": [
        {
          "name": "stdout",
          "output_type": "stream",
          "text": [
            "Loading /content/drive/MyDrive/frugal/tflite_model_v7b_create_spectrogram_for_map.tflite\n"
          ]
        }
      ],
      "source": [
        "import tensorflow.lite as tflite\n",
        "\n",
        "print( f\"Loading /content/drive/MyDrive/frugal/tflite_model_v7b_{spectrogram_setting}.tflite\")\n",
        "# Load the interpreter and allocate tensors\n",
        "interpreter = tflite.Interpreter( f\"/content/drive/MyDrive/frugal/tflite_model_v7b_{spectrogram_setting}.tflite\")\n",
        "interpreter.allocate_tensors()\n",
        "\n",
        "# Load input and output details\n",
        "input_details = interpreter.get_input_details()[0]\n",
        "output_details = interpreter.get_output_details()[0]\n",
        "\n",
        "# Set quantization values\n",
        "input_scale, input_zero_point = input_details[\"quantization\"]\n",
        "output_scale, output_zero_point = output_details[\"quantization\"]"
      ]
    },
    {
      "cell_type": "code",
      "execution_count": null,
      "metadata": {
        "colab": {
          "base_uri": "https://localhost:8080/"
        },
        "id": "IUx7s-y45tvB",
        "outputId": "3a197642-b04f-48b0-f8ee-c1f185fd87ea"
      },
      "outputs": [
        {
          "data": {
            "text/plain": [
              "(0.003921568859368563, -128, '--', 0.00390625, -128, numpy.int8)"
            ]
          },
          "execution_count": 53,
          "metadata": {},
          "output_type": "execute_result"
        }
      ],
      "source": [
        "input_scale, input_zero_point, \"--\",output_scale, output_zero_point, input_details['dtype']"
      ]
    },
    {
      "cell_type": "code",
      "execution_count": null,
      "metadata": {
        "id": "nTaHXE716yZO"
      },
      "outputs": [],
      "source": [
        "DoTests = True"
      ]
    },
    {
      "cell_type": "code",
      "execution_count": null,
      "metadata": {
        "colab": {
          "background_save": true,
          "base_uri": "https://localhost:8080/"
        },
        "id": "yLw9Yy7w6bwy",
        "outputId": "80a30291-a59b-4562-d4cf-daf92df5e168"
      },
      "outputs": [
        {
          "name": "stdout",
          "output_type": "stream",
          "text": [
            "0\n",
            "-128 126\n",
            "-128 126\n",
            "-128 126\n",
            "-128 126\n",
            "-128 126\n",
            "-128 126\n",
            "-128 126\n",
            "-128 126\n",
            "-128 126\n",
            "-128 126\n",
            "10\n",
            "-128 126\n",
            "-128 126\n",
            "-128 126\n",
            "-128 126\n",
            "-128 126\n",
            "-128 126\n",
            "-128 126\n",
            "-128 126\n",
            "-128 126\n",
            "-128 126\n",
            "20\n",
            "-128 126\n",
            "-128 126\n",
            "-128 126\n",
            "-128 126\n",
            "-128 126\n",
            "-128 126\n",
            "-128 126\n",
            "-128 126\n",
            "-128 126\n",
            "-128 126\n",
            "30\n",
            "-128 126\n",
            "-128 126\n",
            "-128 126\n",
            "-128 126\n",
            "-128 126\n",
            "-128 126\n",
            "-128 126\n",
            "-128 126\n",
            "-128 126\n",
            "-128 126\n",
            "40\n",
            "-128 126\n",
            "-128 126\n",
            "-128 126\n",
            "-128 126\n",
            "-128 126\n",
            "-128 126\n",
            "-128 126\n",
            "-128 126\n",
            "-128 126\n",
            "-128 126\n",
            "50\n",
            "-128 126\n",
            "-128 126\n",
            "-128 126\n",
            "-128 126\n",
            "-128 126\n",
            "-128 126\n",
            "-128 126\n",
            "-128 126\n",
            "-128 126\n",
            "-128 126\n",
            "60\n",
            "-128 126\n",
            "-128 126\n",
            "-128 126\n",
            "-128 126\n",
            "-128 126\n",
            "-128 126\n",
            "-128 126\n",
            "-128 126\n",
            "-128 126\n",
            "-128 126\n",
            "70\n",
            "-128 126\n",
            "-128 126\n",
            "-128 126\n",
            "-128 126\n",
            "-128 126\n",
            "-128 126\n",
            "-128 126\n",
            "-128 126\n",
            "-128 126\n",
            "-128 126\n",
            "80\n",
            "-128 126\n",
            "-128 126\n",
            "-128 126\n",
            "-128 126\n",
            "-128 126\n",
            "-128 126\n",
            "-128 126\n",
            "-128 126\n",
            "-128 126\n",
            "-128 126\n",
            "90\n",
            "-128 126\n",
            "-128 126\n",
            "-128 126\n",
            "-128 126\n",
            "-128 126\n",
            "-128 126\n",
            "-128 126\n",
            "-128 126\n",
            "-128 126\n",
            "-128 126\n",
            "100\n",
            "-128 126\n",
            "-128 126\n",
            "-128 126\n",
            "-128 126\n",
            "-128 126\n",
            "-128 126\n",
            "-128 126\n",
            "-128 126\n",
            "-128 126\n",
            "-128 126\n",
            "110\n",
            "-128 126\n",
            "-128 126\n",
            "-128 126\n",
            "-128 126\n",
            "-128 126\n",
            "-128 126\n",
            "-128 126\n",
            "-128 126\n",
            "-128 126\n",
            "-128 126\n",
            "120\n",
            "-128 126\n",
            "-128 126\n",
            "-128 126\n",
            "-128 126\n",
            "-128 126\n",
            "-128 126\n",
            "-128 126\n",
            "-128 126\n",
            "-128 126\n",
            "-128 126\n",
            "130\n",
            "-128 126\n",
            "-128 126\n",
            "-128 126\n",
            "-128 126\n",
            "-128 126\n",
            "-128 126\n",
            "-128 126\n",
            "-128 126\n",
            "-128 126\n",
            "-128 126\n",
            "140\n",
            "-128 126\n",
            "-128 126\n",
            "-128 126\n",
            "-128 126\n",
            "-128 126\n",
            "-128 126\n",
            "-128 126\n",
            "-128 126\n",
            "-128 126\n",
            "-128 126\n",
            "150\n",
            "-128 126\n",
            "-128 126\n",
            "-128 126\n",
            "-128 126\n",
            "-128 126\n",
            "-128 126\n",
            "-128 126\n",
            "-128 126\n",
            "-128 126\n",
            "-128 126\n",
            "160\n",
            "-128 126\n",
            "-128 126\n",
            "-128 126\n",
            "-128 126\n",
            "-128 126\n",
            "-128 126\n",
            "-128 126\n",
            "-128 126\n",
            "-128 126\n",
            "-128 126\n",
            "170\n",
            "-128 126\n",
            "-128 126\n",
            "-128 126\n",
            "-128 126\n",
            "-128 126\n",
            "-128 126\n",
            "-128 126\n",
            "-128 126\n",
            "-128 126\n",
            "-128 126\n",
            "180\n",
            "-128 126\n",
            "-128 126\n",
            "-128 126\n",
            "-128 126\n",
            "-128 126\n",
            "-128 126\n",
            "-128 126\n",
            "-128 126\n",
            "-128 126\n",
            "-128 126\n",
            "190\n",
            "-128 126\n",
            "-128 126\n",
            "-128 126\n",
            "-128 126\n",
            "-128 126\n",
            "-128 126\n",
            "-128 126\n",
            "-128 126\n",
            "-128 126\n",
            "-128 126\n",
            "200\n",
            "-128 126\n",
            "-128 126\n",
            "-128 126\n",
            "-128 126\n",
            "-128 126\n",
            "-128 126\n",
            "-128 126\n",
            "-128 126\n",
            "-128 126\n",
            "-128 126\n",
            "210\n",
            "-128 126\n",
            "-128 126\n",
            "-128 126\n",
            "-128 126\n",
            "-128 126\n",
            "-128 126\n",
            "-128 126\n",
            "-128 126\n",
            "-128 126\n",
            "-128 126\n",
            "220\n",
            "-128 126\n",
            "-128 126\n",
            "-128 126\n",
            "-128 126\n",
            "-128 126\n",
            "-128 126\n",
            "-128 126\n",
            "-128 126\n",
            "-128 126\n",
            "-128 126\n",
            "230\n",
            "-128 126\n",
            "-128 126\n",
            "-128 126\n",
            "-128 126\n",
            "-128 126\n",
            "-128 126\n",
            "-128 126\n",
            "-128 126\n",
            "-128 126\n",
            "-128 126\n",
            "240\n",
            "-128 126\n",
            "-128 126\n",
            "-128 126\n",
            "-128 126\n",
            "-128 126\n",
            "-128 126\n",
            "-128 126\n",
            "-128 126\n",
            "-128 126\n",
            "-128 126\n",
            "250\n",
            "-128 126\n",
            "-128 126\n",
            "-128 126\n",
            "-128 126\n",
            "-128 126\n",
            "-128 126\n",
            "-128 126\n",
            "-128 126\n",
            "-128 126\n",
            "-128 126\n",
            "260\n",
            "-128 126\n",
            "-128 126\n",
            "-128 126\n",
            "-128 126\n",
            "-128 126\n",
            "-128 126\n",
            "-128 126\n",
            "-128 126\n",
            "-128 126\n",
            "-128 126\n",
            "270\n",
            "-128 126\n",
            "-128 126\n",
            "-128 126\n",
            "-128 126\n",
            "-128 126\n",
            "-128 126\n",
            "-128 126\n",
            "-128 126\n",
            "-128 126\n",
            "-128 126\n",
            "280\n",
            "-128 126\n",
            "-128 126\n",
            "-128 126\n",
            "-128 126\n",
            "-128 126\n",
            "-128 126\n",
            "-128 126\n",
            "-128 126\n",
            "-128 126\n",
            "-128 126\n",
            "290\n",
            "-128 126\n",
            "-128 126\n",
            "-128 126\n",
            "-128 126\n",
            "-128 126\n",
            "-128 126\n",
            "-128 126\n",
            "-128 126\n",
            "-128 126\n",
            "-128 126\n",
            "300\n",
            "-128 126\n",
            "-128 126\n",
            "-128 126\n",
            "-128 126\n",
            "-128 126\n",
            "-128 126\n",
            "-128 126\n",
            "-128 126\n",
            "-128 126\n",
            "-128 126\n",
            "310\n",
            "-128 126\n",
            "-128 126\n",
            "-128 126\n",
            "-128 126\n",
            "-128 126\n",
            "-128 126\n",
            "-128 126\n",
            "-128 126\n",
            "-128 126\n",
            "-128 126\n",
            "320\n",
            "-128 126\n",
            "-128 126\n",
            "-128 126\n",
            "-128 126\n",
            "-128 126\n",
            "-128 126\n",
            "-128 126\n",
            "-128 126\n",
            "-128 126\n",
            "-128 126\n",
            "330\n",
            "-128 126\n",
            "-128 126\n",
            "-128 126\n",
            "-128 126\n",
            "-128 126\n",
            "-128 126\n",
            "-128 126\n",
            "-128 126\n",
            "-128 126\n",
            "-128 126\n",
            "340\n",
            "-128 126\n",
            "-128 126\n",
            "-128 126\n",
            "-128 126\n",
            "-128 126\n",
            "-128 126\n",
            "-128 126\n",
            "-128 126\n",
            "-128 126\n",
            "-128 126\n",
            "350\n",
            "-128 126\n",
            "-128 126\n",
            "-128 126\n",
            "-128 126\n",
            "-128 126\n",
            "-128 126\n",
            "-128 126\n",
            "-128 126\n",
            "-128 126\n",
            "-128 126\n",
            "360\n",
            "-128 126\n",
            "-128 126\n",
            "-128 126\n",
            "-128 126\n",
            "-128 126\n",
            "-128 126\n",
            "-128 126\n",
            "-128 126\n",
            "-128 126\n",
            "-128 126\n",
            "370\n",
            "-128 126\n",
            "-128 126\n",
            "-128 126\n",
            "-128 126\n",
            "-128 126\n",
            "-128 126\n",
            "-128 126\n",
            "-128 126\n",
            "-128 126\n",
            "-128 126\n",
            "380\n",
            "-128 126\n",
            "-128 126\n",
            "-128 126\n",
            "-128 126\n",
            "-128 126\n",
            "-128 126\n",
            "-128 126\n",
            "-128 126\n",
            "-128 126\n",
            "-128 126\n",
            "390\n",
            "-128 126\n",
            "-128 126\n",
            "-128 126\n",
            "-128 126\n",
            "-128 126\n",
            "-128 126\n",
            "-128 126\n",
            "-128 126\n",
            "-128 126\n",
            "-128 126\n",
            "400\n",
            "-128 126\n",
            "-128 126\n",
            "-128 126\n",
            "-128 126\n",
            "-128 126\n",
            "-128 126\n",
            "-128 126\n",
            "-128 126\n",
            "-128 126\n",
            "-128 126\n",
            "410\n",
            "-128 126\n",
            "-128 126\n",
            "-128 126\n",
            "-128 126\n",
            "-128 126\n",
            "-128 126\n",
            "-128 126\n",
            "-128 126\n",
            "-128 126\n",
            "-128 126\n",
            "420\n",
            "-128 126\n",
            "-128 126\n",
            "-128 126\n",
            "-128 126\n",
            "-128 126\n",
            "-128 126\n",
            "-128 126\n",
            "-128 126\n",
            "-128 126\n",
            "-128 126\n",
            "430\n",
            "-128 126\n",
            "-128 126\n",
            "-128 126\n",
            "-128 126\n",
            "-128 126\n",
            "-128 126\n",
            "-128 126\n",
            "-128 126\n",
            "-128 126\n",
            "-128 126\n",
            "440\n",
            "-128 126\n",
            "-128 126\n",
            "-128 126\n",
            "-128 126\n",
            "-128 126\n",
            "-128 126\n",
            "-128 126\n",
            "-128 126\n",
            "-128 126\n",
            "-128 126\n",
            "450\n",
            "-128 126\n",
            "-128 126\n",
            "-128 126\n",
            "-128 126\n",
            "-128 126\n",
            "-128 126\n",
            "-128 126\n",
            "-128 126\n",
            "-128 126\n",
            "-128 126\n",
            "460\n",
            "-128 126\n",
            "-128 126\n",
            "-128 126\n",
            "-128 126\n",
            "-128 126\n",
            "-128 126\n",
            "-128 126\n",
            "-128 126\n",
            "-128 126\n",
            "-128 126\n",
            "470\n",
            "-128 126\n",
            "-128 126\n",
            "-128 126\n",
            "-128 126\n",
            "-128 126\n",
            "-128 126\n",
            "-128 126\n",
            "-128 126\n",
            "-128 126\n",
            "-128 126\n",
            "480\n",
            "-128 126\n",
            "-128 126\n",
            "-128 126\n",
            "-128 126\n",
            "-128 126\n",
            "-128 126\n",
            "-128 126\n",
            "-128 126\n",
            "-128 126\n",
            "-128 126\n",
            "490\n",
            "-128 126\n",
            "-128 126\n",
            "-128 126\n",
            "-128 126\n",
            "-128 126\n",
            "-128 126\n",
            "-128 126\n",
            "-128 126\n",
            "-128 126\n",
            "-128 126\n",
            "500\n",
            "-128 126\n",
            "-128 126\n",
            "-128 126\n",
            "-128 126\n",
            "-128 126\n",
            "-128 126\n",
            "-128 126\n",
            "-128 126\n",
            "-128 126\n",
            "-128 126\n",
            "510\n",
            "-128 126\n",
            "-128 126\n",
            "-128 126\n",
            "-128 126\n",
            "-128 126\n",
            "-128 126\n",
            "-128 126\n",
            "-128 126\n",
            "-128 126\n",
            "-128 126\n",
            "520\n",
            "-128 126\n",
            "-128 126\n",
            "-128 126\n",
            "-128 126\n",
            "-128 126\n",
            "-128 126\n",
            "-128 126\n",
            "-128 126\n",
            "-128 126\n",
            "-128 126\n",
            "530\n",
            "-128 126\n",
            "-128 126\n",
            "-128 126\n",
            "-128 126\n",
            "-128 126\n",
            "-128 126\n",
            "-128 126\n",
            "-128 126\n",
            "-128 126\n",
            "-128 126\n",
            "540\n",
            "-128 126\n",
            "-128 126\n",
            "-128 126\n",
            "-128 126\n",
            "-128 126\n",
            "-128 126\n",
            "-128 126\n",
            "-128 126\n",
            "-128 126\n",
            "-128 126\n",
            "550\n",
            "-128 126\n",
            "-128 126\n",
            "-128 126\n",
            "-128 126\n",
            "-128 126\n",
            "-128 126\n",
            "-128 126\n",
            "-128 126\n",
            "-128 126\n",
            "-128 126\n",
            "560\n",
            "-128 126\n",
            "-128 126\n",
            "-128 126\n",
            "-128 126\n",
            "-128 126\n",
            "-128 126\n",
            "-128 126\n",
            "-128 126\n",
            "-128 126\n",
            "-128 126\n",
            "570\n",
            "-128 126\n",
            "-128 126\n",
            "-128 126\n",
            "-128 126\n",
            "-128 126\n",
            "-128 126\n",
            "-128 126\n",
            "-128 126\n",
            "-128 126\n",
            "-128 126\n",
            "580\n",
            "-128 126\n",
            "-128 126\n",
            "-128 126\n",
            "-128 126\n",
            "-128 126\n",
            "-128 126\n",
            "-128 126\n",
            "-128 126\n",
            "-128 126\n",
            "-128 126\n",
            "590\n",
            "-128 126\n",
            "-128 126\n",
            "-128 126\n",
            "-128 126\n",
            "-128 126\n",
            "-128 126\n",
            "-128 126\n",
            "-128 126\n",
            "-128 126\n",
            "-128 126\n",
            "600\n",
            "-128 126\n",
            "-128 126\n",
            "-128 126\n",
            "-128 126\n",
            "-128 126\n",
            "-128 126\n",
            "-128 126\n",
            "-128 126\n",
            "-128 126\n",
            "-128 126\n",
            "610\n",
            "-128 126\n",
            "-128 126\n",
            "-128 126\n",
            "-128 126\n",
            "-128 126\n",
            "-128 126\n",
            "-128 126\n",
            "-128 126\n",
            "-128 126\n",
            "-128 126\n",
            "620\n",
            "-128 126\n",
            "-128 126\n",
            "-128 126\n",
            "-128 126\n",
            "-128 126\n",
            "-128 126\n",
            "-128 126\n",
            "-128 126\n",
            "-128 126\n",
            "-128 126\n",
            "630\n",
            "-128 126\n",
            "-128 126\n",
            "-128 126\n",
            "-128 126\n",
            "-128 126\n",
            "-128 126\n",
            "-128 126\n",
            "-128 126\n",
            "-128 126\n",
            "-128 126\n",
            "640\n",
            "-128 126\n",
            "-128 126\n",
            "-128 126\n",
            "-128 126\n",
            "-128 126\n",
            "-128 126\n",
            "-128 126\n",
            "-128 126\n",
            "-128 126\n",
            "-128 126\n",
            "650\n",
            "-128 126\n",
            "-128 126\n",
            "-128 126\n",
            "-128 126\n",
            "-128 126\n",
            "-128 126\n",
            "-128 126\n",
            "-128 126\n",
            "-128 126\n",
            "-128 126\n",
            "660\n",
            "-128 126\n",
            "-128 126\n",
            "-128 126\n",
            "-128 126\n",
            "-128 126\n",
            "-128 126\n",
            "-128 126\n",
            "-128 126\n",
            "-128 126\n",
            "-128 126\n",
            "670\n",
            "-128 126\n",
            "-128 126\n",
            "-128 126\n",
            "-128 126\n",
            "-128 126\n",
            "-128 126\n",
            "-128 126\n",
            "-128 126\n",
            "-128 126\n",
            "-128 126\n",
            "680\n",
            "-128 126\n",
            "-128 126\n",
            "-128 126\n",
            "-128 126\n",
            "-128 126\n",
            "-128 126\n",
            "-128 126\n",
            "-128 126\n",
            "-128 126\n",
            "-128 126\n",
            "690\n",
            "-128 126\n",
            "-128 126\n",
            "-128 126\n",
            "-128 126\n",
            "-128 126\n",
            "-128 126\n",
            "-128 126\n",
            "-128 126\n",
            "-128 126\n",
            "-128 126\n",
            "700\n",
            "-128 126\n",
            "-128 126\n",
            "-128 126\n",
            "-128 126\n",
            "-128 126\n",
            "-128 126\n",
            "-128 126\n",
            "-128 126\n",
            "-128 126\n",
            "-128 126\n",
            "710\n",
            "-128 126\n",
            "-128 126\n",
            "-128 126\n",
            "-128 126\n",
            "-128 126\n",
            "-128 126\n",
            "-128 126\n",
            "-128 126\n",
            "-128 126\n",
            "-128 126\n",
            "720\n",
            "-128 126\n",
            "-128 126\n",
            "-128 126\n",
            "-128 126\n",
            "-128 126\n",
            "-128 126\n",
            "-128 126\n",
            "-128 126\n",
            "-128 126\n",
            "-128 126\n",
            "730\n",
            "-128 126\n",
            "-128 126\n",
            "-128 126\n",
            "-128 126\n",
            "-128 126\n",
            "-128 126\n",
            "-128 126\n",
            "-128 126\n",
            "-128 126\n",
            "-128 126\n",
            "740\n",
            "-128 126\n",
            "-128 126\n",
            "-128 126\n",
            "-128 126\n",
            "-128 126\n",
            "-128 126\n",
            "-128 126\n",
            "-128 126\n",
            "-128 126\n",
            "-128 126\n",
            "750\n",
            "-128 126\n",
            "-128 126\n",
            "-128 126\n",
            "-128 126\n",
            "-128 126\n",
            "-128 126\n",
            "-128 126\n",
            "-128 126\n",
            "-128 126\n",
            "-128 126\n",
            "760\n",
            "-128 126\n",
            "-128 126\n",
            "-128 126\n",
            "-128 126\n",
            "-128 126\n",
            "-128 126\n",
            "-128 126\n",
            "-128 126\n",
            "-128 126\n",
            "-128 126\n",
            "770\n",
            "-128 126\n",
            "-128 126\n",
            "-128 126\n",
            "-128 126\n",
            "-128 126\n",
            "-128 126\n",
            "-128 126\n",
            "-128 126\n",
            "-128 126\n",
            "-128 126\n",
            "780\n",
            "-128 126\n",
            "-128 126\n",
            "-128 126\n",
            "-128 126\n",
            "-128 126\n",
            "-128 126\n",
            "-128 126\n",
            "-128 126\n",
            "-128 126\n",
            "-128 126\n",
            "790\n",
            "-128 126\n",
            "-128 126\n",
            "-128 126\n",
            "-128 126\n",
            "-128 126\n",
            "-128 126\n",
            "-128 126\n",
            "-128 126\n",
            "-128 126\n",
            "-128 126\n",
            "800\n",
            "-128 126\n",
            "-128 126\n",
            "-128 126\n",
            "-128 126\n",
            "-128 126\n",
            "-128 126\n",
            "-128 126\n",
            "-128 126\n",
            "-128 126\n",
            "-128 126\n",
            "810\n",
            "-128 126\n",
            "-128 126\n",
            "-128 126\n",
            "-128 126\n",
            "-128 126\n",
            "-128 126\n",
            "-128 126\n",
            "-128 126\n",
            "-128 126\n",
            "-128 126\n",
            "820\n",
            "-128 126\n",
            "-128 126\n",
            "-128 126\n",
            "-128 126\n",
            "-128 126\n",
            "-128 126\n",
            "-128 126\n",
            "-128 126\n",
            "-128 126\n",
            "-128 126\n",
            "830\n",
            "-128 126\n",
            "-128 126\n",
            "-128 126\n",
            "-128 126\n",
            "-128 126\n",
            "-128 126\n",
            "-128 126\n",
            "-128 126\n",
            "-128 126\n",
            "-128 126\n",
            "840\n",
            "-128 126\n",
            "-128 126\n",
            "-128 126\n",
            "-128 126\n",
            "-128 126\n",
            "-128 126\n",
            "-128 126\n",
            "-128 126\n",
            "-128 126\n",
            "-128 126\n",
            "850\n",
            "-128 126\n",
            "-128 126\n",
            "-128 126\n",
            "-128 126\n",
            "-128 126\n",
            "-128 126\n",
            "-128 126\n",
            "-128 126\n",
            "-128 126\n",
            "-128 126\n",
            "860\n",
            "-128 126\n",
            "-128 126\n",
            "-128 126\n",
            "-128 126\n",
            "-128 126\n",
            "-128 126\n",
            "-128 126\n",
            "-128 126\n",
            "-128 126\n",
            "-128 126\n",
            "870\n",
            "-128 126\n",
            "-128 126\n",
            "-128 126\n",
            "-128 126\n",
            "-128 126\n",
            "-128 126\n",
            "-128 126\n",
            "-128 126\n",
            "-128 126\n",
            "-128 126\n",
            "880\n",
            "-128 126\n",
            "-128 126\n",
            "-128 126\n",
            "-128 126\n",
            "-128 126\n",
            "-128 126\n",
            "-128 126\n",
            "-128 126\n",
            "-128 126\n",
            "-128 126\n",
            "890\n",
            "-128 126\n",
            "-128 126\n",
            "-128 126\n",
            "-128 126\n",
            "-128 126\n",
            "-128 126\n",
            "-128 126\n",
            "-128 126\n",
            "-128 126\n",
            "-128 126\n",
            "900\n",
            "-128 126\n",
            "-128 126\n",
            "-128 126\n",
            "-128 126\n",
            "-128 126\n",
            "-128 126\n",
            "-128 126\n",
            "-128 126\n",
            "-128 126\n",
            "-128 126\n",
            "910\n",
            "-128 126\n",
            "-128 126\n",
            "-128 126\n",
            "-128 126\n",
            "-128 126\n",
            "-128 126\n",
            "-128 126\n",
            "-128 126\n",
            "-128 126\n",
            "-128 126\n",
            "920\n",
            "-128 126\n",
            "-128 126\n",
            "-128 126\n",
            "-128 126\n",
            "-128 126\n",
            "-128 126\n",
            "-128 126\n",
            "-128 126\n",
            "-128 126\n",
            "-128 126\n",
            "930\n",
            "-128 126\n",
            "-128 126\n",
            "-128 126\n",
            "-128 126\n",
            "-128 126\n",
            "-128 126\n",
            "-128 126\n",
            "-128 126\n",
            "-128 126\n",
            "-128 126\n",
            "940\n",
            "-128 126\n",
            "-128 126\n",
            "-128 126\n",
            "-128 126\n",
            "-128 126\n",
            "-128 126\n",
            "-128 126\n",
            "-128 126\n",
            "-128 126\n",
            "-128 126\n",
            "950\n",
            "-128 126\n",
            "-128 126\n",
            "-128 126\n",
            "-128 126\n",
            "-128 126\n",
            "-128 126\n",
            "-128 126\n",
            "-128 126\n",
            "-128 126\n",
            "-128 126\n",
            "960\n",
            "-128 126\n",
            "-128 126\n",
            "-128 126\n",
            "-128 126\n",
            "-128 126\n",
            "-128 126\n",
            "-128 126\n",
            "-128 126\n",
            "-128 126\n",
            "-128 126\n",
            "970\n",
            "-128 126\n",
            "-128 126\n",
            "-128 126\n",
            "-128 126\n",
            "-128 126\n",
            "-128 126\n",
            "-128 126\n",
            "-128 126\n",
            "-128 126\n",
            "-128 126\n",
            "980\n",
            "-128 126\n",
            "-128 126\n",
            "-128 126\n",
            "-128 126\n",
            "-128 126\n",
            "-128 126\n",
            "-128 126\n",
            "-128 126\n",
            "-128 126\n",
            "-128 126\n",
            "990\n",
            "-128 126\n",
            "-128 126\n",
            "-128 126\n",
            "-128 126\n",
            "-128 126\n",
            "-128 126\n",
            "-128 126\n",
            "-128 126\n",
            "-128 126\n",
            "-128 126\n",
            "1000\n",
            "-128 126\n",
            "-128 126\n",
            "-128 126\n",
            "-128 126\n",
            "-128 126\n",
            "-128 126\n",
            "-128 126\n",
            "-128 126\n",
            "-128 126\n",
            "-128 126\n",
            "1010\n",
            "-128 126\n",
            "-128 126\n",
            "-128 126\n",
            "-128 126\n",
            "-128 126\n",
            "-128 126\n",
            "-128 126\n",
            "-128 126\n",
            "-128 126\n",
            "-128 126\n",
            "1020\n",
            "-128 126\n",
            "-128 126\n",
            "-128 126\n",
            "-128 126\n",
            "-128 126\n",
            "-128 126\n",
            "-128 126\n",
            "-128 126\n",
            "-128 126\n",
            "-128 126\n",
            "1030\n",
            "-128 126\n",
            "-128 126\n",
            "-128 126\n",
            "-128 126\n",
            "-128 126\n",
            "-128 126\n",
            "-128 126\n",
            "-128 126\n",
            "-128 126\n",
            "-128 126\n",
            "1040\n",
            "-128 126\n",
            "-128 126\n",
            "-128 126\n",
            "-128 126\n",
            "-128 126\n",
            "-128 126\n",
            "-128 126\n",
            "-128 126\n",
            "-128 126\n",
            "-128 126\n",
            "1050\n",
            "-128 126\n",
            "-128 126\n",
            "-128 126\n",
            "-128 126\n",
            "-128 126\n",
            "-128 126\n",
            "-128 126\n",
            "-128 126\n",
            "-128 126\n",
            "-128 126\n",
            "1060\n",
            "-128 126\n",
            "-128 126\n",
            "-128 126\n",
            "-128 126\n",
            "-128 126\n",
            "-128 126\n",
            "-128 126\n",
            "-128 126\n",
            "-128 126\n",
            "-128 126\n",
            "1070\n",
            "-128 126\n",
            "-128 126\n",
            "-128 126\n",
            "-128 126\n",
            "-128 126\n",
            "-128 126\n",
            "-128 126\n",
            "-128 126\n",
            "-128 126\n",
            "-128 126\n",
            "1080\n",
            "-128 126\n",
            "-128 126\n",
            "-128 126\n",
            "-128 126\n",
            "-128 126\n",
            "-128 126\n",
            "-128 126\n",
            "-128 126\n",
            "-128 126\n",
            "-128 126\n",
            "1090\n",
            "-128 126\n",
            "-128 126\n",
            "-128 126\n",
            "-128 126\n",
            "-128 126\n",
            "-128 126\n",
            "-128 126\n",
            "-128 126\n",
            "-128 126\n",
            "-128 126\n",
            "1100\n",
            "-128 126\n",
            "-128 126\n",
            "-128 126\n",
            "-128 126\n",
            "-128 126\n",
            "-128 126\n",
            "-128 126\n",
            "-128 126\n",
            "-128 126\n",
            "-128 126\n",
            "1110\n",
            "-128 126\n",
            "-128 126\n",
            "-128 126\n",
            "-128 126\n",
            "-128 126\n",
            "-128 126\n",
            "-128 126\n",
            "-128 126\n",
            "-128 126\n",
            "-128 126\n",
            "1120\n",
            "-128 126\n",
            "-128 126\n",
            "-128 126\n",
            "-128 126\n",
            "-128 126\n",
            "-128 126\n",
            "-128 126\n",
            "-128 126\n",
            "-128 126\n",
            "-128 126\n",
            "1130\n",
            "-128 126\n",
            "-128 126\n",
            "-128 126\n",
            "-128 126\n",
            "-128 126\n",
            "-128 126\n",
            "-128 126\n",
            "-128 126\n",
            "-128 126\n",
            "-128 126\n",
            "1140\n",
            "-128 126\n",
            "-128 126\n",
            "-128 126\n",
            "-128 126\n",
            "-128 126\n",
            "-128 126\n",
            "-128 126\n",
            "-128 126\n",
            "-128 126\n",
            "-128 126\n",
            "1150\n",
            "-128 126\n",
            "-128 126\n",
            "-128 126\n",
            "-128 126\n",
            "-128 126\n",
            "-128 126\n",
            "-128 126\n",
            "-128 126\n",
            "-128 126\n",
            "-128 126\n",
            "1160\n",
            "-128 126\n",
            "-128 126\n",
            "-128 126\n",
            "-128 126\n",
            "-128 126\n",
            "-128 126\n",
            "-128 126\n",
            "-128 126\n",
            "-128 126\n",
            "-128 126\n",
            "1170\n",
            "-128 126\n",
            "-128 126\n",
            "-128 126\n",
            "-128 126\n",
            "-128 126\n",
            "-128 126\n",
            "-128 126\n",
            "-128 126\n",
            "-128 126\n",
            "-128 126\n",
            "1180\n",
            "-128 126\n",
            "-128 126\n",
            "-128 126\n",
            "-128 126\n",
            "-128 126\n",
            "-128 126\n",
            "-128 126\n",
            "-128 126\n",
            "-128 126\n",
            "-128 126\n",
            "1190\n",
            "-128 126\n",
            "-128 126\n",
            "-128 126\n",
            "-128 126\n",
            "-128 126\n",
            "-128 126\n",
            "-128 126\n",
            "-128 126\n",
            "-128 126\n",
            "-128 126\n",
            "1200\n",
            "-128 126\n",
            "-128 126\n",
            "-128 126\n",
            "-128 126\n",
            "-128 126\n",
            "-128 126\n",
            "-128 126\n",
            "-128 126\n",
            "-128 126\n",
            "-128 126\n",
            "1210\n",
            "-128 126\n",
            "-128 126\n",
            "-128 126\n",
            "-128 126\n",
            "-128 126\n",
            "-128 126\n",
            "-128 126\n",
            "-128 126\n",
            "-128 126\n",
            "-128 126\n",
            "1220\n",
            "-128 126\n",
            "-128 126\n",
            "-128 126\n",
            "-128 126\n",
            "-128 126\n",
            "-128 126\n",
            "-128 126\n",
            "-128 126\n",
            "-128 126\n",
            "-128 126\n",
            "1230\n",
            "-128 126\n",
            "-128 126\n",
            "-128 126\n",
            "-128 126\n",
            "-128 126\n",
            "-128 126\n",
            "-128 126\n",
            "-128 126\n",
            "-128 126\n",
            "-128 126\n",
            "1240\n",
            "-128 126\n",
            "-128 126\n",
            "-128 126\n",
            "-128 126\n",
            "-128 126\n",
            "-128 126\n",
            "-128 126\n",
            "-128 126\n",
            "-128 126\n",
            "-128 126\n",
            "1250\n",
            "-128 126\n",
            "-128 126\n",
            "-128 126\n",
            "-128 126\n",
            "-128 126\n",
            "-128 126\n",
            "-128 126\n",
            "-128 126\n",
            "-128 126\n",
            "-128 126\n",
            "1260\n",
            "-128 126\n",
            "-128 126\n",
            "-128 126\n",
            "-128 126\n",
            "-128 126\n",
            "-128 126\n",
            "-128 126\n",
            "-128 126\n",
            "-128 126\n",
            "-128 126\n",
            "1270\n",
            "-128 126\n",
            "-128 126\n",
            "-128 126\n",
            "-128 126\n",
            "-128 126\n",
            "-128 126\n",
            "-128 126\n",
            "-128 126\n",
            "-128 126\n",
            "-128 126\n",
            "1280\n",
            "-128 126\n",
            "-128 126\n",
            "-128 126\n",
            "-128 126\n",
            "-128 126\n",
            "-128 126\n",
            "-128 126\n",
            "-128 126\n",
            "-128 126\n",
            "-128 126\n",
            "1290\n",
            "-128 126\n",
            "-128 126\n",
            "-128 126\n",
            "-128 126\n",
            "-128 126\n",
            "-128 126\n",
            "-128 126\n",
            "-128 126\n",
            "-128 126\n",
            "-128 126\n",
            "1300\n",
            "-128 126\n",
            "-128 126\n",
            "-128 126\n",
            "-128 126\n",
            "-128 126\n",
            "-128 126\n",
            "-128 126\n",
            "-128 126\n",
            "-128 126\n",
            "-128 126\n",
            "1310\n",
            "-128 126\n",
            "-128 126\n",
            "-128 126\n",
            "-128 126\n",
            "-128 126\n",
            "-128 126\n",
            "-128 126\n",
            "-128 126\n",
            "-128 126\n",
            "-128 126\n",
            "1320\n",
            "-128 126\n",
            "-128 126\n",
            "-128 126\n",
            "-128 126\n",
            "-128 126\n",
            "-128 126\n",
            "-128 126\n",
            "-128 126\n",
            "-128 126\n",
            "-128 126\n",
            "1330\n",
            "-128 126\n",
            "-128 126\n",
            "-128 126\n",
            "-128 126\n",
            "-128 126\n",
            "-128 126\n",
            "-128 126\n",
            "-128 126\n",
            "-128 126\n",
            "-128 126\n",
            "1340\n",
            "-128 126\n",
            "-128 126\n",
            "-128 126\n",
            "-128 126\n",
            "-128 126\n",
            "-128 126\n",
            "-128 126\n",
            "-128 126\n",
            "-128 126\n",
            "-128 126\n",
            "1350\n",
            "-128 126\n",
            "-128 126\n",
            "-128 126\n",
            "-128 126\n",
            "-128 126\n",
            "-128 126\n",
            "-128 126\n",
            "-128 126\n",
            "-128 126\n",
            "-128 126\n",
            "1360\n",
            "-128 126\n",
            "-128 126\n",
            "-128 126\n",
            "-128 126\n",
            "-128 126\n",
            "-128 126\n",
            "-128 126\n",
            "-128 126\n",
            "-128 126\n",
            "-128 126\n",
            "1370\n",
            "-128 126\n",
            "-128 126\n",
            "-128 126\n",
            "-128 126\n",
            "-128 126\n",
            "-128 126\n",
            "-128 126\n",
            "-128 126\n",
            "-128 126\n",
            "-128 126\n",
            "1380\n",
            "-128 126\n",
            "-128 126\n",
            "-128 126\n",
            "-128 126\n",
            "-128 126\n",
            "-128 126\n",
            "-128 126\n",
            "-128 126\n",
            "-128 126\n",
            "-128 126\n",
            "1390\n",
            "-128 126\n",
            "-128 126\n",
            "-128 126\n",
            "-128 126\n",
            "-128 126\n",
            "-128 126\n",
            "-128 126\n",
            "-128 126\n",
            "-128 126\n",
            "-128 126\n",
            "1400\n",
            "-128 126\n",
            "-128 126\n",
            "-128 126\n",
            "-128 126\n",
            "-128 126\n",
            "-128 126\n",
            "-128 126\n",
            "-128 126\n",
            "-128 126\n",
            "-128 126\n",
            "1410\n",
            "-128 126\n",
            "-128 126\n",
            "-128 126\n",
            "-128 126\n",
            "-128 126\n",
            "-128 126\n",
            "-128 126\n",
            "-128 126\n",
            "-128 126\n",
            "-128 126\n",
            "1420\n",
            "-128 126\n",
            "-128 126\n",
            "-128 126\n",
            "-128 126\n",
            "-128 126\n",
            "-128 126\n",
            "-128 126\n",
            "-128 126\n",
            "-128 126\n",
            "-128 126\n",
            "1430\n",
            "-128 126\n",
            "-128 126\n",
            "-128 126\n",
            "-128 126\n",
            "-128 126\n",
            "-128 126\n",
            "-128 126\n",
            "-128 126\n",
            "-128 126\n",
            "-128 126\n",
            "1440\n",
            "-128 126\n",
            "-128 126\n",
            "-128 126\n",
            "-128 126\n",
            "-128 126\n",
            "-128 126\n",
            "-128 126\n",
            "-128 126\n",
            "-128 126\n",
            "-128 126\n",
            "1450\n",
            "-128 126\n",
            "-128 126\n",
            "-128 126\n",
            "-128 126\n",
            "-128 126\n",
            "-128 126\n",
            "-128 126\n",
            "-128 126\n",
            "-128 126\n",
            "-128 126\n",
            "1460\n",
            "-128 126\n",
            "-128 126\n",
            "-128 126\n",
            "-128 126\n",
            "-128 126\n",
            "-128 126\n",
            "-128 126\n",
            "-128 126\n",
            "-128 126\n",
            "-128 126\n",
            "1470\n",
            "-128 126\n",
            "-128 126\n",
            "-128 126\n",
            "-128 126\n",
            "-128 126\n",
            "-128 126\n",
            "-128 126\n",
            "-128 126\n",
            "-128 126\n",
            "-128 126\n",
            "1480\n",
            "-128 126\n",
            "-128 126\n",
            "-128 126\n",
            "-128 126\n",
            "-128 126\n",
            "-128 126\n",
            "-128 126\n",
            "-128 126\n",
            "-128 126\n",
            "-128 126\n",
            "1490\n",
            "-128 126\n",
            "-128 126\n",
            "-128 126\n",
            "-128 126\n",
            "-128 126\n",
            "-128 126\n",
            "-128 126\n",
            "-128 126\n",
            "-128 126\n",
            "-128 126\n",
            "1500\n",
            "-128 126\n",
            "-128 126\n",
            "-128 126\n",
            "-128 126\n",
            "-128 126\n",
            "-128 126\n",
            "-128 126\n",
            "-128 126\n",
            "-128 126\n",
            "-128 126\n",
            "1510\n",
            "-128 126\n",
            "-128 126\n",
            "-128 126\n",
            "-128 126\n",
            "-128 126\n",
            "-128 126\n",
            "-128 126\n",
            "-128 126\n",
            "-128 126\n",
            "-128 126\n",
            "1520\n",
            "-128 126\n",
            "-128 126\n",
            "-128 126\n",
            "-128 126\n",
            "-128 126\n",
            "-128 126\n",
            "-128 126\n",
            "-128 126\n",
            "-128 126\n",
            "-128 126\n",
            "1530\n",
            "-128 126\n",
            "-128 126\n",
            "-128 126\n",
            "-128 126\n",
            "-128 126\n",
            "-128 126\n",
            "-128 126\n",
            "-128 126\n",
            "-128 126\n",
            "-128 126\n",
            "1540\n",
            "-128 126\n",
            "-128 126\n",
            "-128 126\n",
            "-128 126\n",
            "-128 126\n",
            "-128 126\n",
            "-128 126\n",
            "-128 126\n",
            "-128 126\n",
            "-128 126\n",
            "1550\n",
            "-128 126\n",
            "-128 126\n",
            "-128 126\n",
            "-128 126\n",
            "-128 126\n",
            "-128 126\n",
            "-128 126\n",
            "-128 126\n",
            "-128 126\n",
            "-128 126\n",
            "1560\n",
            "-128 126\n",
            "-128 126\n",
            "-128 126\n",
            "-128 126\n",
            "-128 126\n",
            "-128 126\n",
            "-128 126\n",
            "-128 126\n",
            "-128 126\n",
            "-128 126\n",
            "1570\n",
            "-128 126\n",
            "-128 126\n",
            "-128 126\n",
            "-128 126\n",
            "-128 126\n",
            "-128 126\n",
            "-128 126\n",
            "-128 126\n",
            "-128 126\n",
            "-128 126\n",
            "1580\n",
            "-128 126\n",
            "-128 126\n",
            "-128 126\n",
            "-128 126\n",
            "-128 126\n",
            "-128 126\n",
            "-128 126\n",
            "-128 126\n",
            "-128 126\n",
            "-128 126\n",
            "1590\n",
            "-128 126\n",
            "-128 126\n",
            "-128 126\n",
            "-128 126\n",
            "-128 126\n",
            "-128 126\n",
            "-128 126\n",
            "-128 126\n",
            "-128 126\n",
            "-128 126\n"
          ]
        }
      ],
      "source": [
        "if DoTests:# Calculate the number of correct predictions\n",
        "  correct = 0\n",
        "  test_ds_len = 0\n",
        "\n",
        "  # Loop through a part of the test set\n",
        "  # For a take(100) it takes xx seconds on a T4 machine.\n",
        "  for x, y in  test_ds.take(50).cache().unbatch():\n",
        "    # original shape is [124, 129, 1] expand to [1, 124, 129, 1]\n",
        "    x = tf.expand_dims(x, 0).numpy()\n",
        "    if not test_ds_len%10:\n",
        "      print(test_ds_len)\n",
        "    # quantize the input value\n",
        "    if (input_scale, input_zero_point) != (0, 0):\n",
        "      x = x / input_scale + input_zero_point\n",
        "    X = x\n",
        "    #X = np.float32(x)\n",
        "    X = X.astype(input_details['dtype'])\n",
        "\n",
        "    print(np.min(X),np.max(X))\n",
        "\n",
        "    try:\n",
        "      # add the input tensor to interpreter\n",
        "      interpreter.set_tensor(input_details[\"index\"], X)\n",
        "\n",
        "      #run the model\n",
        "      interpreter.invoke()\n",
        "\n",
        "      # Get output data from model and convert to fp32\n",
        "      output_data = interpreter.get_tensor(output_details[\"index\"])\n",
        "      output_data = output_data.astype(np.float32)\n",
        "\n",
        "      # Dequantize the output\n",
        "      if (output_scale, output_zero_point) != (0.0, 0):\n",
        "        output_data = (output_data - output_zero_point) * output_scale\n",
        "\n",
        "      # convert output to category\n",
        "      if output_data[0][0] >= 0.5:\n",
        "        category = 1\n",
        "      else:\n",
        "        category = 0\n",
        "\n",
        "      # add 1 if category = y\n",
        "      correct += 1 if category == y.numpy() else 0\n",
        "\n",
        "      test_ds_len += 1\n",
        "    except:\n",
        "      pass\n",
        "\n",
        "  #   break"
      ]
    },
    {
      "cell_type": "code",
      "execution_count": null,
      "metadata": {
        "colab": {
          "background_save": true
        },
        "id": "R38f75_p61se",
        "outputId": "9e59fcdf-73d8-46be-b503-112f620debdc"
      },
      "outputs": [
        {
          "name": "stdout",
          "output_type": "stream",
          "text": [
            "Accuracy for quantized model is 16.75% (to 2 D.P) on test set.\n"
          ]
        }
      ],
      "source": [
        "if DoTests:\n",
        "  accuracy = correct / test_ds_len\n",
        "  print(f\"Accuracy for quantized model is {accuracy*100:.2f}% (to 2 D.P) on test set.\")"
      ]
    },
    {
      "cell_type": "code",
      "execution_count": null,
      "metadata": {
        "colab": {
          "background_save": true
        },
        "id": "HXdZv6usW5Dr"
      },
      "outputs": [],
      "source": [
        "# PIP FREEZE\n",
        "!pip freeze > /content/drive/MyDrive/frugal/requirements.txt"
      ]
    }
  ],
  "metadata": {
    "accelerator": "TPU",
    "colab": {
      "gpuType": "V28",
      "provenance": [],
      "toc_visible": true
    },
    "kernelspec": {
      "display_name": "Python 3",
      "name": "python3"
    },
    "language_info": {
      "name": "python"
    }
  },
  "nbformat": 4,
  "nbformat_minor": 0
}