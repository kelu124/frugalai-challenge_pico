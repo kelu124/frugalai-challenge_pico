{
  "cells": [
    {
      "cell_type": "markdown",
      "metadata": {
        "id": "m174xspUl7LC"
      },
      "source": [
        "# FrugalAI challenge - Chainsaws - preparing a model for Pico\n",
        "\n",
        "### Naive approach, `v11b`\n",
        "\n",
        "\n",
        "```\n",
        "Copyright (c) 2025  @kelu124, Arm Limited, and Contributors. All rights reserved.\n",
        "\n",
        "SPDX-License-Identifier: Apache-2.0\n",
        "```\n",
        "\n",
        "* Based on initial work by : [Sandeep Mistry](https://twitter.com/sandeepmistry), [Henri Woodcock](https://twitter.com/henriwoodcock) from the [Arm Software Developers team](https://twitter.com/armsoftwaredev)\n"
      ]
    },
    {
      "cell_type": "markdown",
      "metadata": {
        "id": "Tn_BKd588L9B"
      },
      "source": [
        "Documentation :\n",
        "* [The authors initial work](https://colab.research.google.com/github/ArmDeveloperEcosystem/ml-audio-classifier-example-for-pico/blob/main/ml_audio_classifier_example_for_pico.ipynb)\n",
        "* This [notebook](https://colab.research.google.com/drive/16OmmqPclU-e1uhNwE0tGWASBocvlu5DA?usp=sharing)\n",
        "* Other resources:\n",
        "  * https://www.tensorflow.org/tutorials/audio/transfer_learning_audio#split_the_data\n"
      ]
    },
    {
      "cell_type": "markdown",
      "metadata": {
        "id": "Ojuc2yoIrA8G"
      },
      "source": [
        "## Install dependencies"
      ]
    },
    {
      "cell_type": "markdown",
      "metadata": {
        "id": "2t4hpGoHoUR6"
      },
      "source": [
        "### Python Libraries\n",
        "\n",
        "Let's start by installing the Python library dependencies:"
      ]
    },
    {
      "cell_type": "code",
      "execution_count": null,
      "metadata": {
        "id": "N4SdDPxvb3Ry"
      },
      "outputs": [],
      "source": [
        "try:\n",
        "  from google.colab import drive\n",
        "  drive.mount('/content/drive')\n",
        "except:\n",
        "  pass"
      ]
    },
    {
      "cell_type": "code",
      "execution_count": null,
      "metadata": {
        "colab": {
          "base_uri": "https://localhost:8080/"
        },
        "id": "h0xeDhfbQhUc",
        "outputId": "a953150f-26d9-43a5-c796-a25da5151cb4"
      },
      "outputs": [
        {
          "name": "stdout",
          "output_type": "stream",
          "text": [
            "Requirement already satisfied: tf_keras in /usr/local/lib/python3.11/dist-packages (2.17.0)\n",
            "Requirement already satisfied: tensorflow<2.18,>=2.17 in /usr/local/lib/python3.11/dist-packages (from tf_keras) (2.17.1)\n",
            "Requirement already satisfied: absl-py>=1.0.0 in /usr/local/lib/python3.11/dist-packages (from tensorflow<2.18,>=2.17->tf_keras) (1.4.0)\n",
            "Requirement already satisfied: astunparse>=1.6.0 in /usr/local/lib/python3.11/dist-packages (from tensorflow<2.18,>=2.17->tf_keras) (1.6.3)\n",
            "Requirement already satisfied: flatbuffers>=24.3.25 in /usr/local/lib/python3.11/dist-packages (from tensorflow<2.18,>=2.17->tf_keras) (25.1.21)\n",
            "Requirement already satisfied: gast!=0.5.0,!=0.5.1,!=0.5.2,>=0.2.1 in /usr/local/lib/python3.11/dist-packages (from tensorflow<2.18,>=2.17->tf_keras) (0.6.0)\n",
            "Requirement already satisfied: google-pasta>=0.1.1 in /usr/local/lib/python3.11/dist-packages (from tensorflow<2.18,>=2.17->tf_keras) (0.2.0)\n",
            "Requirement already satisfied: h5py>=3.10.0 in /usr/local/lib/python3.11/dist-packages (from tensorflow<2.18,>=2.17->tf_keras) (3.12.1)\n",
            "Requirement already satisfied: libclang>=13.0.0 in /usr/local/lib/python3.11/dist-packages (from tensorflow<2.18,>=2.17->tf_keras) (18.1.1)\n",
            "Requirement already satisfied: ml-dtypes<0.5.0,>=0.3.1 in /usr/local/lib/python3.11/dist-packages (from tensorflow<2.18,>=2.17->tf_keras) (0.4.1)\n",
            "Requirement already satisfied: opt-einsum>=2.3.2 in /usr/local/lib/python3.11/dist-packages (from tensorflow<2.18,>=2.17->tf_keras) (3.4.0)\n",
            "Requirement already satisfied: packaging in /usr/local/lib/python3.11/dist-packages (from tensorflow<2.18,>=2.17->tf_keras) (24.2)\n",
            "Requirement already satisfied: protobuf!=4.21.0,!=4.21.1,!=4.21.2,!=4.21.3,!=4.21.4,!=4.21.5,<5.0.0dev,>=3.20.3 in /usr/local/lib/python3.11/dist-packages (from tensorflow<2.18,>=2.17->tf_keras) (4.25.6)\n",
            "Requirement already satisfied: requests<3,>=2.21.0 in /usr/local/lib/python3.11/dist-packages (from tensorflow<2.18,>=2.17->tf_keras) (2.32.3)\n",
            "Requirement already satisfied: setuptools in /usr/local/lib/python3.11/dist-packages (from tensorflow<2.18,>=2.17->tf_keras) (75.1.0)\n",
            "Requirement already satisfied: six>=1.12.0 in /usr/local/lib/python3.11/dist-packages (from tensorflow<2.18,>=2.17->tf_keras) (1.17.0)\n",
            "Requirement already satisfied: termcolor>=1.1.0 in /usr/local/lib/python3.11/dist-packages (from tensorflow<2.18,>=2.17->tf_keras) (2.5.0)\n",
            "Requirement already satisfied: typing-extensions>=3.6.6 in /usr/local/lib/python3.11/dist-packages (from tensorflow<2.18,>=2.17->tf_keras) (4.12.2)\n",
            "Requirement already satisfied: wrapt>=1.11.0 in /usr/local/lib/python3.11/dist-packages (from tensorflow<2.18,>=2.17->tf_keras) (1.17.2)\n",
            "Requirement already satisfied: grpcio<2.0,>=1.24.3 in /usr/local/lib/python3.11/dist-packages (from tensorflow<2.18,>=2.17->tf_keras) (1.70.0)\n",
            "Requirement already satisfied: tensorboard<2.18,>=2.17 in /usr/local/lib/python3.11/dist-packages (from tensorflow<2.18,>=2.17->tf_keras) (2.17.1)\n",
            "Requirement already satisfied: keras>=3.2.0 in /usr/local/lib/python3.11/dist-packages (from tensorflow<2.18,>=2.17->tf_keras) (3.5.0)\n",
            "Requirement already satisfied: tensorflow-io-gcs-filesystem>=0.23.1 in /usr/local/lib/python3.11/dist-packages (from tensorflow<2.18,>=2.17->tf_keras) (0.37.1)\n",
            "Requirement already satisfied: numpy<2.0.0,>=1.23.5 in /usr/local/lib/python3.11/dist-packages (from tensorflow<2.18,>=2.17->tf_keras) (1.26.4)\n",
            "Requirement already satisfied: wheel<1.0,>=0.23.0 in /usr/local/lib/python3.11/dist-packages (from astunparse>=1.6.0->tensorflow<2.18,>=2.17->tf_keras) (0.45.1)\n",
            "Requirement already satisfied: rich in /usr/local/lib/python3.11/dist-packages (from keras>=3.2.0->tensorflow<2.18,>=2.17->tf_keras) (13.9.4)\n",
            "Requirement already satisfied: namex in /usr/local/lib/python3.11/dist-packages (from keras>=3.2.0->tensorflow<2.18,>=2.17->tf_keras) (0.0.8)\n",
            "Requirement already satisfied: optree in /usr/local/lib/python3.11/dist-packages (from keras>=3.2.0->tensorflow<2.18,>=2.17->tf_keras) (0.14.0)\n",
            "Requirement already satisfied: charset-normalizer<4,>=2 in /usr/local/lib/python3.11/dist-packages (from requests<3,>=2.21.0->tensorflow<2.18,>=2.17->tf_keras) (3.4.1)\n",
            "Requirement already satisfied: idna<4,>=2.5 in /usr/local/lib/python3.11/dist-packages (from requests<3,>=2.21.0->tensorflow<2.18,>=2.17->tf_keras) (3.10)\n",
            "Requirement already satisfied: urllib3<3,>=1.21.1 in /usr/local/lib/python3.11/dist-packages (from requests<3,>=2.21.0->tensorflow<2.18,>=2.17->tf_keras) (2.3.0)\n",
            "Requirement already satisfied: certifi>=2017.4.17 in /usr/local/lib/python3.11/dist-packages (from requests<3,>=2.21.0->tensorflow<2.18,>=2.17->tf_keras) (2024.12.14)\n",
            "Requirement already satisfied: markdown>=2.6.8 in /usr/local/lib/python3.11/dist-packages (from tensorboard<2.18,>=2.17->tensorflow<2.18,>=2.17->tf_keras) (3.7)\n",
            "Requirement already satisfied: tensorboard-data-server<0.8.0,>=0.7.0 in /usr/local/lib/python3.11/dist-packages (from tensorboard<2.18,>=2.17->tensorflow<2.18,>=2.17->tf_keras) (0.7.2)\n",
            "Requirement already satisfied: werkzeug>=1.0.1 in /usr/local/lib/python3.11/dist-packages (from tensorboard<2.18,>=2.17->tensorflow<2.18,>=2.17->tf_keras) (3.1.3)\n",
            "Requirement already satisfied: MarkupSafe>=2.1.1 in /usr/local/lib/python3.11/dist-packages (from werkzeug>=1.0.1->tensorboard<2.18,>=2.17->tensorflow<2.18,>=2.17->tf_keras) (3.0.2)\n",
            "Requirement already satisfied: markdown-it-py>=2.2.0 in /usr/local/lib/python3.11/dist-packages (from rich->keras>=3.2.0->tensorflow<2.18,>=2.17->tf_keras) (3.0.0)\n",
            "Requirement already satisfied: pygments<3.0.0,>=2.13.0 in /usr/local/lib/python3.11/dist-packages (from rich->keras>=3.2.0->tensorflow<2.18,>=2.17->tf_keras) (2.19.1)\n",
            "Requirement already satisfied: mdurl~=0.1 in /usr/local/lib/python3.11/dist-packages (from markdown-it-py>=2.2.0->rich->keras>=3.2.0->tensorflow<2.18,>=2.17->tf_keras) (0.1.2)\n"
          ]
        }
      ],
      "source": [
        "!pip install tf_keras"
      ]
    },
    {
      "cell_type": "code",
      "execution_count": null,
      "metadata": {
        "id": "lG9zgj_nQlf2"
      },
      "outputs": [],
      "source": [
        "import os\n",
        "os.environ['TF_USE_LEGACY_KERAS'] = \"1\""
      ]
    },
    {
      "cell_type": "code",
      "execution_count": null,
      "metadata": {
        "id": "vMuaEzlPYcg_"
      },
      "outputs": [],
      "source": []
    },
    {
      "cell_type": "code",
      "execution_count": null,
      "metadata": {
        "id": "ozOhN3r4JX2u"
      },
      "outputs": [],
      "source": [
        "REDO = True"
      ]
    },
    {
      "cell_type": "code",
      "execution_count": null,
      "metadata": {
        "colab": {
          "base_uri": "https://localhost:8080/"
        },
        "id": "eXIBODZhYp6z",
        "outputId": "49bee93e-b516-44dd-db73-c44e5498656b"
      },
      "outputs": [
        {
          "name": "stdout",
          "output_type": "stream",
          "text": [
            "Collecting tensorflow-io\n",
            "  Downloading tensorflow_io-0.37.1-cp311-cp311-manylinux_2_17_x86_64.manylinux2014_x86_64.whl.metadata (14 kB)\n",
            "Requirement already satisfied: tensorflow in /usr/local/lib/python3.11/dist-packages (2.17.1)\n",
            "Collecting tensorflow-model-optimization\n",
            "  Downloading tensorflow_model_optimization-0.8.0-py2.py3-none-any.whl.metadata (904 bytes)\n",
            "Requirement already satisfied: librosa in /usr/local/lib/python3.11/dist-packages (0.10.2.post1)\n",
            "Requirement already satisfied: matplotlib in /usr/local/lib/python3.11/dist-packages (3.10.0)\n",
            "Requirement already satisfied: pandas in /usr/local/lib/python3.11/dist-packages (2.2.2)\n",
            "Collecting datasets\n",
            "  Downloading datasets-3.2.0-py3-none-any.whl.metadata (20 kB)\n",
            "Requirement already satisfied: tensorflow-io-gcs-filesystem==0.37.1 in /usr/local/lib/python3.11/dist-packages (from tensorflow-io) (0.37.1)\n",
            "Requirement already satisfied: absl-py>=1.0.0 in /usr/local/lib/python3.11/dist-packages (from tensorflow) (1.4.0)\n",
            "Requirement already satisfied: astunparse>=1.6.0 in /usr/local/lib/python3.11/dist-packages (from tensorflow) (1.6.3)\n",
            "Requirement already satisfied: flatbuffers>=24.3.25 in /usr/local/lib/python3.11/dist-packages (from tensorflow) (25.1.21)\n",
            "Requirement already satisfied: gast!=0.5.0,!=0.5.1,!=0.5.2,>=0.2.1 in /usr/local/lib/python3.11/dist-packages (from tensorflow) (0.6.0)\n",
            "Requirement already satisfied: google-pasta>=0.1.1 in /usr/local/lib/python3.11/dist-packages (from tensorflow) (0.2.0)\n",
            "Requirement already satisfied: h5py>=3.10.0 in /usr/local/lib/python3.11/dist-packages (from tensorflow) (3.12.1)\n",
            "Requirement already satisfied: libclang>=13.0.0 in /usr/local/lib/python3.11/dist-packages (from tensorflow) (18.1.1)\n",
            "Requirement already satisfied: ml-dtypes<0.5.0,>=0.3.1 in /usr/local/lib/python3.11/dist-packages (from tensorflow) (0.4.1)\n",
            "Requirement already satisfied: opt-einsum>=2.3.2 in /usr/local/lib/python3.11/dist-packages (from tensorflow) (3.4.0)\n",
            "Requirement already satisfied: packaging in /usr/local/lib/python3.11/dist-packages (from tensorflow) (24.2)\n",
            "Requirement already satisfied: protobuf!=4.21.0,!=4.21.1,!=4.21.2,!=4.21.3,!=4.21.4,!=4.21.5,<5.0.0dev,>=3.20.3 in /usr/local/lib/python3.11/dist-packages (from tensorflow) (4.25.6)\n",
            "Requirement already satisfied: requests<3,>=2.21.0 in /usr/local/lib/python3.11/dist-packages (from tensorflow) (2.32.3)\n",
            "Requirement already satisfied: setuptools in /usr/local/lib/python3.11/dist-packages (from tensorflow) (75.1.0)\n",
            "Requirement already satisfied: six>=1.12.0 in /usr/local/lib/python3.11/dist-packages (from tensorflow) (1.17.0)\n",
            "Requirement already satisfied: termcolor>=1.1.0 in /usr/local/lib/python3.11/dist-packages (from tensorflow) (2.5.0)\n",
            "Requirement already satisfied: typing-extensions>=3.6.6 in /usr/local/lib/python3.11/dist-packages (from tensorflow) (4.12.2)\n",
            "Requirement already satisfied: wrapt>=1.11.0 in /usr/local/lib/python3.11/dist-packages (from tensorflow) (1.17.2)\n",
            "Requirement already satisfied: grpcio<2.0,>=1.24.3 in /usr/local/lib/python3.11/dist-packages (from tensorflow) (1.70.0)\n",
            "Requirement already satisfied: tensorboard<2.18,>=2.17 in /usr/local/lib/python3.11/dist-packages (from tensorflow) (2.17.1)\n",
            "Requirement already satisfied: keras>=3.2.0 in /usr/local/lib/python3.11/dist-packages (from tensorflow) (3.5.0)\n",
            "Requirement already satisfied: numpy<2.0.0,>=1.23.5 in /usr/local/lib/python3.11/dist-packages (from tensorflow) (1.26.4)\n",
            "Requirement already satisfied: dm-tree~=0.1.1 in /usr/local/lib/python3.11/dist-packages (from tensorflow-model-optimization) (0.1.8)\n",
            "Requirement already satisfied: audioread>=2.1.9 in /usr/local/lib/python3.11/dist-packages (from librosa) (3.0.1)\n",
            "Requirement already satisfied: scipy>=1.2.0 in /usr/local/lib/python3.11/dist-packages (from librosa) (1.13.1)\n",
            "Requirement already satisfied: scikit-learn>=0.20.0 in /usr/local/lib/python3.11/dist-packages (from librosa) (1.6.1)\n",
            "Requirement already satisfied: joblib>=0.14 in /usr/local/lib/python3.11/dist-packages (from librosa) (1.4.2)\n",
            "Requirement already satisfied: decorator>=4.3.0 in /usr/local/lib/python3.11/dist-packages (from librosa) (5.1.1)\n",
            "Requirement already satisfied: numba>=0.51.0 in /usr/local/lib/python3.11/dist-packages (from librosa) (0.61.0)\n",
            "Requirement already satisfied: soundfile>=0.12.1 in /usr/local/lib/python3.11/dist-packages (from librosa) (0.13.0)\n",
            "Requirement already satisfied: pooch>=1.1 in /usr/local/lib/python3.11/dist-packages (from librosa) (1.8.2)\n",
            "Requirement already satisfied: soxr>=0.3.2 in /usr/local/lib/python3.11/dist-packages (from librosa) (0.5.0.post1)\n",
            "Requirement already satisfied: lazy-loader>=0.1 in /usr/local/lib/python3.11/dist-packages (from librosa) (0.4)\n",
            "Requirement already satisfied: msgpack>=1.0 in /usr/local/lib/python3.11/dist-packages (from librosa) (1.1.0)\n",
            "Requirement already satisfied: contourpy>=1.0.1 in /usr/local/lib/python3.11/dist-packages (from matplotlib) (1.3.1)\n",
            "Requirement already satisfied: cycler>=0.10 in /usr/local/lib/python3.11/dist-packages (from matplotlib) (0.12.1)\n",
            "Requirement already satisfied: fonttools>=4.22.0 in /usr/local/lib/python3.11/dist-packages (from matplotlib) (4.55.6)\n",
            "Requirement already satisfied: kiwisolver>=1.3.1 in /usr/local/lib/python3.11/dist-packages (from matplotlib) (1.4.8)\n",
            "Requirement already satisfied: pillow>=8 in /usr/local/lib/python3.11/dist-packages (from matplotlib) (11.1.0)\n",
            "Requirement already satisfied: pyparsing>=2.3.1 in /usr/local/lib/python3.11/dist-packages (from matplotlib) (3.2.1)\n",
            "Requirement already satisfied: python-dateutil>=2.7 in /usr/local/lib/python3.11/dist-packages (from matplotlib) (2.9.0.post0)\n",
            "Requirement already satisfied: pytz>=2020.1 in /usr/local/lib/python3.11/dist-packages (from pandas) (2024.2)\n",
            "Requirement already satisfied: tzdata>=2022.7 in /usr/local/lib/python3.11/dist-packages (from pandas) (2025.1)\n",
            "Requirement already satisfied: filelock in /usr/local/lib/python3.11/dist-packages (from datasets) (3.17.0)\n",
            "Requirement already satisfied: pyarrow>=15.0.0 in /usr/local/lib/python3.11/dist-packages (from datasets) (19.0.0)\n",
            "Collecting dill<0.3.9,>=0.3.0 (from datasets)\n",
            "  Downloading dill-0.3.8-py3-none-any.whl.metadata (10 kB)\n",
            "Requirement already satisfied: tqdm>=4.66.3 in /usr/local/lib/python3.11/dist-packages (from datasets) (4.67.1)\n",
            "Collecting xxhash (from datasets)\n",
            "  Downloading xxhash-3.5.0-cp311-cp311-manylinux_2_17_x86_64.manylinux2014_x86_64.whl.metadata (12 kB)\n",
            "Collecting multiprocess<0.70.17 (from datasets)\n",
            "  Downloading multiprocess-0.70.16-py311-none-any.whl.metadata (7.2 kB)\n",
            "Collecting fsspec<=2024.9.0,>=2023.1.0 (from fsspec[http]<=2024.9.0,>=2023.1.0->datasets)\n",
            "  Downloading fsspec-2024.9.0-py3-none-any.whl.metadata (11 kB)\n",
            "Collecting aiohttp (from datasets)\n",
            "  Downloading aiohttp-3.11.11-cp311-cp311-manylinux_2_17_x86_64.manylinux2014_x86_64.whl.metadata (7.7 kB)\n",
            "Requirement already satisfied: huggingface-hub>=0.23.0 in /usr/local/lib/python3.11/dist-packages (from datasets) (0.27.1)\n",
            "Requirement already satisfied: pyyaml>=5.1 in /usr/local/lib/python3.11/dist-packages (from datasets) (6.0.2)\n",
            "Requirement already satisfied: wheel<1.0,>=0.23.0 in /usr/local/lib/python3.11/dist-packages (from astunparse>=1.6.0->tensorflow) (0.45.1)\n",
            "Collecting aiohappyeyeballs>=2.3.0 (from aiohttp->datasets)\n",
            "  Downloading aiohappyeyeballs-2.4.4-py3-none-any.whl.metadata (6.1 kB)\n",
            "Collecting aiosignal>=1.1.2 (from aiohttp->datasets)\n",
            "  Downloading aiosignal-1.3.2-py2.py3-none-any.whl.metadata (3.8 kB)\n",
            "Requirement already satisfied: attrs>=17.3.0 in /usr/local/lib/python3.11/dist-packages (from aiohttp->datasets) (24.3.0)\n",
            "Collecting frozenlist>=1.1.1 (from aiohttp->datasets)\n",
            "  Downloading frozenlist-1.5.0-cp311-cp311-manylinux_2_5_x86_64.manylinux1_x86_64.manylinux_2_17_x86_64.manylinux2014_x86_64.whl.metadata (13 kB)\n",
            "Collecting multidict<7.0,>=4.5 (from aiohttp->datasets)\n",
            "  Downloading multidict-6.1.0-cp311-cp311-manylinux_2_17_x86_64.manylinux2014_x86_64.whl.metadata (5.0 kB)\n",
            "Collecting propcache>=0.2.0 (from aiohttp->datasets)\n",
            "  Downloading propcache-0.2.1-cp311-cp311-manylinux_2_17_x86_64.manylinux2014_x86_64.whl.metadata (9.2 kB)\n",
            "Collecting yarl<2.0,>=1.17.0 (from aiohttp->datasets)\n",
            "  Downloading yarl-1.18.3-cp311-cp311-manylinux_2_17_x86_64.manylinux2014_x86_64.whl.metadata (69 kB)\n",
            "\u001b[2K     \u001b[90m━━━━━━━━━━━━━━━━━━━━━━━━━━━━━━━━━━━━━━━━\u001b[0m \u001b[32m69.2/69.2 kB\u001b[0m \u001b[31m2.6 MB/s\u001b[0m eta \u001b[36m0:00:00\u001b[0m\n",
            "\u001b[?25hRequirement already satisfied: rich in /usr/local/lib/python3.11/dist-packages (from keras>=3.2.0->tensorflow) (13.9.4)\n",
            "Requirement already satisfied: namex in /usr/local/lib/python3.11/dist-packages (from keras>=3.2.0->tensorflow) (0.0.8)\n",
            "Requirement already satisfied: optree in /usr/local/lib/python3.11/dist-packages (from keras>=3.2.0->tensorflow) (0.14.0)\n",
            "Requirement already satisfied: llvmlite<0.45,>=0.44.0dev0 in /usr/local/lib/python3.11/dist-packages (from numba>=0.51.0->librosa) (0.44.0)\n",
            "Requirement already satisfied: platformdirs>=2.5.0 in /usr/local/lib/python3.11/dist-packages (from pooch>=1.1->librosa) (4.3.6)\n",
            "Requirement already satisfied: charset-normalizer<4,>=2 in /usr/local/lib/python3.11/dist-packages (from requests<3,>=2.21.0->tensorflow) (3.4.1)\n",
            "Requirement already satisfied: idna<4,>=2.5 in /usr/local/lib/python3.11/dist-packages (from requests<3,>=2.21.0->tensorflow) (3.10)\n",
            "Requirement already satisfied: urllib3<3,>=1.21.1 in /usr/local/lib/python3.11/dist-packages (from requests<3,>=2.21.0->tensorflow) (2.3.0)\n",
            "Requirement already satisfied: certifi>=2017.4.17 in /usr/local/lib/python3.11/dist-packages (from requests<3,>=2.21.0->tensorflow) (2024.12.14)\n",
            "Requirement already satisfied: threadpoolctl>=3.1.0 in /usr/local/lib/python3.11/dist-packages (from scikit-learn>=0.20.0->librosa) (3.5.0)\n",
            "Requirement already satisfied: cffi>=1.0 in /usr/local/lib/python3.11/dist-packages (from soundfile>=0.12.1->librosa) (1.17.1)\n",
            "Requirement already satisfied: markdown>=2.6.8 in /usr/local/lib/python3.11/dist-packages (from tensorboard<2.18,>=2.17->tensorflow) (3.7)\n",
            "Requirement already satisfied: tensorboard-data-server<0.8.0,>=0.7.0 in /usr/local/lib/python3.11/dist-packages (from tensorboard<2.18,>=2.17->tensorflow) (0.7.2)\n",
            "Requirement already satisfied: werkzeug>=1.0.1 in /usr/local/lib/python3.11/dist-packages (from tensorboard<2.18,>=2.17->tensorflow) (3.1.3)\n",
            "Requirement already satisfied: pycparser in /usr/local/lib/python3.11/dist-packages (from cffi>=1.0->soundfile>=0.12.1->librosa) (2.22)\n",
            "Requirement already satisfied: MarkupSafe>=2.1.1 in /usr/local/lib/python3.11/dist-packages (from werkzeug>=1.0.1->tensorboard<2.18,>=2.17->tensorflow) (3.0.2)\n",
            "Requirement already satisfied: markdown-it-py>=2.2.0 in /usr/local/lib/python3.11/dist-packages (from rich->keras>=3.2.0->tensorflow) (3.0.0)\n",
            "Requirement already satisfied: pygments<3.0.0,>=2.13.0 in /usr/local/lib/python3.11/dist-packages (from rich->keras>=3.2.0->tensorflow) (2.19.1)\n",
            "Requirement already satisfied: mdurl~=0.1 in /usr/local/lib/python3.11/dist-packages (from markdown-it-py>=2.2.0->rich->keras>=3.2.0->tensorflow) (0.1.2)\n",
            "Downloading tensorflow_io-0.37.1-cp311-cp311-manylinux_2_17_x86_64.manylinux2014_x86_64.whl (49.6 MB)\n",
            "\u001b[2K   \u001b[90m━━━━━━━━━━━━━━━━━━━━━━━━━━━━━━━━━━━━━━━━\u001b[0m \u001b[32m49.6/49.6 MB\u001b[0m \u001b[31m25.2 MB/s\u001b[0m eta \u001b[36m0:00:00\u001b[0m\n",
            "\u001b[?25hDownloading tensorflow_model_optimization-0.8.0-py2.py3-none-any.whl (242 kB)\n",
            "\u001b[2K   \u001b[90m━━━━━━━━━━━━━━━━━━━━━━━━━━━━━━━━━━━━━━━━\u001b[0m \u001b[32m242.5/242.5 kB\u001b[0m \u001b[31m15.1 MB/s\u001b[0m eta \u001b[36m0:00:00\u001b[0m\n",
            "\u001b[?25hDownloading datasets-3.2.0-py3-none-any.whl (480 kB)\n",
            "\u001b[2K   \u001b[90m━━━━━━━━━━━━━━━━━━━━━━━━━━━━━━━━━━━━━━━━\u001b[0m \u001b[32m480.6/480.6 kB\u001b[0m \u001b[31m26.5 MB/s\u001b[0m eta \u001b[36m0:00:00\u001b[0m\n",
            "\u001b[?25hDownloading dill-0.3.8-py3-none-any.whl (116 kB)\n",
            "\u001b[2K   \u001b[90m━━━━━━━━━━━━━━━━━━━━━━━━━━━━━━━━━━━━━━━━\u001b[0m \u001b[32m116.3/116.3 kB\u001b[0m \u001b[31m6.6 MB/s\u001b[0m eta \u001b[36m0:00:00\u001b[0m\n",
            "\u001b[?25hDownloading fsspec-2024.9.0-py3-none-any.whl (179 kB)\n",
            "\u001b[2K   \u001b[90m━━━━━━━━━━━━━━━━━━━━━━━━━━━━━━━━━━━━━━━━\u001b[0m \u001b[32m179.3/179.3 kB\u001b[0m \u001b[31m12.9 MB/s\u001b[0m eta \u001b[36m0:00:00\u001b[0m\n",
            "\u001b[?25hDownloading aiohttp-3.11.11-cp311-cp311-manylinux_2_17_x86_64.manylinux2014_x86_64.whl (1.7 MB)\n",
            "\u001b[2K   \u001b[90m━━━━━━━━━━━━━━━━━━━━━━━━━━━━━━━━━━━━━━━━\u001b[0m \u001b[32m1.7/1.7 MB\u001b[0m \u001b[31m66.6 MB/s\u001b[0m eta \u001b[36m0:00:00\u001b[0m\n",
            "\u001b[?25hDownloading multiprocess-0.70.16-py311-none-any.whl (143 kB)\n",
            "\u001b[2K   \u001b[90m━━━━━━━━━━━━━━━━━━━━━━━━━━━━━━━━━━━━━━━━\u001b[0m \u001b[32m143.5/143.5 kB\u001b[0m \u001b[31m9.6 MB/s\u001b[0m eta \u001b[36m0:00:00\u001b[0m\n",
            "\u001b[?25hDownloading xxhash-3.5.0-cp311-cp311-manylinux_2_17_x86_64.manylinux2014_x86_64.whl (194 kB)\n",
            "\u001b[2K   \u001b[90m━━━━━━━━━━━━━━━━━━━━━━━━━━━━━━━━━━━━━━━━\u001b[0m \u001b[32m194.8/194.8 kB\u001b[0m \u001b[31m12.2 MB/s\u001b[0m eta \u001b[36m0:00:00\u001b[0m\n",
            "\u001b[?25hDownloading aiohappyeyeballs-2.4.4-py3-none-any.whl (14 kB)\n",
            "Downloading aiosignal-1.3.2-py2.py3-none-any.whl (7.6 kB)\n",
            "Downloading frozenlist-1.5.0-cp311-cp311-manylinux_2_5_x86_64.manylinux1_x86_64.manylinux_2_17_x86_64.manylinux2014_x86_64.whl (274 kB)\n",
            "\u001b[2K   \u001b[90m━━━━━━━━━━━━━━━━━━━━━━━━━━━━━━━━━━━━━━━━\u001b[0m \u001b[32m274.9/274.9 kB\u001b[0m \u001b[31m15.7 MB/s\u001b[0m eta \u001b[36m0:00:00\u001b[0m\n",
            "\u001b[?25hDownloading multidict-6.1.0-cp311-cp311-manylinux_2_17_x86_64.manylinux2014_x86_64.whl (129 kB)\n",
            "\u001b[2K   \u001b[90m━━━━━━━━━━━━━━━━━━━━━━━━━━━━━━━━━━━━━━━━\u001b[0m \u001b[32m129.0/129.0 kB\u001b[0m \u001b[31m7.7 MB/s\u001b[0m eta \u001b[36m0:00:00\u001b[0m\n",
            "\u001b[?25hDownloading propcache-0.2.1-cp311-cp311-manylinux_2_17_x86_64.manylinux2014_x86_64.whl (231 kB)\n",
            "\u001b[2K   \u001b[90m━━━━━━━━━━━━━━━━━━━━━━━━━━━━━━━━━━━━━━━━\u001b[0m \u001b[32m231.1/231.1 kB\u001b[0m \u001b[31m14.3 MB/s\u001b[0m eta \u001b[36m0:00:00\u001b[0m\n",
            "\u001b[?25hDownloading yarl-1.18.3-cp311-cp311-manylinux_2_17_x86_64.manylinux2014_x86_64.whl (344 kB)\n",
            "\u001b[2K   \u001b[90m━━━━━━━━━━━━━━━━━━━━━━━━━━━━━━━━━━━━━━━━\u001b[0m \u001b[32m344.1/344.1 kB\u001b[0m \u001b[31m20.5 MB/s\u001b[0m eta \u001b[36m0:00:00\u001b[0m\n",
            "\u001b[?25hInstalling collected packages: xxhash, tensorflow-model-optimization, tensorflow-io, propcache, multidict, fsspec, frozenlist, dill, aiohappyeyeballs, yarl, multiprocess, aiosignal, aiohttp, datasets\n",
            "  Attempting uninstall: fsspec\n",
            "    Found existing installation: fsspec 2024.12.0\n",
            "    Uninstalling fsspec-2024.12.0:\n",
            "      Successfully uninstalled fsspec-2024.12.0\n",
            "Successfully installed aiohappyeyeballs-2.4.4 aiohttp-3.11.11 aiosignal-1.3.2 datasets-3.2.0 dill-0.3.8 frozenlist-1.5.0 fsspec-2024.9.0 multidict-6.1.0 multiprocess-0.70.16 propcache-0.2.1 tensorflow-io-0.37.1 tensorflow-model-optimization-0.8.0 xxhash-3.5.0 yarl-1.18.3\n"
          ]
        }
      ],
      "source": [
        "#!pip install -r /content/drive/MyDrive/frugal/requirements.txt\n",
        "!pip install tensorflow-io tensorflow tensorflow-model-optimization librosa matplotlib pandas datasets"
      ]
    },
    {
      "cell_type": "code",
      "execution_count": null,
      "metadata": {
        "colab": {
          "base_uri": "https://localhost:8080/"
        },
        "id": "531T-PhZhcA7",
        "outputId": "aaa53b37-25f1-4524-f80f-223df1d5f5ad"
      },
      "outputs": [
        {
          "name": "stdout",
          "output_type": "stream",
          "text": [
            "Collecting CMSISDSP\n",
            "  Cloning https://github.com/ARM-software/CMSIS_5.git (to revision 5.8.0) to /tmp/pip-install-qguba5bt/cmsisdsp_f20e6008d55f4856b29c241dbc5ad647\n",
            "  Running command git clone --filter=blob:none --quiet https://github.com/ARM-software/CMSIS_5.git /tmp/pip-install-qguba5bt/cmsisdsp_f20e6008d55f4856b29c241dbc5ad647\n",
            "  Running command git checkout -q 649bd8aa41ed7d86b416c89cdb4b820b899a4cbc\n",
            "  Resolved https://github.com/ARM-software/CMSIS_5.git to commit 649bd8aa41ed7d86b416c89cdb4b820b899a4cbc\n",
            "  Preparing metadata (setup.py) ... \u001b[?25l\u001b[?25hdone\n",
            "Building wheels for collected packages: CMSISDSP\n",
            "  Building wheel for CMSISDSP (setup.py) ... \u001b[?25l\u001b[?25hdone\n",
            "  Created wheel for CMSISDSP: filename=CMSISDSP-1.0.0-cp311-cp311-linux_x86_64.whl size=1354776 sha256=68b77737327c6ae57b721007ef00fcdf9fd4dfe5f8474e2b2eb4b2105fc0a9c2\n",
            "  Stored in directory: /tmp/pip-ephem-wheel-cache-yi915hja/wheels/b2/84/47/073dc9eab0d876dd32dff0c0bd5b60722ce49118d120a6bcb5\n",
            "Successfully built CMSISDSP\n",
            "Installing collected packages: CMSISDSP\n",
            "Successfully installed CMSISDSP-1.0.0\n"
          ]
        }
      ],
      "source": [
        "# # Pico related library\n",
        "!pip install git+https://github.com/ARM-software/CMSIS_5.git@5.8.0#egg=CMSISDSP\\&subdirectory=CMSIS/DSP/PythonWrapper\n",
        "#!pip freeze > /content/drive/MyDrive/frugal/requirements.txt"
      ]
    },
    {
      "cell_type": "code",
      "execution_count": null,
      "metadata": {
        "colab": {
          "base_uri": "https://localhost:8080/"
        },
        "id": "tu_WUu5VnzNZ",
        "outputId": "199c9b14-ff1a-4582-aa9e-d252d2c62319"
      },
      "outputs": [
        {
          "name": "stdout",
          "output_type": "stream",
          "text": [
            "Python 3.11.11\n",
            "pip 24.1.2 from /usr/local/lib/python3.11/dist-packages/pip (python 3.11)\n"
          ]
        }
      ],
      "source": [
        "!python --version\n",
        "!pip --version\n"
      ]
    },
    {
      "cell_type": "markdown",
      "metadata": {
        "id": "Ck00vnPDnSou"
      },
      "source": []
    },
    {
      "cell_type": "code",
      "execution_count": null,
      "metadata": {
        "colab": {
          "base_uri": "https://localhost:8080/"
        },
        "id": "KD13h1ojSlHN",
        "outputId": "c95a14f6-6df8-4d62-d767-0abd02e6204b"
      },
      "outputs": [
        {
          "name": "stdout",
          "output_type": "stream",
          "text": [
            "v2.17.0-rc1-2-gad6d8cc177d 2.17.0\n",
            "2.17.0\n"
          ]
        }
      ],
      "source": [
        "import tensorflow as tf\n",
        "# Connect to google drive\n",
        "\n",
        "print(tf.version.GIT_VERSION, tf.version.VERSION)\n",
        "print(tf.__version__)\n",
        "\n",
        "import numpy as np\n",
        "import pandas as pd\n",
        "import glob\n",
        "from tqdm import tqdm\n",
        "import soundfile as sf\n",
        "import json\n",
        "from os import path\n",
        "from datasets import load_dataset"
      ]
    },
    {
      "cell_type": "markdown",
      "metadata": {
        "id": "HMuv2599z8hy"
      },
      "source": [
        "## Baseline model\n",
        "\n",
        "Dataset: HuggingFace: \"rfcx/frugalai\"\n",
        "\n",
        "### Prepare dataset\n",
        "\n",
        "#### Download and extract"
      ]
    },
    {
      "cell_type": "code",
      "execution_count": null,
      "metadata": {
        "colab": {
          "base_uri": "https://localhost:8080/",
          "height": 116,
          "referenced_widgets": [
            "c620f8bf3c4f47c9a47c8aaf72df599c",
            "9dec3620934f4759844a50675bd02091",
            "b9e44a370eac4bc3abec9c9aa4a74dfa",
            "b2a7392bd2904b5bb917384a33ea246d",
            "bbbd748785a04090bb720052c2796633",
            "349a4e47112749f8bf8b51cca2fa1f6a",
            "3aec8ea2cb16437596fe58a3b984201d",
            "b4122fa1a95749a9b470e6fe93e0ab8a",
            "e5f609d97758439c81d72c438f45ee58",
            "24d5066fc7d34ad19a87a206d12f9aca",
            "4e4eac5327b74c67b5d6f01c21cbb933",
            "b07c219aaecc455387eb907141c33120",
            "2893f92b173346209dbf8db283b2e8d0",
            "7abd3d3807424a91acb9fc72e3609211",
            "55ae09777bcb4a9090cdb13c4cd2aaf1",
            "5ce9b2e55b4d41a3a828a629e8cd1e66",
            "1a8e5e7f039e46608f18ea2a9b759ad3",
            "efc2c9ca8494440bb73381fc8cf812ee",
            "d82b2a5da4a147ce812181816f103847",
            "92b5553aa024424983f1bee99158dd74",
            "7c797dbea28542caab1af2092908ed1e",
            "847321d8d1ea4a89acefb76524ccc916"
          ]
        },
        "id": "pUlygjmQISDG",
        "outputId": "175209ee-ebd1-411e-c6b7-9bfab62ae58f"
      },
      "outputs": [
        {
          "data": {
            "application/vnd.jupyter.widget-view+json": {
              "model_id": "c620f8bf3c4f47c9a47c8aaf72df599c",
              "version_major": 2,
              "version_minor": 0
            },
            "text/plain": [
              "README.md:   0%|          | 0.00/4.42k [00:00<?, ?B/s]"
            ]
          },
          "metadata": {},
          "output_type": "display_data"
        },
        {
          "name": "stderr",
          "output_type": "stream",
          "text": [
            "Setting num_proc from 10 to 6 for the train split as it only contains 6 shards.\n",
            "WARNING:datasets.builder:Setting num_proc from 10 to 6 for the train split as it only contains 6 shards.\n"
          ]
        },
        {
          "data": {
            "application/vnd.jupyter.widget-view+json": {
              "model_id": "b07c219aaecc455387eb907141c33120",
              "version_major": 2,
              "version_minor": 0
            },
            "text/plain": [
              "Generating train split:   0%|          | 0/35277 [00:00<?, ? examples/s]"
            ]
          },
          "metadata": {},
          "output_type": "display_data"
        }
      ],
      "source": [
        "# download the dataset\n",
        "# Have your HuggingFace HF_TOKEN ready and made available!\n",
        "dasaset = load_dataset(\n",
        "  \"rfcx/frugalai\",\n",
        "  name=\"default\",\n",
        "  num_proc=10,\n",
        "  cache_dir=\"cache/\"\n",
        ")"
      ]
    },
    {
      "cell_type": "code",
      "execution_count": null,
      "metadata": {
        "id": "emKnehJGX8tW"
      },
      "outputs": [],
      "source": [
        "# Choose the setting of spectrogram between\n",
        "# 1 for create_spectrogram_for_map\n",
        "# 2 for create_arm_spectrogram_for_map\n",
        "# 3 Mel spectrogram\n",
        "\n",
        "spectrogram_setting = \"create_arm_spectrogram_for_map\"\n",
        "\n",
        "print(\"Choice:\",spectrogram_setting)"
      ]
    },
    {
      "cell_type": "markdown",
      "metadata": {
        "id": "mh9gP4EXSoWp"
      },
      "source": [
        "## Creating sound files"
      ]
    },
    {
      "cell_type": "markdown",
      "metadata": {
        "id": "LqnpuM-G2jDr"
      },
      "source": [
        "#### Load wave file data\n",
        "\n",
        "We can then define a new function named `load_wav` to load audio samples from a wave file using TensorFlow's [`tf.io.read_file(...)`](https://www.tensorflow.org/api_docs/python/tf/io/read_file) and[`tf.audio.decode_wav(...)`](https://www.tensorflow.org/api_docs/python/tf/audio/decode_wav) API's. The [`tfio.audio.resample(...)`](https://www.tensorflow.org/io/api_docs/python/tfio/audio/resample) API will be used to resample the audio samples at the specified sampling rate.\n",
        "\n",
        "[librosa](https://librosa.org/)'s [`load(...)`](https://librosa.org/doc/main/generated/librosa.load.html) API will be used as a fallback if TensorFlow is unable to decode the wave file.\n"
      ]
    },
    {
      "cell_type": "markdown",
      "metadata": {
        "id": "P_2AYbxi5oIp"
      },
      "source": [
        "Now let's load the first wave file, from the pandas `DataFrame`, and plot it overtime using `matplotlib`. The [`IPython.display.Audio(...)`](https://ipython.org/ipython-doc/3/api/generated/IPython.display.html#IPython.display.Audio) API can be used to playback the audio samples inside the notebook.\n",
        "\n",
        "\n"
      ]
    },
    {
      "cell_type": "code",
      "execution_count": null,
      "metadata": {
        "colab": {
          "base_uri": "https://localhost:8080/",
          "height": 489
        },
        "id": "YgLhGyi75bvI",
        "outputId": "e6e2d691-a366-4cdd-c1c9-a40ec340a652"
      },
      "outputs": [
        {
          "data": {
            "image/png": "[encoded data removed]",
            "text/plain": [
              "<Figure size 640x480 with 1 Axes>"
            ]
          },
          "metadata": {},
          "output_type": "display_data"
        },
        {
          "data": {
            "text/html": [
              "\n",
              "                <audio  controls=\"controls\" >\n",
              "                    <source src=\"data:audio/wav;base64,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\" type=\"audio/wav\" />\n",
              "                    Your browser does not support the audio element.\n",
              "                </audio>\n",
              "              "
            ],
            "text/plain": [
              "<IPython.lib.display.Audio object>"
            ]
          },
          "execution_count": 11,
          "metadata": {},
          "output_type": "execute_result"
        }
      ],
      "source": [
        "import matplotlib.pyplot as plt\n",
        "from IPython import display\n",
        "\n",
        "sample_rate = 12000\n",
        "channels = 1\n",
        "\n",
        "test_wav_data = dasaset['train'][0]['audio']['array']\n",
        "\n",
        "plt.plot([x/12000 for x in range(len(test_wav_data))],test_wav_data)\n",
        "plt.show()\n",
        "\n",
        "display.Audio(test_wav_data, rate=sample_rate)"
      ]
    },
    {
      "cell_type": "markdown",
      "metadata": {
        "id": "sYg6G3ivfOPq"
      },
      "source": [
        "We can then use the [`tf.data.Dataset`](https://www.tensorflow.org/api_docs/python/tf/data/Dataset) TensorFlow API to create a pipeline that loads all wave file data from the dataset."
      ]
    },
    {
      "cell_type": "code",
      "execution_count": null,
      "metadata": {
        "id": "cpsWF054g8WY"
      },
      "outputs": [],
      "source": [
        "import random\n",
        "\n",
        "# Define a generator function for the dataset\n",
        "def dataset_generator(dataset):\n",
        "    for example in dataset:\n",
        "        audio_array = example['audio']['array']\n",
        "        label = example['label']\n",
        "        # Randomly sample 1-5 integers\n",
        "        fold = random.choice([0, 1, 2, 3, 4])\n",
        "        yield audio_array, label, fold\n",
        "\n",
        "# Define a filter function to remove samples with audio length != 36000\n",
        "def filter_by_length(audio, label, path):\n",
        "    return tf.equal(tf.shape(audio)[0], 36000)\n",
        "\n",
        "# Convert the dataset to a TensorFlow dataset\n",
        "split_wav_ds = tf.data.Dataset.from_generator(\n",
        "    lambda: dataset_generator(dasaset['train']),\n",
        "    output_signature=(\n",
        "        tf.TensorSpec(shape=(None,), dtype=tf.float32),  # Audio array\n",
        "        tf.TensorSpec(shape=(), dtype=tf.int64),         # Label\n",
        "        tf.TensorSpec(shape=(), dtype=tf.int64)         # Path\n",
        "    )\n",
        ")\n",
        "\n",
        "split_wav_ds = split_wav_ds.filter(filter_by_length)\n",
        "\n",
        "\n",
        "# Convert the dataset to a TensorFlow dataset\n",
        "test_ds = tf.data.Dataset.from_generator(\n",
        "    lambda: dataset_generator(dasaset['test']),\n",
        "    output_signature=(\n",
        "        tf.TensorSpec(shape=(None,), dtype=tf.float32),  # Audio array\n",
        "        tf.TensorSpec(shape=(), dtype=tf.int64),         # Label\n",
        "        tf.TensorSpec(shape=(), dtype=tf.int64)         # Path\n",
        "    )\n",
        ")\n",
        "\n",
        "test_ds = test_ds.filter(filter_by_length)"
      ]
    },
    {
      "cell_type": "markdown",
      "metadata": {
        "id": "XdV6yAYYhsBw"
      },
      "source": [
        "#### Create Spectrograms\n"
      ]
    },
    {
      "cell_type": "markdown",
      "metadata": {
        "id": "THC4DDLg-SyA"
      },
      "source": [
        "Then we can map each split wave item to a spectrogram:"
      ]
    },
    {
      "cell_type": "code",
      "execution_count": null,
      "metadata": {
        "id": "eLtJztYgZYfB"
      },
      "outputs": [],
      "source": [
        "import cmsisdsp\n",
        "from numpy import pi as PI\n",
        "\n",
        "window_size = 256\n",
        "step_size = 128*8\n",
        "\n",
        "hanning_window_f32 = np.zeros(window_size)\n",
        "for i in range(window_size):\n",
        "  hanning_window_f32[i] = 0.5 * (1 - cmsisdsp.arm_cos_f32(2 * PI * i / window_size ))\n",
        "\n",
        "hanning_window_q15 = cmsisdsp.arm_float_to_q15(hanning_window_f32)\n",
        "\n",
        "rfftq15 = cmsisdsp.arm_rfft_instance_q15()\n",
        "status = cmsisdsp.arm_rfft_init_q15(rfftq15, window_size, 0, 1)\n",
        "\n",
        "def get_arm_spectrogram(waveform):\n",
        "\n",
        "  num_frames = int(1 + (len(waveform) - window_size) // step_size)\n",
        "  fft_size = int(window_size // 2 + 1)\n",
        "  # normalisation du son\n",
        "  #waveform = waveform/np.max(np.abs(waveform))-np.mean(waveform)\n",
        "  waveform = 8*256.0 * (waveform/np.max(np.abs(waveform))-np.mean(waveform))\n",
        "  # Convert the audio to q15\n",
        "  waveform_q15 = cmsisdsp.arm_float_to_q15(waveform)\n",
        "  #print(waveform_q15)\n",
        "  # Create empty spectrogram array\n",
        "  spectrogram_q15 = np.empty((num_frames, fft_size), dtype = np.int16)\n",
        "\n",
        "  start_index = 0\n",
        "\n",
        "  for index in range(num_frames):\n",
        "    # Take the window from the waveform.\n",
        "    window = waveform_q15[start_index:start_index + window_size]\n",
        "\n",
        "    # Apply the Hanning Window.\n",
        "    window = cmsisdsp.arm_mult_q15(window, hanning_window_q15)\n",
        "\n",
        "    # Calculate the FFT, shift by 7 according to docs\n",
        "    window = cmsisdsp.arm_rfft_q15(rfftq15, window)\n",
        "\n",
        "    # Take the absolute value of the FFT and add to the Spectrogram.\n",
        "    spectrogram_q15[index] = cmsisdsp.arm_cmplx_mag_q15(window)[:fft_size]\n",
        "\n",
        "    # Increase the start index of the window by the overlap amount.\n",
        "    start_index += step_size\n",
        "\n",
        "  # Convert to numpy output ready for keras\n",
        "  OUT = cmsisdsp.arm_q15_to_float(spectrogram_q15).reshape(num_frames,fft_size) * 512\n",
        "  if 1:\n",
        "    AVG = np.average(OUT[0,110:])\n",
        "    MAX = np.max(OUT)\n",
        "    OUT = OUT/ MAX\n",
        "  return tf.reshape(OUT, shape=(35, 129))"
      ]
    },
    {
      "cell_type": "code",
      "execution_count": null,
      "metadata": {
        "colab": {
          "base_uri": "https://localhost:8080/"
        },
        "id": "Xw-KTABdvSpG",
        "outputId": "ed2599e1-873f-4ba9-e4e3-8813c68eeeed"
      },
      "outputs": [
        {
          "name": "stdout",
          "output_type": "stream",
          "text": [
            "Passed through  create_arm_spectrogram_for_map\n"
          ]
        }
      ],
      "source": [
        "def create_arm_spectrogram_for_map(samples, label, fold):\n",
        "    spectrogram = tf.py_function(get_arm_spectrogram, [samples], tf.float32)\n",
        "    return spectrogram, label, fold\n",
        "\n",
        "\n",
        "\n",
        "spectrograms_ds = split_wav_ds.map(create_arm_spectrogram_for_map)\n",
        "spectrograms_ds.element_spec\n",
        "test_ds = test_ds.map(create_arm_spectrogram_for_map)\n",
        "test_ds.element_spec\n",
        "\n",
        "print(\"Passed through \",spectrogram_setting)"
      ]
    },
    {
      "cell_type": "markdown",
      "metadata": {
        "id": "nMFP7b-l-kOb"
      },
      "source": [
        "Let's plot the first 3 spectrograms in the dataset:"
      ]
    },
    {
      "cell_type": "code",
      "execution_count": null,
      "metadata": {
        "colab": {
          "background_save": true
        },
        "id": "ssDPsuGviCjx"
      },
      "outputs": [],
      "source": [
        "import numpy as np\n",
        "\n",
        "def plot_spectrogram(spectrogram, vmax=None):\n",
        "  transposed_spectrogram = tf.transpose(spectrogram)\n",
        "\n",
        "  fig = plt.figure(figsize=(8,6))\n",
        "  height = transposed_spectrogram.shape[0]\n",
        "  X = np.arange(transposed_spectrogram.shape[1])\n",
        "  Y = np.arange(height * int(sample_rate / 256), step=int(sample_rate / 256))\n",
        "\n",
        "  im = plt.pcolormesh(X, Y, tf.transpose(spectrogram), vmax=vmax)\n",
        "\n",
        "  fig.colorbar(im)\n",
        "  plt.show()"
      ]
    },
    {
      "cell_type": "code",
      "execution_count": null,
      "metadata": {
        "colab": {
          "background_save": true,
          "base_uri": "https://localhost:8080/",
          "height": 528
        },
        "collapsed": true,
        "id": "Cc3fqcs6lMal",
        "outputId": "7a9a3e01-4ebe-4eb9-a9f8-c774eb209585"
      },
      "outputs": [
        {
          "data": {
            "image/png": "[encoded data removed]",
            "text/plain": [
              "<Figure size 800x600 with 2 Axes>"
            ]
          },
          "metadata": {},
          "output_type": "display_data"
        }
      ],
      "source": [
        "# 1min\n",
        "for s, _, _ in spectrograms_ds.take(1):\n",
        "    plot_spectrogram(s)"
      ]
    },
    {
      "cell_type": "markdown",
      "metadata": {
        "id": "OrCmiQVyQ_NB"
      },
      "source": [
        "### Split Dataset\n",
        "\n",
        "Before we start training the ML classifier model, we must split the dataset up in three parts: training, validation, and test.\n",
        "\n",
        "We will use the same technique in TensorFlow's [Transfer learning with YAMNet for environmental sound classification](https://www.tensorflow.org/tutorials/audio/transfer_learning_audio#split_the_data) guide, and use the `fold` column of the ESC-50 dataset to determine the split.\n",
        "\n",
        "Before splitting the dataset, let's set a random seed for reproducibility:"
      ]
    },
    {
      "cell_type": "code",
      "execution_count": null,
      "metadata": {
        "colab": {
          "background_save": true
        },
        "id": "T3bR-BHBRCYi"
      },
      "outputs": [],
      "source": [
        "import numpy as np\n",
        "import tensorflow as tf\n",
        "\n",
        "random_seed = 42\n",
        "tf.random.set_seed(random_seed)\n",
        "np.random.seed(random_seed)"
      ]
    },
    {
      "cell_type": "markdown",
      "metadata": {
        "id": "kq3kDVG9_nhW"
      },
      "source": [
        "Entries with a `fold` value of less than 4 will used for training, the ones with a `value` will be used for validation, and finally the remaining items with be used for testing.\n",
        "\n",
        "The `fold` column will be removed as it is no longer needed, and the dimensions of the spectrogram shape will be expanded from `(124, 129)` to `(124, 129, 1)`. The training items will also be shuffled."
      ]
    },
    {
      "cell_type": "code",
      "execution_count": null,
      "metadata": {
        "colab": {
          "background_save": true
        },
        "id": "PlHGJYjHCLjQ"
      },
      "outputs": [],
      "source": [
        "#15s\n",
        "cached_ds = spectrograms_ds.cache()\n",
        "test_ds = test_ds.cache()"
      ]
    },
    {
      "cell_type": "code",
      "execution_count": null,
      "metadata": {
        "colab": {
          "background_save": true
        },
        "id": "7uJrWkDEhW6X"
      },
      "outputs": [],
      "source": [
        "BATCHSIZE=32"
      ]
    },
    {
      "cell_type": "code",
      "execution_count": null,
      "metadata": {
        "colab": {
          "background_save": true,
          "base_uri": "https://localhost:8080/"
        },
        "collapsed": true,
        "id": "SyclwrPnMEIh",
        "outputId": "29c3a14d-468f-447b-befc-6bc4fad80da9"
      },
      "outputs": [
        {
          "name": "stdout",
          "output_type": "stream",
          "text": [
            "The spectrogram Shape (35, 129, 1)\n",
            "The spectrogram Shape (35, 129, 1)\n",
            "The spectrogram Shape (35, 129, 1)\n",
            "Before batch: spectrogram shape: (35, 129, 1), label shape: ()\n"
          ]
        }
      ],
      "source": [
        "train_ds = cached_ds.filter(lambda spectrogram, label, fold: fold < 4)\n",
        "val_ds = cached_ds.filter(lambda spectrogram, label, fold: fold == 4)\n",
        "\n",
        "# remove the folds column as it's no longer needed\n",
        "# remove_fold_column = lambda spectrogram, label, fold: (tf.expand_dims(spectrogram, axis=-1), label)\n",
        "\n",
        "def remove_fold_column(spectrogram, label, fold):\n",
        "    spectrogram = tf.expand_dims(spectrogram, axis=-1)\n",
        "    spectrogram.set_shape([35, 129, 1])\n",
        "    print(\"The spectrogram Shape\", spectrogram.shape)\n",
        "    return spectrogram, label\n",
        "\n",
        "train_ds = train_ds.map(remove_fold_column)\n",
        "val_ds = val_ds.map(remove_fold_column)\n",
        "test_ds = test_ds.map(remove_fold_column)\n",
        "\n",
        "# Inspect the data shape before batching\n",
        "for spectrogram, label in train_ds.take(1):\n",
        "    print(f\"Before batch: spectrogram shape: {spectrogram.shape}, label shape: {label.shape}\")\n",
        "\n",
        "train_ds = train_ds.cache()  # Cache the dataset first to keep data in memory\n",
        "train_ds = train_ds.shuffle(buffer_size=100, seed=random_seed)  # Shuffle after caching\n",
        "train_ds = train_ds.batch(BATCHSIZE, drop_remainder=True)  # Batch the dataset\n",
        "train_ds = train_ds.prefetch(tf.data.AUTOTUNE).cache()  # Prefetch the data for better performance\n",
        "val_ds = val_ds.cache().batch(BATCHSIZE, drop_remainder=True).prefetch(tf.data.AUTOTUNE).cache()\n",
        "test_ds = test_ds.cache().batch(BATCHSIZE, drop_remainder=True).prefetch(tf.data.AUTOTUNE).cache()\n"
      ]
    },
    {
      "cell_type": "code",
      "execution_count": null,
      "metadata": {
        "colab": {
          "background_save": true,
          "base_uri": "https://localhost:8080/"
        },
        "id": "11AMctrTD6D7",
        "outputId": "c0b8b973-3c58-4eb5-9ce8-f2e8b84b56e4"
      },
      "outputs": [
        {
          "data": {
            "text/plain": [
              "<_MapDataset element_spec=(TensorSpec(shape=<unknown>, dtype=tf.float32, name=None), TensorSpec(shape=(), dtype=tf.int64, name=None), TensorSpec(shape=(), dtype=tf.int64, name=None))>"
            ]
          },
          "execution_count": 21,
          "metadata": {},
          "output_type": "execute_result"
        }
      ],
      "source": [
        "spectrograms_ds"
      ]
    },
    {
      "cell_type": "markdown",
      "metadata": {
        "id": "LIdHUP8mRF-9"
      },
      "source": [
        "### Train Model\n",
        "\n",
        "Now that we have the features extracted from the audio signal, we can create a model using TensorFlow’s Keras  API. The model will consist of 8 layers:\n",
        "\n",
        " 1. An input layer.\n",
        " 1. A preprocessing layer, that will resize the input tensor from 124x129x1 to 32x32x1.\n",
        " 1. A 2D convolution layer with: 8 filters, a kernel size of 8x8, and stride of 2x2, and ReLU activation function.\n",
        " 1. A 2D max pooling layer with size of 2x2\n",
        " 1. A flatten layer to flatten the 2D data to 1D\n",
        " 1. A dropout layer, that will help reduce overfitting during training\n",
        " 1. A dense layer with 2 outputs and a softmax activation function, which outputs the likelihood of the sound category (between 0 and 1).\n"
      ]
    },
    {
      "cell_type": "markdown",
      "metadata": {
        "id": "pbTAU5yZA43R"
      },
      "source": [
        "Before we build the model using [Tensflow's Keras API's](https://www.tensorflow.org/api_docs/python/tf/keras), we will create normalization layer and feed in all the spectrogram dataset items."
      ]
    },
    {
      "cell_type": "code",
      "execution_count": null,
      "metadata": {
        "colab": {
          "background_save": true,
          "base_uri": "https://localhost:8080/"
        },
        "id": "fFLHe9y-iGmj",
        "outputId": "3a44bf82-bcc1-4d1e-cc32-a70d3fafad57"
      },
      "outputs": [
        {
          "name": "stdout",
          "output_type": "stream",
          "text": [
            "Input shape: (35, 129, 1)\n",
            "Norm Data Shape: (35, 129, 1)\n"
          ]
        }
      ],
      "source": [
        "#around 1min\n",
        "for spectrogram, _, _ in cached_ds.take(1):\n",
        "    input_shape = tf.expand_dims(spectrogram, axis=-1).shape\n",
        "    print('Input shape:', input_shape)\n",
        "    norm_data = tf.reshape(spectrogram, (input_shape[0], input_shape[1], 1))\n",
        "    print(\"Norm Data Shape:\", norm_data.shape)\n",
        "/home/kelu/projets/hfchainsaw/notebooks/template-audio.ipynb\n",
        "norm_layer = tf.keras.layers.Normalization()\n",
        "norm_layer.adapt(norm_data)"
      ]
    },
    {
      "cell_type": "markdown",
      "metadata": {
        "id": "W3N5rys9EF8B"
      },
      "source": [
        "Define a sequential 8 layer model as described above:"
      ]
    },
    {
      "cell_type": "code",
      "execution_count": null,
      "metadata": {
        "colab": {
          "background_save": true,
          "base_uri": "https://localhost:8080/"
        },
        "id": "XyO5ilzPPePi",
        "outputId": "864a9c3c-db01-40e6-f61f-8ac2424195cd"
      },
      "outputs": [
        {
          "name": "stdout",
          "output_type": "stream",
          "text": [
            "Model: \"sequential\"\n",
            "_________________________________________________________________\n",
            " Layer (type)                Output Shape              Param #   \n",
            "=================================================================\n",
            " resizing (Resizing)         (None, 1, 32, 1)          0         \n",
            "                                                                 \n",
            " flatten (Flatten)           (None, 32)                0         \n",
            "                                                                 \n",
            " dense (Dense)               (None, 16)                528       \n",
            "                                                                 \n",
            " dropout (Dropout)           (None, 16)                0         \n",
            "                                                                 \n",
            " dense_1 (Dense)             (None, 2)                 34        \n",
            "                                                                 \n",
            "=================================================================\n",
            "Total params: 562 (2.20 KB)\n",
            "Trainable params: 562 (2.20 KB)\n",
            "Non-trainable params: 0 (0.00 Byte)\n",
            "_________________________________________________________________\n"
          ]
        }
      ],
      "source": [
        "if os.path.isfile(f\"/content/drive/MyDrive/frugal/baseline_model_v11b_{spectrogram_setting}.keras\") and False:\n",
        "  print(\"Loading the \"+spectrogram_setting+\" model\")\n",
        "  baseline_model = tf.keras.models.load_model(f\"/content/drive/MyDrive/frugal/baseline_model_v11b_{spectrogram_setting}.keras\")\n",
        "else:\n",
        "  # baseline_model = tf.keras.models.Sequential([\n",
        "  # https://stackoverflow.com/questions/66879748/what-is-the-difference-between-tf-keras-model-and-tf-keras-sequential\n",
        "  baseline_model = tf.keras.models.Sequential([\n",
        "  tf.keras.layers.Input(shape=input_shape),\n",
        "  tf.keras.layers.Resizing(1, 32, interpolation=\"nearest\"),\n",
        "  #norm_layer,\n",
        "  #tf.keras.layers.Conv2D(8, kernel_size=(8,8), strides=(2, 2), activation=\"relu\"),\n",
        "  #tf.keras.layers.MaxPool2D(pool_size=(2,2)),\n",
        "  tf.keras.layers.Flatten(),\n",
        "  tf.keras.layers.Dense(16, activation='relu'),\n",
        "  tf.keras.layers.Dropout(0.25),\n",
        "  tf.keras.layers.Dense(2, activation='softmax')])\n",
        "\n",
        "baseline_model.summary()"
      ]
    },
    {
      "cell_type": "markdown",
      "metadata": {
        "id": "N4PgoMF8ENpu"
      },
      "source": [
        "Compile the model with `accuracy` metrics, an Adam optimizer and a sparse categorical crossentropy loss function. As well as define early stopping and dynamic learning rate scheduler callbacks for training."
      ]
    },
    {
      "cell_type": "code",
      "execution_count": null,
      "metadata": {
        "colab": {
          "background_save": true
        },
        "id": "8bDSOjniYBLF"
      },
      "outputs": [],
      "source": [
        "# Define metrics for model evaluation\n",
        "METRICS = [\n",
        "    \"accuracy\",\n",
        "]\n",
        "\n",
        "# Compile the model\n",
        "baseline_model.compile(\n",
        "    optimizer=tf.keras.optimizers.Adam(learning_rate=0.001),\n",
        "    loss=tf.keras.losses.SparseCategoricalCrossentropy(from_logits=False),\n",
        "    metrics=METRICS,\n",
        ")\n",
        "\n",
        "# Learning rate scheduler\n",
        "def scheduler(epoch, lr):\n",
        "    if epoch < 50:\n",
        "        return lr\n",
        "    else:\n",
        "        return lr * tf.math.exp(-0.1)\n",
        "\n",
        "# Define callbacks\n",
        "callbacks = [\n",
        "    tf.keras.callbacks.EarlyStopping(verbose=1, patience=25),\n",
        "    tf.keras.callbacks.LearningRateScheduler(scheduler),\n",
        "]"
      ]
    },
    {
      "cell_type": "markdown",
      "metadata": {
        "id": "FBUof7CcErKE"
      },
      "source": [
        "Train the model:"
      ]
    },
    {
      "cell_type": "code",
      "execution_count": null,
      "metadata": {
        "colab": {
          "base_uri": "https://localhost:8080/"
        },
        "collapsed": true,
        "id": "lqs-O9o8QV58",
        "outputId": "f80dbda6-9732-46af-fa34-352219dd8aae"
      },
      "outputs": [
        {
          "name": "stdout",
          "output_type": "stream",
          "text": [
            "Epoch 1/100\n",
            "     93/Unknown - 13s 133ms/step - loss: 0.6634 - accuracy: 0.5712"
          ]
        }
      ],
      "source": [
        "# Durée de training\n",
        "# 819samples x 32 == 150 then 6\n",
        "\n",
        "EPOCHS = 100\n",
        "\n",
        "history = baseline_model.fit(\n",
        "    train_ds.cache(),\n",
        "    validation_data=val_ds.cache(),\n",
        "    epochs=EPOCHS,\n",
        "    callbacks=callbacks\n",
        ")"
      ]
    },
    {
      "cell_type": "markdown",
      "metadata": {
        "id": "AjnfP2hCFB9z"
      },
      "source": [
        "Evaluate the loss and accuracy of the test dataset:"
      ]
    },
    {
      "cell_type": "code",
      "execution_count": null,
      "metadata": {
        "id": "EUkD7k3uZ-ZT"
      },
      "outputs": [],
      "source": [
        "from matplotlib import pyplot\n",
        "\n",
        "pyplot.plot(history.history['loss'], label='train')\n",
        "pyplot.plot(history.history['val_loss'], label='test')\n",
        "\n",
        "pyplot.plot(history.history['accuracy'], label='train')\n",
        "pyplot.plot(history.history['val_accuracy'], label='test')\n",
        "pyplot.legend()"
      ]
    },
    {
      "cell_type": "code",
      "execution_count": null,
      "metadata": {
        "id": "lE-Oi3wv4Ufh"
      },
      "outputs": [],
      "source": [
        "#Saves on drive\n",
        "baseline_model.save(f\"/content/drive/MyDrive/frugal/baseline_model_v11b_{spectrogram_setting}.h5.keras\",save_format=\"h5\")\n",
        "#Saves local machine\n",
        "baseline_model.save(f\"baseline_model_v11b_{spectrogram_setting}.keras\",save_format=\"h5\")\n",
        "\n",
        "!zip -r /content/drive/MyDrive/frugal/baseline_model_v11b_{spectrogram_setting}.h5.zip /content/drive/MyDrive/frugal/baseline_model_v11b_{spectrogram_setting}.h5.keras\n",
        "!zip -r baseline_model_v11b_{spectrogram_setting}.h5.zip baseline_model_v11b_{spectrogram_setting}.h5.keras\n",
        "\n",
        "#Saves on drive\n",
        "baseline_model.save(f\"/content/drive/MyDrive/frugal/baseline_model_v11b_{spectrogram_setting}.h5.keras\",save_format=\"h5\")\n",
        "#Saves local machine\n",
        "baseline_model.save(f\"baseline_model_v11b_{spectrogram_setting}.keras\",save_format=\"h5\")\n"
      ]
    },
    {
      "cell_type": "code",
      "execution_count": null,
      "metadata": {
        "id": "r4ADjoaU2eOH"
      },
      "outputs": [],
      "source": [
        "if 1:\n",
        "  #Saves on drive\n",
        "  baseline_model.save(f\"/content/drive/MyDrive/frugal/baseline_model_v11b_{spectrogram_setting}.keras\")\n",
        "  #Saves local machine\n",
        "  baseline_model.save(f\"baseline_model_v11b_{spectrogram_setting}.keras\")"
      ]
    },
    {
      "cell_type": "markdown",
      "metadata": {
        "id": "QFwcoW0j2Rcb"
      },
      "source": [
        "### Scoring the model"
      ]
    },
    {
      "cell_type": "code",
      "execution_count": null,
      "metadata": {
        "id": "5nZIG3tf4BPJ"
      },
      "outputs": [],
      "source": [
        "if os.path.isfile(f\"/content/drive/MyDrive/frugal/baseline_model_v11b_{spectrogram_setting}.keras\"):\n",
        "  print(\"Loading the \"+spectrogram_setting+\" model\")\n",
        "  baseline_model = tf.keras.models.load_model(f\"/content/drive/MyDrive/frugal/baseline_model_v11b_{spectrogram_setting}.keras\")"
      ]
    },
    {
      "cell_type": "code",
      "execution_count": null,
      "metadata": {
        "id": "3L_Ry2C_4Tdp"
      },
      "outputs": [],
      "source": [
        "# Evaluation on CPU for take 20 is around TOOLONG s (12s/step - becoming 40s/step)\n",
        "# Eval on CPU for take(1) is 16\n",
        "weights = baseline_model.weights\n",
        "score_baselinemodel = baseline_model.evaluate(test_ds.take(20).cache())\n",
        "score = {\"model\": \"baseline_model_v11b_\"+spectrogram_setting, \"loss\":score_baselinemodel[0], \"accuracy\":score_baselinemodel[1]}\n",
        "with open(f\"/content/drive/MyDrive/frugal/baseline_model_v11b_{spectrogram_setting}.score.json\", \"w\") as j:\n",
        "  j.write(json.dumps(score))\n",
        "score"
      ]
    },
    {
      "cell_type": "markdown",
      "metadata": {
        "id": "otp8XRvgC81Q"
      },
      "source": [
        "# Raw testing"
      ]
    },
    {
      "cell_type": "code",
      "execution_count": null,
      "metadata": {
        "id": "0w3GvjcJptYU"
      },
      "outputs": [],
      "source": [
        "import numpy as np\n",
        "\n",
        "# Generate predictions\n",
        "predictions = baseline_model.predict(test_ds.take(50))\n",
        "\n",
        "# Convert probabilities to class labels\n",
        "# Assuming the model has 2 output neurons (binary classification)\n",
        "predicted_labels = np.argmax(predictions, axis=1)\n",
        "\n",
        "# Print the predicted labels\n",
        "print(\"Predicted labels for the test set:\")\n",
        "print(predicted_labels)\n"
      ]
    },
    {
      "cell_type": "markdown",
      "metadata": {
        "id": "8HW-PdaT5Fx0"
      },
      "source": [
        "# Model optim for pic0\n",
        "\n",
        "## Model Optimization\n",
        "\n",
        "To optimize the model to run on the Arm Cortex-M0+ processor, we will use a process called model quantization. Model quantization converts the model’s weights and biases from 32-bit floating-point values to 8-bit values. The [pico-tflmicro](https://github.com/raspberrypi/pico-tflmicro) library, which is a port of TFLu for the RP2040’s Pico SDK contains Arm’s CMSIS-NN library, which supports optimized kernel operations for quantized 8-bit weights on Arm Cortex-M processors.\n",
        "\n",
        "**Beware** of course this model should be based on the pico's arm's spectrogram, of course.\n"
      ]
    },
    {
      "cell_type": "markdown",
      "metadata": {
        "id": "2HRVOG9-5JsE"
      },
      "source": [
        "### Quantization Aware Training\n",
        "\n",
        "We can use [TensorFlow’s Quantization Aware Training (QAT)](https://www.tensorflow.org/model_optimization/guide/quantization/training) feature to easily convert the floating-point model to quantized."
      ]
    },
    {
      "cell_type": "code",
      "execution_count": null,
      "metadata": {
        "id": "XyWDswSD5PKF"
      },
      "outputs": [],
      "source": [
        "import tensorflow_model_optimization as tfmot\n",
        "\n",
        "if os.path.isfile(f\"/content/drive/MyDrive/frugal/quant_aware_model_v11b_{spectrogram_setting}_QAT.keras\") and False:\n",
        "  # We load an existing quantified model\n",
        "  print(\"Loading a model from\",f\"/content/drive/MyDrive/frugal/quant_aware_model_v11b_{spectrogram_setting}_QAT.keras\")\n",
        "  quant_aware_model = tf.keras.models.load_model(f\"/content/drive/MyDrive/frugal/quant_aware_model_v11b_{spectrogram_setting}_QAT.keras\")\n",
        "else:\n",
        "  # We load the non quant'ed model to process it\n",
        "  final_model = tf.keras.models.load_model(f\"/content/drive/MyDrive/frugal/baseline_model_v11b_{spectrogram_setting}.keras\")\n",
        "  supported_layers = [tf.keras.layers.Conv2D, tf.keras.layers.Dense, tf.keras.layers.ReLU]\n",
        "\n",
        "  def apply_quantization_to_dense(layer):\n",
        "    for supported_layer in supported_layers:\n",
        "      if isinstance(layer, tf.keras.layers.Dense):\n",
        "        return tfmot.quantization.keras.quantize_annotate_layer(layer)\n",
        "    return layer\n",
        "\n",
        "  def apply_qat_to_dense_and_cnn(layer):\n",
        "    if isinstance(layer, (tf.keras.layers.Dense, tf.keras.layers.Conv2D)):\n",
        "      return tfmot.quantization.keras.quantize_annotate_layer(layer)\n",
        "    return layer\n",
        "\n",
        "  annotated_model = tf.keras.models.clone_model(\n",
        "      final_model,\n",
        "      clone_function=apply_qat_to_dense_and_cnn,\n",
        "  )\n",
        "\n",
        "  quant_aware_model = tfmot.quantization.keras.quantize_apply(annotated_model)\n",
        "\n",
        "quant_aware_model.summary()"
      ]
    },
    {
      "cell_type": "code",
      "execution_count": null,
      "metadata": {
        "id": "jmHPDwpI5g29"
      },
      "outputs": [],
      "source": [
        "quant_aware_model.compile(\n",
        "    optimizer=tf.keras.optimizers.Adam(learning_rate=0.001),\n",
        "    loss=tf.keras.losses.SparseCategoricalCrossentropy(from_logits=False),\n",
        "    metrics=METRICS,\n",
        ")"
      ]
    },
    {
      "cell_type": "code",
      "execution_count": null,
      "metadata": {
        "id": "-sfg63y4WcG1"
      },
      "outputs": [],
      "source": [
        "EPOCHS=40 # Takes less than a min on v28\n",
        "quant_aware_history = quant_aware_model.fit(\n",
        "    train_ds.cache(),\n",
        "    validation_data=val_ds.cache(),\n",
        "    epochs=EPOCHS\n",
        ")"
      ]
    },
    {
      "cell_type": "code",
      "execution_count": null,
      "metadata": {
        "id": "T-Xxu3iFrYAn"
      },
      "outputs": [],
      "source": [
        "from matplotlib import pyplot\n",
        "\n",
        "pyplot.plot(quant_aware_history.history['loss'], label='train')\n",
        "pyplot.plot(quant_aware_history.history['val_loss'], label='test')\n",
        "\n",
        "pyplot.plot(quant_aware_history.history['accuracy'], label='train')\n",
        "pyplot.plot(quant_aware_history.history['val_accuracy'], label='test')"
      ]
    },
    {
      "cell_type": "code",
      "execution_count": null,
      "metadata": {
        "id": "ATxvjZXk-cdU"
      },
      "outputs": [],
      "source": [
        "#Saves on drive\n",
        "quant_aware_model.save(f\"/content/drive/MyDrive/frugal/quant_aware_model_v11b_{spectrogram_setting}_QAT.keras\")\n",
        "#Saves local machine\n",
        "quant_aware_model.save(f\"quant_aware_model_v11b_{spectrogram_setting}_QAT.keras\")\n",
        "\n",
        "!zip -r /content/drive/MyDrive/frugal/quant_aware_model_v11b_{spectrogram_setting}_QAT.zip /content/drive/MyDrive/frugal/quant_aware_model_v11b_{spectrogram_setting}_QAT.keras\n",
        "!zip -r quant_aware_model_v11b_{spectrogram_setting}_QAT.zip quant_aware_model_v11b_{spectrogram_setting}_QAT.keras\n",
        "\n",
        "#Saves on drive\n",
        "quant_aware_model.save(f\"/content/drive/MyDrive/frugal/quant_aware_model_v11b_{spectrogram_setting}_QAT.keras\")\n",
        "#Saves local machine\n",
        "quant_aware_model.save(f\"quant_aware_model_v11b_{spectrogram_setting}_QAT.keras\")\n"
      ]
    },
    {
      "cell_type": "code",
      "execution_count": null,
      "metadata": {
        "id": "z4ZgfQJa4ijT"
      },
      "outputs": [],
      "source": [
        "# Eval on CPU for take(1) is 110ms fot QAT\n",
        "score_QATmodel = quant_aware_model.evaluate(test_ds.cache())\n",
        "score = {\"model\": \"baseline_model_v11b_\"+spectrogram_setting, \"loss\":score_QATmodel[0], \"accuracy\":score_QATmodel[1]}\n",
        "with open(f\"/content/drive/MyDrive/frugal/quant_aware_model_v11b_{spectrogram_setting}.score.json\", \"w\") as j:\n",
        "  j.write(json.dumps(score))\n",
        "score"
      ]
    },
    {
      "cell_type": "markdown",
      "metadata": {
        "id": "rINV6dEU5sqp"
      },
      "source": [
        "### Saving model in TFLite format\n",
        "\n",
        "We will now use the [tf.lite.TFLiteConverter.from_keras_model(...)](https://www.tensorflow.org/api_docs/python/tf/lite/TFLiteConverter#from_keras_model) API to convert the quantized Keras model to TF Lite format, and then save it to disk as a `.tflite` file."
      ]
    },
    {
      "cell_type": "code",
      "execution_count": null,
      "metadata": {
        "id": "rRuuJi145r8r"
      },
      "outputs": [],
      "source": [
        "converter = tf.lite.TFLiteConverter.from_keras_model(quant_aware_model)\n",
        "converter.optimizations = [tf.lite.Optimize.DEFAULT]\n",
        "\n",
        "def representative_data_gen():\n",
        "  for input_value, output_value in train_ds.unbatch().batch(1).take(100):\n",
        "    # Model has only one input so each data point has one element.\n",
        "    yield [input_value]\n",
        "\n",
        "converter.representative_dataset = representative_data_gen\n",
        "# Ensure that if any ops can't be quantized, the converter throws an error\n",
        "def remove_fold_column(spectrogram, label, fold):\n",
        "    spectrogram = tf.expand_dims(spectrogram, axis=-1)\n",
        "    print(\"The spectrogram Shape\", spectrogram.shape)\n",
        "    spectrogram.set_shape([280, 129, 1])\n",
        "    return spectrogram, label\n",
        "\n",
        "converter.target_spec.supported_ops = [tf.lite.OpsSet.TFLITE_BUILTINS_INT8]\n",
        "# Set the input and output tensors to uint8 (APIs added in r2.3)\n",
        "converter.inference_input_type = tf.int8\n",
        "converter.inference_output_type = tf.int8\n",
        "tflite_model_quant = converter.convert()\n",
        "\n",
        "tflite = f\"/content/drive/MyDrive/frugal/tflite_model_v11b_{spectrogram_setting}.tflite\"\n",
        "with open(tflite, \"wb\") as f:\n",
        "  f.write(tflite_model_quant)"
      ]
    },
    {
      "cell_type": "code",
      "execution_count": null,
      "metadata": {
        "id": "bP7M0ODr8XK4"
      },
      "outputs": [],
      "source": [
        "tflite = f\"tflite_model_v11b_{spectrogram_setting}.tflite\"\n",
        "with open(tflite, \"wb\") as f:\n",
        "  f.write(tflite_model_quant)"
      ]
    },
    {
      "cell_type": "code",
      "execution_count": null,
      "metadata": {
        "id": "h9ncMf6YQMW6"
      },
      "outputs": [],
      "source": [
        "os.path.isfile(tflite)"
      ]
    },
    {
      "cell_type": "code",
      "execution_count": null,
      "metadata": {
        "id": "4kHJ0VEOGYO-"
      },
      "outputs": [],
      "source": [
        "!echo \"alignas(8) const unsigned char tflite_model[] = {\" > /content/drive/MyDrive/frugal/tflite_v11b_{spectrogram_setting}_model.h\n",
        "!cat /content/drive/MyDrive/frugal/tflite_model_v11b_{spectrogram_setting}.tflite | xxd -i                        >> /content/drive/MyDrive/frugal/tflite_v11b_{spectrogram_setting}_model.h\n",
        "!echo \"};\"                                               >> /content/drive/MyDrive/frugal/tflite_v11b_{spectrogram_setting}_model.h\n",
        "\n",
        "!echo \"alignas(8) const unsigned char tflite_model[] = {\" > tflite_model_v11b.h\n",
        "!cat /content/drive/MyDrive/frugal/tflite_model_v11b_{spectrogram_setting}.tflite | xxd -i                        >> tflite_model_v11b.h\n",
        "!echo \"};\"                                               >> tflite_model_v11b.h"
      ]
    },
    {
      "cell_type": "markdown",
      "metadata": {
        "id": "StbdFxpk6D_8"
      },
      "source": [
        "### Test TF Lite model\n",
        "\n",
        "Since TensorFlow also supports loading TF Lite models using [`tensorflow.lite`](https://www.tensorflow.org/api_docs/python/tf/lite), we can also verify the functionality of the quantized model and compare its accuracy with the regular unquantized model inside the notebook."
      ]
    },
    {
      "cell_type": "code",
      "execution_count": null,
      "metadata": {
        "id": "qZkEUTBr6Hd-"
      },
      "outputs": [],
      "source": [
        "import tensorflow.lite as tflite\n",
        "\n",
        "print( f\"Loading /content/drive/MyDrive/frugal/tflite_model_v11b_{spectrogram_setting}.tflite\")\n",
        "# Load the interpreter and allocate tensors\n",
        "interpreter = tflite.Interpreter( f\"/content/drive/MyDrive/frugal/tflite_model_v11b_{spectrogram_setting}.tflite\")\n",
        "interpreter.allocate_tensors()\n",
        "\n",
        "# Load input and output details\n",
        "input_details = interpreter.get_input_details()[0]\n",
        "output_details = interpreter.get_output_details()[0]\n",
        "\n",
        "# Set quantization values\n",
        "input_scale, input_zero_point = input_details[\"quantization\"]\n",
        "output_scale, output_zero_point = output_details[\"quantization\"]"
      ]
    },
    {
      "cell_type": "code",
      "execution_count": null,
      "metadata": {
        "id": "nTaHXE716yZO"
      },
      "outputs": [],
      "source": [
        "DoTests = True"
      ]
    },
    {
      "cell_type": "code",
      "execution_count": null,
      "metadata": {
        "id": "yLw9Yy7w6bwy"
      },
      "outputs": [],
      "source": [
        "if DoTests:# Calculate the number of correct predictions\n",
        "  correct = 0\n",
        "  test_ds_len = 0\n",
        "\n",
        "  # Loop through a part of the test set\n",
        "  # For a take(100) it takes xx seconds on a T4 machine.\n",
        "  for x, y in  test_ds.cache().unbatch():\n",
        "    # original tdrishape is [124, 129, 1] expand to [1, 124, 129, 1]\n",
        "    x = tf.expand_dims(x, 0).numpy()\n",
        "    #if not test_ds_len%10:\n",
        "    #  print(test_ds_len)\n",
        "    # quantize the input value\n",
        "    if (input_scale, input_zero_point) != (0, 0):\n",
        "      x = x / input_scale + input_zero_point\n",
        "\n",
        "    X = np.float32(x)\n",
        "    X = X.astype(input_details['dtype'])\n",
        "\n",
        "    try:\n",
        "      # add the input tensor to interpreter\n",
        "      interpreter.set_tensor(input_details[\"index\"], X)\n",
        "\n",
        "      #run the model\n",
        "      interpreter.invoke()\n",
        "\n",
        "      # Get output data from model and convert to fp32\n",
        "      output_data = interpreter.get_tensor(output_details[\"index\"])\n",
        "      output_data = output_data.astype(np.float32)\n",
        "\n",
        "      # Dequantize the output\n",
        "      if (output_scale, output_zero_point) != (0.0, 0):\n",
        "        output_data = (output_data - output_zero_point) * output_scale\n",
        "\n",
        "      # convert output to category\n",
        "      if output_data[0][0] >= 0.5:\n",
        "        category = 0\n",
        "      else:\n",
        "        category = 1\n",
        "\n",
        "      # add 1 if category = y\n",
        "      correct += 1 if category == y.numpy() else 0\n",
        "\n",
        "      test_ds_len += 1\n",
        "    except:\n",
        "      pass\n",
        "\n",
        "  #   break"
      ]
    },
    {
      "cell_type": "code",
      "execution_count": null,
      "metadata": {
        "id": "R38f75_p61se"
      },
      "outputs": [],
      "source": [
        "if DoTests:\n",
        "  accuracy = correct / test_ds_len\n",
        "  print(f\"Accuracy for quantized model is {accuracy*100:.2f}% (to 2 D.P) on test set.\")"
      ]
    },
    {
      "cell_type": "code",
      "execution_count": null,
      "metadata": {
        "id": "HXdZv6usW5Dr"
      },
      "outputs": [],
      "source": [
        "# PIP FREEZE\n",
        "!pip freeze > /content/drive/MyDrive/frugal/requirements.txt\n",
        "!pip freeze > requirements.txt"
      ]
    }
  ],
  "metadata": {
    "accelerator": "TPU",
    "colab": {
      "gpuType": "V28",
      "provenance": []
    },
    "kernelspec": {
      "display_name": "Python 3",
      "name": "python3"
    },
    "language_info": {
      "name": "python"
    },
    "widgets": {
      "application/vnd.jupyter.widget-state+json": {
        "1a8e5e7f039e46608f18ea2a9b759ad3": {
          "model_module": "@jupyter-widgets/base",
          "model_module_version": "1.2.0",
          "model_name": "LayoutModel",
          "state": {
            "_model_module": "@jupyter-widgets/base",
            "_model_module_version": "1.2.0",
            "_model_name": "LayoutModel",
            "_view_count": null,
            "_view_module": "@jupyter-widgets/base",
            "_view_module_version": "1.2.0",
            "_view_name": "LayoutView",
            "align_content": null,
            "align_items": null,
            "align_self": null,
            "border": null,
            "bottom": null,
            "display": null,
            "flex": null,
            "flex_flow": null,
            "grid_area": null,
            "grid_auto_columns": null,
            "grid_auto_flow": null,
            "grid_auto_rows": null,
            "grid_column": null,
            "grid_gap": null,
            "grid_row": null,
            "grid_template_areas": null,
            "grid_template_columns": null,
            "grid_template_rows": null,
            "height": null,
            "justify_content": null,
            "justify_items": null,
            "left": null,
            "margin": null,
            "max_height": null,
            "max_width": null,
            "min_height": null,
            "min_width": null,
            "object_fit": null,
            "object_position": null,
            "order": null,
            "overflow": null,
            "overflow_x": null,
            "overflow_y": null,
            "padding": null,
            "right": null,
            "top": null,
            "visibility": null,
            "width": null
          }
        },
        "24d5066fc7d34ad19a87a206d12f9aca": {
          "model_module": "@jupyter-widgets/base",
          "model_module_version": "1.2.0",
          "model_name": "LayoutModel",
          "state": {
            "_model_module": "@jupyter-widgets/base",
            "_model_module_version": "1.2.0",
            "_model_name": "LayoutModel",
            "_view_count": null,
            "_view_module": "@jupyter-widgets/base",
            "_view_module_version": "1.2.0",
            "_view_name": "LayoutView",
            "align_content": null,
            "align_items": null,
            "align_self": null,
            "border": null,
            "bottom": null,
            "display": null,
            "flex": null,
            "flex_flow": null,
            "grid_area": null,
            "grid_auto_columns": null,
            "grid_auto_flow": null,
            "grid_auto_rows": null,
            "grid_column": null,
            "grid_gap": null,
            "grid_row": null,
            "grid_template_areas": null,
            "grid_template_columns": null,
            "grid_template_rows": null,
            "height": null,
            "justify_content": null,
            "justify_items": null,
            "left": null,
            "margin": null,
            "max_height": null,
            "max_width": null,
            "min_height": null,
            "min_width": null,
            "object_fit": null,
            "object_position": null,
            "order": null,
            "overflow": null,
            "overflow_x": null,
            "overflow_y": null,
            "padding": null,
            "right": null,
            "top": null,
            "visibility": null,
            "width": null
          }
        },
        "2893f92b173346209dbf8db283b2e8d0": {
          "model_module": "@jupyter-widgets/controls",
          "model_module_version": "1.5.0",
          "model_name": "HTMLModel",
          "state": {
            "_dom_classes": [],
            "_model_module": "@jupyter-widgets/controls",
            "_model_module_version": "1.5.0",
            "_model_name": "HTMLModel",
            "_view_count": null,
            "_view_module": "@jupyter-widgets/controls",
            "_view_module_version": "1.5.0",
            "_view_name": "HTMLView",
            "description": "",
            "description_tooltip": null,
            "layout": "IPY_MODEL_1a8e5e7f039e46608f18ea2a9b759ad3",
            "placeholder": "​",
            "style": "IPY_MODEL_efc2c9ca8494440bb73381fc8cf812ee",
            "value": "Generating train split:  33%"
          }
        },
        "349a4e47112749f8bf8b51cca2fa1f6a": {
          "model_module": "@jupyter-widgets/base",
          "model_module_version": "1.2.0",
          "model_name": "LayoutModel",
          "state": {
            "_model_module": "@jupyter-widgets/base",
            "_model_module_version": "1.2.0",
            "_model_name": "LayoutModel",
            "_view_count": null,
            "_view_module": "@jupyter-widgets/base",
            "_view_module_version": "1.2.0",
            "_view_name": "LayoutView",
            "align_content": null,
            "align_items": null,
            "align_self": null,
            "border": null,
            "bottom": null,
            "display": null,
            "flex": null,
            "flex_flow": null,
            "grid_area": null,
            "grid_auto_columns": null,
            "grid_auto_flow": null,
            "grid_auto_rows": null,
            "grid_column": null,
            "grid_gap": null,
            "grid_row": null,
            "grid_template_areas": null,
            "grid_template_columns": null,
            "grid_template_rows": null,
            "height": null,
            "justify_content": null,
            "justify_items": null,
            "left": null,
            "margin": null,
            "max_height": null,
            "max_width": null,
            "min_height": null,
            "min_width": null,
            "object_fit": null,
            "object_position": null,
            "order": null,
            "overflow": null,
            "overflow_x": null,
            "overflow_y": null,
            "padding": null,
            "right": null,
            "top": null,
            "visibility": null,
            "width": null
          }
        },
        "3aec8ea2cb16437596fe58a3b984201d": {
          "model_module": "@jupyter-widgets/controls",
          "model_module_version": "1.5.0",
          "model_name": "DescriptionStyleModel",
          "state": {
            "_model_module": "@jupyter-widgets/controls",
            "_model_module_version": "1.5.0",
            "_model_name": "DescriptionStyleModel",
            "_view_count": null,
            "_view_module": "@jupyter-widgets/base",
            "_view_module_version": "1.2.0",
            "_view_name": "StyleView",
            "description_width": ""
          }
        },
        "4e4eac5327b74c67b5d6f01c21cbb933": {
          "model_module": "@jupyter-widgets/controls",
          "model_module_version": "1.5.0",
          "model_name": "DescriptionStyleModel",
          "state": {
            "_model_module": "@jupyter-widgets/controls",
            "_model_module_version": "1.5.0",
            "_model_name": "DescriptionStyleModel",
            "_view_count": null,
            "_view_module": "@jupyter-widgets/base",
            "_view_module_version": "1.2.0",
            "_view_name": "StyleView",
            "description_width": ""
          }
        },
        "55ae09777bcb4a9090cdb13c4cd2aaf1": {
          "model_module": "@jupyter-widgets/controls",
          "model_module_version": "1.5.0",
          "model_name": "HTMLModel",
          "state": {
            "_dom_classes": [],
            "_model_module": "@jupyter-widgets/controls",
            "_model_module_version": "1.5.0",
            "_model_name": "HTMLModel",
            "_view_count": null,
            "_view_module": "@jupyter-widgets/controls",
            "_view_module_version": "1.5.0",
            "_view_name": "HTMLView",
            "description": "",
            "description_tooltip": null,
            "layout": "IPY_MODEL_7c797dbea28542caab1af2092908ed1e",
            "placeholder": "​",
            "style": "IPY_MODEL_847321d8d1ea4a89acefb76524ccc916",
            "value": " 11500/35277 [00:01&lt;00:01, 13002.66 examples/s]"
          }
        },
        "5ce9b2e55b4d41a3a828a629e8cd1e66": {
          "model_module": "@jupyter-widgets/base",
          "model_module_version": "1.2.0",
          "model_name": "LayoutModel",
          "state": {
            "_model_module": "@jupyter-widgets/base",
            "_model_module_version": "1.2.0",
            "_model_name": "LayoutModel",
            "_view_count": null,
            "_view_module": "@jupyter-widgets/base",
            "_view_module_version": "1.2.0",
            "_view_name": "LayoutView",
            "align_content": null,
            "align_items": null,
            "align_self": null,
            "border": null,
            "bottom": null,
            "display": null,
            "flex": null,
            "flex_flow": null,
            "grid_area": null,
            "grid_auto_columns": null,
            "grid_auto_flow": null,
            "grid_auto_rows": null,
            "grid_column": null,
            "grid_gap": null,
            "grid_row": null,
            "grid_template_areas": null,
            "grid_template_columns": null,
            "grid_template_rows": null,
            "height": null,
            "justify_content": null,
            "justify_items": null,
            "left": null,
            "margin": null,
            "max_height": null,
            "max_width": null,
            "min_height": null,
            "min_width": null,
            "object_fit": null,
            "object_position": null,
            "order": null,
            "overflow": null,
            "overflow_x": null,
            "overflow_y": null,
            "padding": null,
            "right": null,
            "top": null,
            "visibility": null,
            "width": null
          }
        },
        "7abd3d3807424a91acb9fc72e3609211": {
          "model_module": "@jupyter-widgets/controls",
          "model_module_version": "1.5.0",
          "model_name": "FloatProgressModel",
          "state": {
            "_dom_classes": [],
            "_model_module": "@jupyter-widgets/controls",
            "_model_module_version": "1.5.0",
            "_model_name": "FloatProgressModel",
            "_view_count": null,
            "_view_module": "@jupyter-widgets/controls",
            "_view_module_version": "1.5.0",
            "_view_name": "ProgressView",
            "bar_style": "",
            "description": "",
            "description_tooltip": null,
            "layout": "IPY_MODEL_d82b2a5da4a147ce812181816f103847",
            "max": 35277,
            "min": 0,
            "orientation": "horizontal",
            "style": "IPY_MODEL_92b5553aa024424983f1bee99158dd74",
            "value": 11500
          }
        },
        "7c797dbea28542caab1af2092908ed1e": {
          "model_module": "@jupyter-widgets/base",
          "model_module_version": "1.2.0",
          "model_name": "LayoutModel",
          "state": {
            "_model_module": "@jupyter-widgets/base",
            "_model_module_version": "1.2.0",
            "_model_name": "LayoutModel",
            "_view_count": null,
            "_view_module": "@jupyter-widgets/base",
            "_view_module_version": "1.2.0",
            "_view_name": "LayoutView",
            "align_content": null,
            "align_items": null,
            "align_self": null,
            "border": null,
            "bottom": null,
            "display": null,
            "flex": null,
            "flex_flow": null,
            "grid_area": null,
            "grid_auto_columns": null,
            "grid_auto_flow": null,
            "grid_auto_rows": null,
            "grid_column": null,
            "grid_gap": null,
            "grid_row": null,
            "grid_template_areas": null,
            "grid_template_columns": null,
            "grid_template_rows": null,
            "height": null,
            "justify_content": null,
            "justify_items": null,
            "left": null,
            "margin": null,
            "max_height": null,
            "max_width": null,
            "min_height": null,
            "min_width": null,
            "object_fit": null,
            "object_position": null,
            "order": null,
            "overflow": null,
            "overflow_x": null,
            "overflow_y": null,
            "padding": null,
            "right": null,
            "top": null,
            "visibility": null,
            "width": null
          }
        },
        "847321d8d1ea4a89acefb76524ccc916": {
          "model_module": "@jupyter-widgets/controls",
          "model_module_version": "1.5.0",
          "model_name": "DescriptionStyleModel",
          "state": {
            "_model_module": "@jupyter-widgets/controls",
            "_model_module_version": "1.5.0",
            "_model_name": "DescriptionStyleModel",
            "_view_count": null,
            "_view_module": "@jupyter-widgets/base",
            "_view_module_version": "1.2.0",
            "_view_name": "StyleView",
            "description_width": ""
          }
        },
        "92b5553aa024424983f1bee99158dd74": {
          "model_module": "@jupyter-widgets/controls",
          "model_module_version": "1.5.0",
          "model_name": "ProgressStyleModel",
          "state": {
            "_model_module": "@jupyter-widgets/controls",
            "_model_module_version": "1.5.0",
            "_model_name": "ProgressStyleModel",
            "_view_count": null,
            "_view_module": "@jupyter-widgets/base",
            "_view_module_version": "1.2.0",
            "_view_name": "StyleView",
            "bar_color": null,
            "description_width": ""
          }
        },
        "9dec3620934f4759844a50675bd02091": {
          "model_module": "@jupyter-widgets/controls",
          "model_module_version": "1.5.0",
          "model_name": "HTMLModel",
          "state": {
            "_dom_classes": [],
            "_model_module": "@jupyter-widgets/controls",
            "_model_module_version": "1.5.0",
            "_model_name": "HTMLModel",
            "_view_count": null,
            "_view_module": "@jupyter-widgets/controls",
            "_view_module_version": "1.5.0",
            "_view_name": "HTMLView",
            "description": "",
            "description_tooltip": null,
            "layout": "IPY_MODEL_349a4e47112749f8bf8b51cca2fa1f6a",
            "placeholder": "​",
            "style": "IPY_MODEL_3aec8ea2cb16437596fe58a3b984201d",
            "value": "README.md: 100%"
          }
        },
        "b07c219aaecc455387eb907141c33120": {
          "model_module": "@jupyter-widgets/controls",
          "model_module_version": "1.5.0",
          "model_name": "HBoxModel",
          "state": {
            "_dom_classes": [],
            "_model_module": "@jupyter-widgets/controls",
            "_model_module_version": "1.5.0",
            "_model_name": "HBoxModel",
            "_view_count": null,
            "_view_module": "@jupyter-widgets/controls",
            "_view_module_version": "1.5.0",
            "_view_name": "HBoxView",
            "box_style": "",
            "children": [
              "IPY_MODEL_2893f92b173346209dbf8db283b2e8d0",
              "IPY_MODEL_7abd3d3807424a91acb9fc72e3609211",
              "IPY_MODEL_55ae09777bcb4a9090cdb13c4cd2aaf1"
            ],
            "layout": "IPY_MODEL_5ce9b2e55b4d41a3a828a629e8cd1e66"
          }
        },
        "b2a7392bd2904b5bb917384a33ea246d": {
          "model_module": "@jupyter-widgets/controls",
          "model_module_version": "1.5.0",
          "model_name": "HTMLModel",
          "state": {
            "_dom_classes": [],
            "_model_module": "@jupyter-widgets/controls",
            "_model_module_version": "1.5.0",
            "_model_name": "HTMLModel",
            "_view_count": null,
            "_view_module": "@jupyter-widgets/controls",
            "_view_module_version": "1.5.0",
            "_view_name": "HTMLView",
            "description": "",
            "description_tooltip": null,
            "layout": "IPY_MODEL_24d5066fc7d34ad19a87a206d12f9aca",
            "placeholder": "​",
            "style": "IPY_MODEL_4e4eac5327b74c67b5d6f01c21cbb933",
            "value": " 4.42k/4.42k [00:00&lt;00:00, 398kB/s]"
          }
        },
        "b4122fa1a95749a9b470e6fe93e0ab8a": {
          "model_module": "@jupyter-widgets/base",
          "model_module_version": "1.2.0",
          "model_name": "LayoutModel",
          "state": {
            "_model_module": "@jupyter-widgets/base",
            "_model_module_version": "1.2.0",
            "_model_name": "LayoutModel",
            "_view_count": null,
            "_view_module": "@jupyter-widgets/base",
            "_view_module_version": "1.2.0",
            "_view_name": "LayoutView",
            "align_content": null,
            "align_items": null,
            "align_self": null,
            "border": null,
            "bottom": null,
            "display": null,
            "flex": null,
            "flex_flow": null,
            "grid_area": null,
            "grid_auto_columns": null,
            "grid_auto_flow": null,
            "grid_auto_rows": null,
            "grid_column": null,
            "grid_gap": null,
            "grid_row": null,
            "grid_template_areas": null,
            "grid_template_columns": null,
            "grid_template_rows": null,
            "height": null,
            "justify_content": null,
            "justify_items": null,
            "left": null,
            "margin": null,
            "max_height": null,
            "max_width": null,
            "min_height": null,
            "min_width": null,
            "object_fit": null,
            "object_position": null,
            "order": null,
            "overflow": null,
            "overflow_x": null,
            "overflow_y": null,
            "padding": null,
            "right": null,
            "top": null,
            "visibility": null,
            "width": null
          }
        },
        "b9e44a370eac4bc3abec9c9aa4a74dfa": {
          "model_module": "@jupyter-widgets/controls",
          "model_module_version": "1.5.0",
          "model_name": "FloatProgressModel",
          "state": {
            "_dom_classes": [],
            "_model_module": "@jupyter-widgets/controls",
            "_model_module_version": "1.5.0",
            "_model_name": "FloatProgressModel",
            "_view_count": null,
            "_view_module": "@jupyter-widgets/controls",
            "_view_module_version": "1.5.0",
            "_view_name": "ProgressView",
            "bar_style": "success",
            "description": "",
            "description_tooltip": null,
            "layout": "IPY_MODEL_b4122fa1a95749a9b470e6fe93e0ab8a",
            "max": 4423,
            "min": 0,
            "orientation": "horizontal",
            "style": "IPY_MODEL_e5f609d97758439c81d72c438f45ee58",
            "value": 4423
          }
        },
        "bbbd748785a04090bb720052c2796633": {
          "model_module": "@jupyter-widgets/base",
          "model_module_version": "1.2.0",
          "model_name": "LayoutModel",
          "state": {
            "_model_module": "@jupyter-widgets/base",
            "_model_module_version": "1.2.0",
            "_model_name": "LayoutModel",
            "_view_count": null,
            "_view_module": "@jupyter-widgets/base",
            "_view_module_version": "1.2.0",
            "_view_name": "LayoutView",
            "align_content": null,
            "align_items": null,
            "align_self": null,
            "border": null,
            "bottom": null,
            "display": null,
            "flex": null,
            "flex_flow": null,
            "grid_area": null,
            "grid_auto_columns": null,
            "grid_auto_flow": null,
            "grid_auto_rows": null,
            "grid_column": null,
            "grid_gap": null,
            "grid_row": null,
            "grid_template_areas": null,
            "grid_template_columns": null,
            "grid_template_rows": null,
            "height": null,
            "justify_content": null,
            "justify_items": null,
            "left": null,
            "margin": null,
            "max_height": null,
            "max_width": null,
            "min_height": null,
            "min_width": null,
            "object_fit": null,
            "object_position": null,
            "order": null,
            "overflow": null,
            "overflow_x": null,
            "overflow_y": null,
            "padding": null,
            "right": null,
            "top": null,
            "visibility": null,
            "width": null
          }
        },
        "c620f8bf3c4f47c9a47c8aaf72df599c": {
          "model_module": "@jupyter-widgets/controls",
          "model_module_version": "1.5.0",
          "model_name": "HBoxModel",
          "state": {
            "_dom_classes": [],
            "_model_module": "@jupyter-widgets/controls",
            "_model_module_version": "1.5.0",
            "_model_name": "HBoxModel",
            "_view_count": null,
            "_view_module": "@jupyter-widgets/controls",
            "_view_module_version": "1.5.0",
            "_view_name": "HBoxView",
            "box_style": "",
            "children": [
              "IPY_MODEL_9dec3620934f4759844a50675bd02091",
              "IPY_MODEL_b9e44a370eac4bc3abec9c9aa4a74dfa",
              "IPY_MODEL_b2a7392bd2904b5bb917384a33ea246d"
            ],
            "layout": "IPY_MODEL_bbbd748785a04090bb720052c2796633"
          }
        },
        "d82b2a5da4a147ce812181816f103847": {
          "model_module": "@jupyter-widgets/base",
          "model_module_version": "1.2.0",
          "model_name": "LayoutModel",
          "state": {
            "_model_module": "@jupyter-widgets/base",
            "_model_module_version": "1.2.0",
            "_model_name": "LayoutModel",
            "_view_count": null,
            "_view_module": "@jupyter-widgets/base",
            "_view_module_version": "1.2.0",
            "_view_name": "LayoutView",
            "align_content": null,
            "align_items": null,
            "align_self": null,
            "border": null,
            "bottom": null,
            "display": null,
            "flex": null,
            "flex_flow": null,
            "grid_area": null,
            "grid_auto_columns": null,
            "grid_auto_flow": null,
            "grid_auto_rows": null,
            "grid_column": null,
            "grid_gap": null,
            "grid_row": null,
            "grid_template_areas": null,
            "grid_template_columns": null,
            "grid_template_rows": null,
            "height": null,
            "justify_content": null,
            "justify_items": null,
            "left": null,
            "margin": null,
            "max_height": null,
            "max_width": null,
            "min_height": null,
            "min_width": null,
            "object_fit": null,
            "object_position": null,
            "order": null,
            "overflow": null,
            "overflow_x": null,
            "overflow_y": null,
            "padding": null,
            "right": null,
            "top": null,
            "visibility": null,
            "width": null
          }
        },
        "e5f609d97758439c81d72c438f45ee58": {
          "model_module": "@jupyter-widgets/controls",
          "model_module_version": "1.5.0",
          "model_name": "ProgressStyleModel",
          "state": {
            "_model_module": "@jupyter-widgets/controls",
            "_model_module_version": "1.5.0",
            "_model_name": "ProgressStyleModel",
            "_view_count": null,
            "_view_module": "@jupyter-widgets/base",
            "_view_module_version": "1.2.0",
            "_view_name": "StyleView",
            "bar_color": null,
            "description_width": ""
          }
        },
        "efc2c9ca8494440bb73381fc8cf812ee": {
          "model_module": "@jupyter-widgets/controls",
          "model_module_version": "1.5.0",
          "model_name": "DescriptionStyleModel",
          "state": {
            "_model_module": "@jupyter-widgets/controls",
            "_model_module_version": "1.5.0",
            "_model_name": "DescriptionStyleModel",
            "_view_count": null,
            "_view_module": "@jupyter-widgets/base",
            "_view_module_version": "1.2.0",
            "_view_name": "StyleView",
            "description_width": ""
          }
        }
      }
    }
  },
  "nbformat": 4,
  "nbformat_minor": 0
}